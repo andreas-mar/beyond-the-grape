{
 "cells": [
  {
   "cell_type": "markdown",
   "metadata": {
    "id": "weHPzCLLt6Pa"
   },
   "source": [
    "# Analysis broken down:\n",
    "\n",
    "**Goal:** Use reviews to perform binary classification on whether a vintage is either average/good or best in class.\n",
    "\n",
    "**Target variable Rating has two classes: 0 (3.0-4.0 starts) if average and 1 (4.5-5.0 stars) if great.**\n",
    "\n",
    "**Make class split based on 75 percentile**.\n",
    "\n",
    "- Preprocess text.\n",
    "-- Filter english, remove punctuations emojis etc.\n",
    "-- Keep numbers?\n",
    "\n",
    "- Tokenization\n",
    "-- Use Spacy to tokenize.\n",
    "-- Remove stop words, lemmatize, only if text pos_ is ['NOUN', 'PROPN', 'ADJ', 'ADV'].\n",
    "-- Consider adding verbs?\n",
    "\n",
    "- **Nice to have: Word counts**. Look at which words overlap the most and which words overlap the least between classes.\n",
    "\n",
    "- Dictionary and BoW representation\n",
    "-- Based on counts and tfidf.\n",
    "-- Sklearn does a very poor job at this, therefore Gensim is used.\n",
    "\n",
    "-- Train regular ML models on BoW"
   ]
  },
  {
   "cell_type": "markdown",
   "metadata": {
    "id": "dsMe8hZM4Jbq"
   },
   "source": [
    "# Preprocessing of reviews"
   ]
  },
  {
   "cell_type": "code",
   "execution_count": null,
   "metadata": {
    "id": "aPz62geyEzNp"
   },
   "outputs": [],
   "source": [
    "%%capture\n",
    "! pip install langdetect\n",
    "! pip install emot"
   ]
  },
  {
   "cell_type": "code",
   "execution_count": null,
   "metadata": {
    "colab": {
     "base_uri": "https://localhost:8080/",
     "height": 380
    },
    "executionInfo": {
     "elapsed": 8919,
     "status": "ok",
     "timestamp": 1606136780154,
     "user": {
      "displayName": "Christian Stolborg",
      "photoUrl": "",
      "userId": "15409349448965301108"
     },
     "user_tz": -60
    },
    "id": "lPsp4n0-DrBC",
    "outputId": "706a793c-f73c-432e-9a27-985cd42c00f0"
   },
   "outputs": [
    {
     "data": {
      "text/html": [
       "<div>\n",
       "<style scoped>\n",
       "    .dataframe tbody tr th:only-of-type {\n",
       "        vertical-align: middle;\n",
       "    }\n",
       "\n",
       "    .dataframe tbody tr th {\n",
       "        vertical-align: top;\n",
       "    }\n",
       "\n",
       "    .dataframe thead th {\n",
       "        text-align: right;\n",
       "    }\n",
       "</style>\n",
       "<table border=\"1\" class=\"dataframe\">\n",
       "  <thead>\n",
       "    <tr style=\"text-align: right;\">\n",
       "      <th></th>\n",
       "      <th>Unnamed: 0</th>\n",
       "      <th>Unnamed: 0.1</th>\n",
       "      <th>rating</th>\n",
       "      <th>note</th>\n",
       "      <th>created_at</th>\n",
       "      <th>vintage_id</th>\n",
       "      <th>wine_id</th>\n",
       "      <th>user_id</th>\n",
       "      <th>seo_name</th>\n",
       "      <th>ratings_count</th>\n",
       "      <th>reviews_count</th>\n",
       "      <th>ratings_sum</th>\n",
       "      <th>is_featured</th>\n",
       "      <th>followers_count</th>\n",
       "      <th>followings_count</th>\n",
       "      <th>average_ratings</th>\n",
       "      <th>net_follower_score</th>\n",
       "      <th>types</th>\n",
       "    </tr>\n",
       "    <tr>\n",
       "      <th>review_id</th>\n",
       "      <th></th>\n",
       "      <th></th>\n",
       "      <th></th>\n",
       "      <th></th>\n",
       "      <th></th>\n",
       "      <th></th>\n",
       "      <th></th>\n",
       "      <th></th>\n",
       "      <th></th>\n",
       "      <th></th>\n",
       "      <th></th>\n",
       "      <th></th>\n",
       "      <th></th>\n",
       "      <th></th>\n",
       "      <th></th>\n",
       "      <th></th>\n",
       "      <th></th>\n",
       "      <th></th>\n",
       "    </tr>\n",
       "  </thead>\n",
       "  <tbody>\n",
       "    <tr>\n",
       "      <th>65581154</th>\n",
       "      <td>0</td>\n",
       "      <td>0</td>\n",
       "      <td>3.0</td>\n",
       "      <td>Easy to drink, tastes like a lot of berries mi...</td>\n",
       "      <td>2017-04-01T08:54:16.000Z</td>\n",
       "      <td>22505105</td>\n",
       "      <td>1577018</td>\n",
       "      <td>1404201</td>\n",
       "      <td>valzevul</td>\n",
       "      <td>119</td>\n",
       "      <td>108</td>\n",
       "      <td>424.5</td>\n",
       "      <td>False</td>\n",
       "      <td>9</td>\n",
       "      <td>5</td>\n",
       "      <td>3.567227</td>\n",
       "      <td>1.800000</td>\n",
       "      <td>Red wine</td>\n",
       "    </tr>\n",
       "    <tr>\n",
       "      <th>157698730</th>\n",
       "      <td>1</td>\n",
       "      <td>1</td>\n",
       "      <td>4.5</td>\n",
       "      <td>My favorite so far from Pulenta Estate. Cherry...</td>\n",
       "      <td>2020-03-22T00:09:21.000Z</td>\n",
       "      <td>22124179</td>\n",
       "      <td>1153456</td>\n",
       "      <td>3278342</td>\n",
       "      <td>alexis-riv</td>\n",
       "      <td>782</td>\n",
       "      <td>600</td>\n",
       "      <td>3225.0</td>\n",
       "      <td>False</td>\n",
       "      <td>160</td>\n",
       "      <td>257</td>\n",
       "      <td>4.124041</td>\n",
       "      <td>0.622568</td>\n",
       "      <td>Red wine</td>\n",
       "    </tr>\n",
       "    <tr>\n",
       "      <th>129034690</th>\n",
       "      <td>2</td>\n",
       "      <td>2</td>\n",
       "      <td>4.5</td>\n",
       "      <td>Great structure and concentration, with raspbe...</td>\n",
       "      <td>2019-06-07T22:55:23.000Z</td>\n",
       "      <td>22124179</td>\n",
       "      <td>1153456</td>\n",
       "      <td>223051</td>\n",
       "      <td>bernardof</td>\n",
       "      <td>1355</td>\n",
       "      <td>1077</td>\n",
       "      <td>5078.5</td>\n",
       "      <td>False</td>\n",
       "      <td>158</td>\n",
       "      <td>165</td>\n",
       "      <td>3.747970</td>\n",
       "      <td>0.957576</td>\n",
       "      <td>Red wine</td>\n",
       "    </tr>\n",
       "  </tbody>\n",
       "</table>\n",
       "</div>"
      ],
      "text/plain": [
       "           Unnamed: 0  Unnamed: 0.1  ...  net_follower_score     types\n",
       "review_id                            ...                              \n",
       "65581154            0             0  ...            1.800000  Red wine\n",
       "157698730           1             1  ...            0.622568  Red wine\n",
       "129034690           2             2  ...            0.957576  Red wine\n",
       "\n",
       "[3 rows x 18 columns]"
      ]
     },
     "execution_count": 4,
     "metadata": {
      "tags": []
     },
     "output_type": "execute_result"
    }
   ],
   "source": [
    "import pandas as pd\n",
    "import numpy as np\n",
    "import seaborn as sns\n",
    "import matplotlib.pyplot as plt\n",
    "\n",
    "df = pd.read_csv('/content/drive/My Drive/CBS/DSBA/project_vivino/Data/finalized_data/all_reviews_and_users.csv', index_col='review_id')\n",
    "df.head(3)"
   ]
  },
  {
   "cell_type": "code",
   "execution_count": null,
   "metadata": {
    "colab": {
     "base_uri": "https://localhost:8080/",
     "height": 292
    },
    "executionInfo": {
     "elapsed": 7006,
     "status": "ok",
     "timestamp": 1606127332675,
     "user": {
      "displayName": "Christian Stolborg",
      "photoUrl": "",
      "userId": "15409349448965301108"
     },
     "user_tz": -60
    },
    "id": "n7dwjOgM3asD",
    "outputId": "0f9b0f77-3a54-402f-a67a-c9c5aad624c2"
   },
   "outputs": [
    {
     "data": {
      "text/html": [
       "<div>\n",
       "<style scoped>\n",
       "    .dataframe tbody tr th:only-of-type {\n",
       "        vertical-align: middle;\n",
       "    }\n",
       "\n",
       "    .dataframe tbody tr th {\n",
       "        vertical-align: top;\n",
       "    }\n",
       "\n",
       "    .dataframe thead th {\n",
       "        text-align: right;\n",
       "    }\n",
       "</style>\n",
       "<table border=\"1\" class=\"dataframe\">\n",
       "  <thead>\n",
       "    <tr style=\"text-align: right;\">\n",
       "      <th></th>\n",
       "      <th>note</th>\n",
       "      <th>types</th>\n",
       "      <th>rating</th>\n",
       "      <th>average_ratings</th>\n",
       "      <th>net_follower_score</th>\n",
       "    </tr>\n",
       "    <tr>\n",
       "      <th>review_id</th>\n",
       "      <th></th>\n",
       "      <th></th>\n",
       "      <th></th>\n",
       "      <th></th>\n",
       "      <th></th>\n",
       "    </tr>\n",
       "  </thead>\n",
       "  <tbody>\n",
       "    <tr>\n",
       "      <th>65581154</th>\n",
       "      <td>Easy to drink, tastes like a lot of berries mi...</td>\n",
       "      <td>Red wine</td>\n",
       "      <td>3.0</td>\n",
       "      <td>3.567227</td>\n",
       "      <td>1.800000</td>\n",
       "    </tr>\n",
       "    <tr>\n",
       "      <th>157698730</th>\n",
       "      <td>My favorite so far from Pulenta Estate. Cherry...</td>\n",
       "      <td>Red wine</td>\n",
       "      <td>4.5</td>\n",
       "      <td>4.124041</td>\n",
       "      <td>0.622568</td>\n",
       "    </tr>\n",
       "    <tr>\n",
       "      <th>129034690</th>\n",
       "      <td>Great structure and concentration, with raspbe...</td>\n",
       "      <td>Red wine</td>\n",
       "      <td>4.5</td>\n",
       "      <td>3.747970</td>\n",
       "      <td>0.957576</td>\n",
       "    </tr>\n",
       "  </tbody>\n",
       "</table>\n",
       "</div>"
      ],
      "text/plain": [
       "                                                        note  ... net_follower_score\n",
       "review_id                                                     ...                   \n",
       "65581154   Easy to drink, tastes like a lot of berries mi...  ...           1.800000\n",
       "157698730  My favorite so far from Pulenta Estate. Cherry...  ...           0.622568\n",
       "129034690  Great structure and concentration, with raspbe...  ...           0.957576\n",
       "\n",
       "[3 rows x 5 columns]"
      ]
     },
     "metadata": {
      "tags": []
     },
     "output_type": "display_data"
    },
    {
     "name": "stdout",
     "output_type": "stream",
     "text": [
      "0 Easy to drink, tastes like a lot of berries mixed with a decent grape juice \n",
      "1 My favorite so far from Pulenta Estate. Cherry 🍒, plums, oak and spice at the end. Balanced tannins with not overpowering acidity. Cheers 🍷🍷🍷🍷🍷\n",
      "2 Great structure and concentration, with raspberries, blueberries, licorice, lavander and dark chocolate. Full bodied with good balance and rosted expresso aftertaste.\n",
      "3 As said before this wine is spectacular, one of the best gems of Argentina 🇦🇷.\n",
      "Highly recommended.\n",
      "4 Smokey and peppery medium acidity mild dark fruits. Beautiful Malbec!\n"
     ]
    },
    {
     "data": {
      "text/plain": [
       "[None, None, None, None, None]"
      ]
     },
     "execution_count": 3,
     "metadata": {
      "tags": []
     },
     "output_type": "execute_result"
    }
   ],
   "source": [
    "df['net_follower_score'] = df['net_follower_score'].replace(np.inf, np.nan)\n",
    "df = df[['note', 'types', 'rating', 'average_ratings', 'net_follower_score']].dropna(how='any')\n",
    "#df = df.sample(1000, random_state=42)\n",
    "\n",
    "display(df.head(3))\n",
    "[print(i,row) for i,row in enumerate(df['note'][:5])]"
   ]
  },
  {
   "cell_type": "markdown",
   "metadata": {
    "id": "S3OndWGlG7qI"
   },
   "source": [
    "## Language detection:\n",
    "\n",
    "Overall, the language detection algorithm has some misclassifications as it is mislabelling english reviews as other languages. However, it is quite good with spanish languages, and it is only 373 observations so we will remove all these."
   ]
  },
  {
   "cell_type": "code",
   "execution_count": null,
   "metadata": {
    "id": "Hdr4MUUCAxaa"
   },
   "outputs": [],
   "source": [
    "from langdetect import detect, detect_langs\n",
    "\n",
    "df['lang'] = df.apply(lambda row: detect(row['note']), axis=1)\n",
    "\n",
    "df[df['lang'] != 'en']\n",
    "df = df[df['lang'] == 'en'] # Only keep english reviews\n",
    "\n",
    "#df.to_csv('/content/drive/MyDrive/CBS/DSBA/project_vivino/NLP/reviews_lang_full.csv')"
   ]
  },
  {
   "cell_type": "markdown",
   "metadata": {
    "id": "teLJaQPXKH_x"
   },
   "source": [
    "## Remove punctuation and Emojis to text"
   ]
  },
  {
   "cell_type": "code",
   "execution_count": null,
   "metadata": {
    "id": "-Ri8d9Fbcz-b"
   },
   "outputs": [],
   "source": [
    "df = pd.read_csv('/content/drive/MyDrive/CBS/DSBA/project_vivino/NLP/reviews_lang_full.csv')"
   ]
  },
  {
   "cell_type": "code",
   "execution_count": null,
   "metadata": {
    "colab": {
     "base_uri": "https://localhost:8080/",
     "height": 111
    },
    "executionInfo": {
     "elapsed": 20102,
     "status": "ok",
     "timestamp": 1606136806774,
     "user": {
      "displayName": "Christian Stolborg",
      "photoUrl": "",
      "userId": "15409349448965301108"
     },
     "user_tz": -60
    },
    "id": "NpKr5FTaLQ1b",
    "outputId": "6f6e2821-9d53-40eb-ac36-b8908c414e46"
   },
   "outputs": [
    {
     "data": {
      "text/html": [
       "<div>\n",
       "<style scoped>\n",
       "    .dataframe tbody tr th:only-of-type {\n",
       "        vertical-align: middle;\n",
       "    }\n",
       "\n",
       "    .dataframe tbody tr th {\n",
       "        vertical-align: top;\n",
       "    }\n",
       "\n",
       "    .dataframe thead th {\n",
       "        text-align: right;\n",
       "    }\n",
       "</style>\n",
       "<table border=\"1\" class=\"dataframe\">\n",
       "  <thead>\n",
       "    <tr style=\"text-align: right;\">\n",
       "      <th></th>\n",
       "      <th>review_id</th>\n",
       "      <th>note</th>\n",
       "      <th>types</th>\n",
       "      <th>rating</th>\n",
       "      <th>average_ratings</th>\n",
       "      <th>net_follower_score</th>\n",
       "      <th>lang</th>\n",
       "      <th>note_clean</th>\n",
       "    </tr>\n",
       "  </thead>\n",
       "  <tbody>\n",
       "    <tr>\n",
       "      <th>0</th>\n",
       "      <td>65581154</td>\n",
       "      <td>Easy to drink, tastes like a lot of berries mi...</td>\n",
       "      <td>Red wine</td>\n",
       "      <td>3.0</td>\n",
       "      <td>3.567227</td>\n",
       "      <td>1.800000</td>\n",
       "      <td>en</td>\n",
       "      <td>Easy to drink tastes like a lot of berries mix...</td>\n",
       "    </tr>\n",
       "    <tr>\n",
       "      <th>1</th>\n",
       "      <td>157698730</td>\n",
       "      <td>My favorite so far from Pulenta Estate. Cherry...</td>\n",
       "      <td>Red wine</td>\n",
       "      <td>4.5</td>\n",
       "      <td>4.124041</td>\n",
       "      <td>0.622568</td>\n",
       "      <td>en</td>\n",
       "      <td>My favorite so far from Pulenta Estate Cherry ...</td>\n",
       "    </tr>\n",
       "  </tbody>\n",
       "</table>\n",
       "</div>"
      ],
      "text/plain": [
       "   review_id  ...                                         note_clean\n",
       "0   65581154  ...  Easy to drink tastes like a lot of berries mix...\n",
       "1  157698730  ...  My favorite so far from Pulenta Estate Cherry ...\n",
       "\n",
       "[2 rows x 8 columns]"
      ]
     },
     "execution_count": 6,
     "metadata": {
      "tags": []
     },
     "output_type": "execute_result"
    }
   ],
   "source": [
    "import spacy\n",
    "import re\n",
    "import string\n",
    "nlp = spacy.load('en')\n",
    "\n",
    "# Remove punctuation\n",
    "exclude = set(string.punctuation)\n",
    "df['note_clean'] = df.apply(lambda row:''.join(ch for ch in row['note'] if ch not in exclude), axis=1)\n",
    "\n",
    "# Function to remove emoji.\n",
    "def remove_emoji(string):\n",
    "    emoji_pattern = re.compile(\"[\"\n",
    "                           u\"\\U0001F600-\\U0001F64F\"  # emoticons\n",
    "                           u\"\\U0001F300-\\U0001F5FF\"  # symbols & pictographs\n",
    "                           u\"\\U0001F680-\\U0001F6FF\"  # transport & map symbols\n",
    "                           u\"\\U0001F1E0-\\U0001F1FF\"  # flags (iOS)\n",
    "                           u\"\\U00002702-\\U000027B0\"\n",
    "                           u\"\\U000024C2-\\U0001F251\"\n",
    "                           \"]+\", flags=re.UNICODE)\n",
    "    return emoji_pattern.sub(r'', string)\n",
    "\n",
    "#passing the emoji function to 'text_rare'\n",
    "df['note_clean'] = df['note_clean'].apply(remove_emoji)\n",
    "\n",
    "\n",
    "from emot.emo_unicode import UNICODE_EMO, EMOTICONS\n",
    "# Function for removing emoticons\n",
    "def remove_emoticons(text):\n",
    "    emoticon_pattern = re.compile(u'(' + u'|'.join(k for k in EMOTICONS) + u')')\n",
    "    return emoticon_pattern.sub(r'', text)\n",
    "remove_emoticons(\"Hello :-)\")\n",
    "# applying remove_emoticons to 'text_rare'\n",
    "df['note_clean'] = df['note_clean'].apply(remove_emoticons)\n",
    "\n",
    "\n",
    "# Function for url's\n",
    "def remove_urls(text):\n",
    "    url_pattern = re.compile(r'https?://\\S+|www\\.\\S+')\n",
    "    return url_pattern.sub(r'', text)\n",
    "\n",
    "\n",
    "#Passing the function to 'text_rare'\n",
    "df['note_clean'] = df['note_clean'].apply(remove_urls)\n",
    "\n",
    "\n",
    "df.head(2)"
   ]
  },
  {
   "cell_type": "markdown",
   "metadata": {
    "id": "4h5jZmN9lrg2"
   },
   "source": [
    "## Create bins"
   ]
  },
  {
   "cell_type": "code",
   "execution_count": null,
   "metadata": {
    "colab": {
     "base_uri": "https://localhost:8080/",
     "height": 542
    },
    "executionInfo": {
     "elapsed": 20033,
     "status": "ok",
     "timestamp": 1606136808776,
     "user": {
      "displayName": "Christian Stolborg",
      "photoUrl": "",
      "userId": "15409349448965301108"
     },
     "user_tz": -60
    },
    "id": "smLlPKMTtmgy",
    "outputId": "864ab503-8b9f-469f-b389-1d7b0621c311"
   },
   "outputs": [
    {
     "data": {
      "text/html": [
       "<div>\n",
       "<style scoped>\n",
       "    .dataframe tbody tr th:only-of-type {\n",
       "        vertical-align: middle;\n",
       "    }\n",
       "\n",
       "    .dataframe tbody tr th {\n",
       "        vertical-align: top;\n",
       "    }\n",
       "\n",
       "    .dataframe thead th {\n",
       "        text-align: right;\n",
       "    }\n",
       "</style>\n",
       "<table border=\"1\" class=\"dataframe\">\n",
       "  <thead>\n",
       "    <tr style=\"text-align: right;\">\n",
       "      <th></th>\n",
       "      <th>count</th>\n",
       "      <th>mean</th>\n",
       "      <th>std</th>\n",
       "      <th>min</th>\n",
       "      <th>25%</th>\n",
       "      <th>50%</th>\n",
       "      <th>75%</th>\n",
       "      <th>max</th>\n",
       "    </tr>\n",
       "    <tr>\n",
       "      <th>ratings_cut</th>\n",
       "      <th></th>\n",
       "      <th></th>\n",
       "      <th></th>\n",
       "      <th></th>\n",
       "      <th></th>\n",
       "      <th></th>\n",
       "      <th></th>\n",
       "      <th></th>\n",
       "    </tr>\n",
       "  </thead>\n",
       "  <tbody>\n",
       "    <tr>\n",
       "      <th>2</th>\n",
       "      <td>3310.0</td>\n",
       "      <td>2.238973</td>\n",
       "      <td>0.407868</td>\n",
       "      <td>1.0</td>\n",
       "      <td>2.0</td>\n",
       "      <td>2.5</td>\n",
       "      <td>2.5</td>\n",
       "      <td>2.5</td>\n",
       "    </tr>\n",
       "    <tr>\n",
       "      <th>0</th>\n",
       "      <td>95902.0</td>\n",
       "      <td>3.755094</td>\n",
       "      <td>0.342555</td>\n",
       "      <td>3.0</td>\n",
       "      <td>3.5</td>\n",
       "      <td>4.0</td>\n",
       "      <td>4.0</td>\n",
       "      <td>4.0</td>\n",
       "    </tr>\n",
       "    <tr>\n",
       "      <th>1</th>\n",
       "      <td>22381.0</td>\n",
       "      <td>4.583397</td>\n",
       "      <td>0.186400</td>\n",
       "      <td>4.5</td>\n",
       "      <td>4.5</td>\n",
       "      <td>4.5</td>\n",
       "      <td>4.5</td>\n",
       "      <td>5.0</td>\n",
       "    </tr>\n",
       "  </tbody>\n",
       "</table>\n",
       "</div>"
      ],
      "text/plain": [
       "               count      mean       std  min  25%  50%  75%  max\n",
       "ratings_cut                                                      \n",
       "2             3310.0  2.238973  0.407868  1.0  2.0  2.5  2.5  2.5\n",
       "0            95902.0  3.755094  0.342555  3.0  3.5  4.0  4.0  4.0\n",
       "1            22381.0  4.583397  0.186400  4.5  4.5  4.5  4.5  5.0"
      ]
     },
     "metadata": {
      "tags": []
     },
     "output_type": "display_data"
    },
    {
     "data": {
      "text/plain": [
       "<seaborn.axisgrid.FacetGrid at 0x7f0f4283ca58>"
      ]
     },
     "execution_count": 7,
     "metadata": {
      "tags": []
     },
     "output_type": "execute_result"
    },
    {
     "data": {
      "image/png": "[encoded data removed]",
      "text/plain": [
       "<Figure size 423.75x360 with 1 Axes>"
      ]
     },
     "metadata": {
      "needs_background": "light",
      "tags": []
     },
     "output_type": "display_data"
    }
   ],
   "source": [
    "cut_labels = [2,0,1] # Worst wines map to 2, regular to 0 and great to 1\n",
    "cut_bins = [0, 2.5, 4.0, 5.0]\n",
    "df['ratings_cut'] = pd.cut(df['rating'], bins=cut_bins, labels=cut_labels)\n",
    "\n",
    "display(df.groupby('ratings_cut')['rating'].describe() )\n",
    "sns.displot(df, x=\"rating\", hue=\"ratings_cut\")"
   ]
  },
  {
   "cell_type": "code",
   "execution_count": null,
   "metadata": {
    "id": "yzTJKUw4tpQr"
   },
   "outputs": [],
   "source": [
    "df = df[df['ratings_cut'] != 2]\n",
    "\n",
    "ratings_dist = np.bincount(df['ratings_cut'])\n",
    "class_weight = {0: (1 / ratings_dist[0]),\n",
    "                1: (1 / ratings_dist[1] )\n",
    "                }"
   ]
  },
  {
   "cell_type": "markdown",
   "metadata": {
    "id": "jK1UX8gvxIM2"
   },
   "source": [
    "## Visualize word dependencies & Tokenize"
   ]
  },
  {
   "cell_type": "code",
   "execution_count": null,
   "metadata": {
    "id": "2G_AtNc6xNbV"
   },
   "outputs": [],
   "source": [
    "text_list = []\n",
    "\n",
    "for text in nlp.pipe(df['note_clean']):\n",
    "    text_info = [(token.lemma_, token.pos_, token.dep_) for token in text if not token.is_stop and token.pos_ != 'SPACE']\n",
    "    text_list.append(text_info)\n",
    "\n",
    "# Transform to DF\n",
    "word_df = pd.DataFrame([t for lst in text_list for t in lst], columns = ['token', 'pos', 'dep'])\n",
    "\n",
    "# Get a count of token occurence and add that as column.\n",
    "\n",
    "word_df = pd.merge(word_df, word_df.groupby('token').count()['pos'],\n",
    "                   how='left', left_on='token', right_index=True).rename({'pos_x': 'pos',\n",
    "                                                                          'pos_y': 'token_count'}, axis=1)\n",
    "word_df = word_df.drop_duplicates(subset='token').sort_values('token_count', ascending=False)"
   ]
  },
  {
   "cell_type": "code",
   "execution_count": null,
   "metadata": {
    "colab": {
     "base_uri": "https://localhost:8080/",
     "height": 376
    },
    "executionInfo": {
     "elapsed": 366020,
     "status": "ok",
     "timestamp": 1606137251849,
     "user": {
      "displayName": "Christian Stolborg",
      "photoUrl": "",
      "userId": "15409349448965301108"
     },
     "user_tz": -60
    },
    "id": "WA1zxHOrSmdA",
    "outputId": "824c9db5-4704-478d-dcb6-d45a895c33e7"
   },
   "outputs": [
    {
     "name": "stdout",
     "output_type": "stream",
     "text": [
      "Number of unique tokens: 60274\n"
     ]
    },
    {
     "data": {
      "text/html": [
       "<div>\n",
       "<style scoped>\n",
       "    .dataframe tbody tr th:only-of-type {\n",
       "        vertical-align: middle;\n",
       "    }\n",
       "\n",
       "    .dataframe tbody tr th {\n",
       "        vertical-align: top;\n",
       "    }\n",
       "\n",
       "    .dataframe thead th {\n",
       "        text-align: right;\n",
       "    }\n",
       "</style>\n",
       "<table border=\"1\" class=\"dataframe\">\n",
       "  <thead>\n",
       "    <tr style=\"text-align: right;\">\n",
       "      <th></th>\n",
       "      <th>token</th>\n",
       "      <th>pos</th>\n",
       "      <th>dep</th>\n",
       "      <th>token_count</th>\n",
       "    </tr>\n",
       "  </thead>\n",
       "  <tbody>\n",
       "    <tr>\n",
       "      <th>40</th>\n",
       "      <td>wine</td>\n",
       "      <td>NOUN</td>\n",
       "      <td>nsubj</td>\n",
       "      <td>37295</td>\n",
       "    </tr>\n",
       "    <tr>\n",
       "      <th>53</th>\n",
       "      <td>fruit</td>\n",
       "      <td>NOUN</td>\n",
       "      <td>dobj</td>\n",
       "      <td>33475</td>\n",
       "    </tr>\n",
       "    <tr>\n",
       "      <th>34</th>\n",
       "      <td>good</td>\n",
       "      <td>ADJ</td>\n",
       "      <td>amod</td>\n",
       "      <td>29889</td>\n",
       "    </tr>\n",
       "    <tr>\n",
       "      <th>138</th>\n",
       "      <td>finish</td>\n",
       "      <td>NOUN</td>\n",
       "      <td>ROOT</td>\n",
       "      <td>25536</td>\n",
       "    </tr>\n",
       "    <tr>\n",
       "      <th>64</th>\n",
       "      <td>nose</td>\n",
       "      <td>NOUN</td>\n",
       "      <td>pobj</td>\n",
       "      <td>22183</td>\n",
       "    </tr>\n",
       "    <tr>\n",
       "      <th>59</th>\n",
       "      <td>red</td>\n",
       "      <td>NOUN</td>\n",
       "      <td>ROOT</td>\n",
       "      <td>21455</td>\n",
       "    </tr>\n",
       "    <tr>\n",
       "      <th>63</th>\n",
       "      <td>cherry</td>\n",
       "      <td>NOUN</td>\n",
       "      <td>ROOT</td>\n",
       "      <td>21212</td>\n",
       "    </tr>\n",
       "    <tr>\n",
       "      <th>20</th>\n",
       "      <td>tannin</td>\n",
       "      <td>NOUN</td>\n",
       "      <td>ROOT</td>\n",
       "      <td>20613</td>\n",
       "    </tr>\n",
       "    <tr>\n",
       "      <th>111</th>\n",
       "      <td>nice</td>\n",
       "      <td>ADJ</td>\n",
       "      <td>amod</td>\n",
       "      <td>18838</td>\n",
       "    </tr>\n",
       "    <tr>\n",
       "      <th>22</th>\n",
       "      <td>acidity</td>\n",
       "      <td>NOUN</td>\n",
       "      <td>compound</td>\n",
       "      <td>17436</td>\n",
       "    </tr>\n",
       "  </tbody>\n",
       "</table>\n",
       "</div>"
      ],
      "text/plain": [
       "       token   pos       dep  token_count\n",
       "40      wine  NOUN     nsubj        37295\n",
       "53     fruit  NOUN      dobj        33475\n",
       "34      good   ADJ      amod        29889\n",
       "138   finish  NOUN      ROOT        25536\n",
       "64      nose  NOUN      pobj        22183\n",
       "59       red  NOUN      ROOT        21455\n",
       "63    cherry  NOUN      ROOT        21212\n",
       "20    tannin  NOUN      ROOT        20613\n",
       "111     nice   ADJ      amod        18838\n",
       "22   acidity  NOUN  compound        17436"
      ]
     },
     "execution_count": 10,
     "metadata": {
      "tags": []
     },
     "output_type": "execute_result"
    }
   ],
   "source": [
    "#word_df.to_csv('/content/drive/MyDrive/CBS/DSBA/project_vivino/NLP/word_df_full.csv')\n",
    "print('Number of unique tokens:', len(word_df['token'].unique()) )  \n",
    "word_df.head(10)"
   ]
  },
  {
   "cell_type": "code",
   "execution_count": null,
   "metadata": {
    "colab": {
     "base_uri": "https://localhost:8080/",
     "height": 576
    },
    "executionInfo": {
     "elapsed": 1016,
     "status": "ok",
     "timestamp": 1606137921675,
     "user": {
      "displayName": "Christian Stolborg",
      "photoUrl": "",
      "userId": "15409349448965301108"
     },
     "user_tz": -60
    },
    "id": "aZf5bEcyhWBL",
    "outputId": "a601a0a9-025d-42df-f850-052e0f5d0c55"
   },
   "outputs": [
    {
     "data": {
      "text/html": [
       "<div>\n",
       "<style scoped>\n",
       "    .dataframe tbody tr th:only-of-type {\n",
       "        vertical-align: middle;\n",
       "    }\n",
       "\n",
       "    .dataframe tbody tr th {\n",
       "        vertical-align: top;\n",
       "    }\n",
       "\n",
       "    .dataframe thead th {\n",
       "        text-align: right;\n",
       "    }\n",
       "</style>\n",
       "<table border=\"1\" class=\"dataframe\">\n",
       "  <thead>\n",
       "    <tr style=\"text-align: right;\">\n",
       "      <th></th>\n",
       "      <th>token</th>\n",
       "      <th>dep</th>\n",
       "      <th>token_count</th>\n",
       "    </tr>\n",
       "    <tr>\n",
       "      <th>pos</th>\n",
       "      <th></th>\n",
       "      <th></th>\n",
       "      <th></th>\n",
       "    </tr>\n",
       "  </thead>\n",
       "  <tbody>\n",
       "    <tr>\n",
       "      <th>ADJ</th>\n",
       "      <td>🧻</td>\n",
       "      <td>xcomp</td>\n",
       "      <td>29889</td>\n",
       "    </tr>\n",
       "    <tr>\n",
       "      <th>ADP</th>\n",
       "      <td>🦆</td>\n",
       "      <td>punct</td>\n",
       "      <td>2237</td>\n",
       "    </tr>\n",
       "    <tr>\n",
       "      <th>ADV</th>\n",
       "      <td>⏺</td>\n",
       "      <td>xcomp</td>\n",
       "      <td>6565</td>\n",
       "    </tr>\n",
       "    <tr>\n",
       "      <th>CCONJ</th>\n",
       "      <td>„</td>\n",
       "      <td>punct</td>\n",
       "      <td>1797</td>\n",
       "    </tr>\n",
       "    <tr>\n",
       "      <th>DET</th>\n",
       "      <td>•this</td>\n",
       "      <td>punct</td>\n",
       "      <td>40</td>\n",
       "    </tr>\n",
       "    <tr>\n",
       "      <th>INTJ</th>\n",
       "      <td>🦵</td>\n",
       "      <td>pobj</td>\n",
       "      <td>1188</td>\n",
       "    </tr>\n",
       "    <tr>\n",
       "      <th>NOUN</th>\n",
       "      <td>🧼</td>\n",
       "      <td>xcomp</td>\n",
       "      <td>37295</td>\n",
       "    </tr>\n",
       "    <tr>\n",
       "      <th>NUM</th>\n",
       "      <td>🦦</td>\n",
       "      <td>quantmod</td>\n",
       "      <td>2146</td>\n",
       "    </tr>\n",
       "    <tr>\n",
       "      <th>PART</th>\n",
       "      <td>🥨</td>\n",
       "      <td>punct</td>\n",
       "      <td>3126</td>\n",
       "    </tr>\n",
       "    <tr>\n",
       "      <th>PRON</th>\n",
       "      <td>μ</td>\n",
       "      <td>pobj</td>\n",
       "      <td>53</td>\n",
       "    </tr>\n",
       "    <tr>\n",
       "      <th>PROPN</th>\n",
       "      <td>󠁧󠁢󠁥󠁮󠁧󠁿</td>\n",
       "      <td>xcomp</td>\n",
       "      <td>9542</td>\n",
       "    </tr>\n",
       "    <tr>\n",
       "      <th>PUNCT</th>\n",
       "      <td>🧿</td>\n",
       "      <td>punct</td>\n",
       "      <td>1630</td>\n",
       "    </tr>\n",
       "    <tr>\n",
       "      <th>SCONJ</th>\n",
       "      <td>whilst</td>\n",
       "      <td>prep</td>\n",
       "      <td>8813</td>\n",
       "    </tr>\n",
       "    <tr>\n",
       "      <th>SYM</th>\n",
       "      <td>€</td>\n",
       "      <td>pobj</td>\n",
       "      <td>520</td>\n",
       "    </tr>\n",
       "    <tr>\n",
       "      <th>VERB</th>\n",
       "      <td>🦉</td>\n",
       "      <td>xcomp</td>\n",
       "      <td>14796</td>\n",
       "    </tr>\n",
       "    <tr>\n",
       "      <th>X</th>\n",
       "      <td>🩸</td>\n",
       "      <td>relcl</td>\n",
       "      <td>182</td>\n",
       "    </tr>\n",
       "  </tbody>\n",
       "</table>\n",
       "</div>"
      ],
      "text/plain": [
       "        token       dep  token_count\n",
       "pos                                 \n",
       "ADJ         🧻     xcomp        29889\n",
       "ADP         🦆     punct         2237\n",
       "ADV         ⏺     xcomp         6565\n",
       "CCONJ       „     punct         1797\n",
       "DET     •this     punct           40\n",
       "INTJ        🦵      pobj         1188\n",
       "NOUN        🧼     xcomp        37295\n",
       "NUM         🦦  quantmod         2146\n",
       "PART        🥨     punct         3126\n",
       "PRON        μ      pobj           53\n",
       "PROPN  󠁧󠁢󠁥󠁮󠁧󠁿     xcomp         9542\n",
       "PUNCT       🧿     punct         1630\n",
       "SCONJ  whilst      prep         8813\n",
       "SYM         €      pobj          520\n",
       "VERB        🦉     xcomp        14796\n",
       "X           🩸     relcl          182"
      ]
     },
     "execution_count": 24,
     "metadata": {
      "tags": []
     },
     "output_type": "execute_result"
    }
   ],
   "source": [
    "word_df.groupby('pos').max()"
   ]
  },
  {
   "cell_type": "code",
   "execution_count": null,
   "metadata": {
    "colab": {
     "base_uri": "https://localhost:8080/",
     "height": 86
    },
    "executionInfo": {
     "elapsed": 882,
     "status": "ok",
     "timestamp": 1606137918313,
     "user": {
      "displayName": "Christian Stolborg",
      "photoUrl": "",
      "userId": "15409349448965301108"
     },
     "user_tz": -60
    },
    "id": "PZfrkjWndPcy",
    "outputId": "1030bf0b-f0dd-4155-e9a7-7c6b5089c4e8"
   },
   "outputs": [
    {
     "data": {
      "application/vnd.google.colaboratory.intrinsic+json": {
       "type": "string"
      },
      "text/plain": [
       "'\\\\begin{tabular}{lllr}\\n\\\\toprule\\n   token &   pos &       dep &  token\\\\_count \\\\\\\\\\n\\\\midrule\\n    wine &  NOUN &     nsubj &        37295 \\\\\\\\\\n   fruit &  NOUN &      dobj &        33475 \\\\\\\\\\n    good &   ADJ &      amod &        29889 \\\\\\\\\\n  finish &  NOUN &      ROOT &        25536 \\\\\\\\\\n    nose &  NOUN &      pobj &        22183 \\\\\\\\\\n     red &  NOUN &      ROOT &        21455 \\\\\\\\\\n  cherry &  NOUN &      ROOT &        21212 \\\\\\\\\\n  tannin &  NOUN &      ROOT &        20613 \\\\\\\\\\n    nice &   ADJ &      amod &        18838 \\\\\\\\\\n acidity &  NOUN &  compound &        17436 \\\\\\\\\\n\\\\bottomrule\\n\\\\end{tabular}\\n'"
      ]
     },
     "execution_count": 23,
     "metadata": {
      "tags": []
     },
     "output_type": "execute_result"
    }
   ],
   "source": [
    "word_df.head(10).to_latex(index=False)"
   ]
  },
  {
   "cell_type": "markdown",
   "metadata": {
    "id": "nkjurXITLOSF"
   },
   "source": [
    "## Tokenization"
   ]
  },
  {
   "cell_type": "code",
   "execution_count": null,
   "metadata": {
    "id": "sdA4mS2JOrIc"
   },
   "outputs": [],
   "source": [
    "tokens = []\n",
    "\n",
    "for text in nlp.pipe(df['note_clean']):\n",
    "    text_tok = [token.lemma_.lower() for token in text if token.pos_ in ['NOUN', 'PROPN', 'ADJ', 'ADV'] and not token.is_stop]\n",
    "    tokens.append(text_tok)\n",
    "\n",
    "df['tokens'] = tokens\n",
    "df['token_string'] = df['tokens'].map(lambda row: ' '.join(row))"
   ]
  },
  {
   "cell_type": "code",
   "execution_count": null,
   "metadata": {
    "colab": {
     "base_uri": "https://localhost:8080/",
     "height": 210
    },
    "executionInfo": {
     "elapsed": 734935,
     "status": "ok",
     "timestamp": 1606137624516,
     "user": {
      "displayName": "Christian Stolborg",
      "photoUrl": "",
      "userId": "15409349448965301108"
     },
     "user_tz": -60
    },
    "id": "mowGY1n3S_T4",
    "outputId": "a42a19bf-b544-4e84-b6b3-1e8794621f68"
   },
   "outputs": [
    {
     "data": {
      "text/html": [
       "<div>\n",
       "<style scoped>\n",
       "    .dataframe tbody tr th:only-of-type {\n",
       "        vertical-align: middle;\n",
       "    }\n",
       "\n",
       "    .dataframe tbody tr th {\n",
       "        vertical-align: top;\n",
       "    }\n",
       "\n",
       "    .dataframe thead th {\n",
       "        text-align: right;\n",
       "    }\n",
       "</style>\n",
       "<table border=\"1\" class=\"dataframe\">\n",
       "  <thead>\n",
       "    <tr style=\"text-align: right;\">\n",
       "      <th></th>\n",
       "      <th>review_id</th>\n",
       "      <th>note</th>\n",
       "      <th>types</th>\n",
       "      <th>rating</th>\n",
       "      <th>average_ratings</th>\n",
       "      <th>net_follower_score</th>\n",
       "      <th>lang</th>\n",
       "      <th>note_clean</th>\n",
       "      <th>ratings_cut</th>\n",
       "      <th>tokens</th>\n",
       "      <th>token_string</th>\n",
       "    </tr>\n",
       "  </thead>\n",
       "  <tbody>\n",
       "    <tr>\n",
       "      <th>0</th>\n",
       "      <td>65581154</td>\n",
       "      <td>Easy to drink, tastes like a lot of berries mi...</td>\n",
       "      <td>Red wine</td>\n",
       "      <td>3.0</td>\n",
       "      <td>3.567227</td>\n",
       "      <td>1.800000</td>\n",
       "      <td>en</td>\n",
       "      <td>Easy to drink tastes like a lot of berries mix...</td>\n",
       "      <td>0</td>\n",
       "      <td>[easy, taste, lot, berry, decent, grape, juice]</td>\n",
       "      <td>easy taste lot berry decent grape juice</td>\n",
       "    </tr>\n",
       "    <tr>\n",
       "      <th>1</th>\n",
       "      <td>157698730</td>\n",
       "      <td>My favorite so far from Pulenta Estate. Cherry...</td>\n",
       "      <td>Red wine</td>\n",
       "      <td>4.5</td>\n",
       "      <td>4.124041</td>\n",
       "      <td>0.622568</td>\n",
       "      <td>en</td>\n",
       "      <td>My favorite so far from Pulenta Estate Cherry ...</td>\n",
       "      <td>1</td>\n",
       "      <td>[favorite, far, pulenta, estate, cherry, plum,...</td>\n",
       "      <td>favorite far pulenta estate cherry plum oak sp...</td>\n",
       "    </tr>\n",
       "    <tr>\n",
       "      <th>2</th>\n",
       "      <td>129034690</td>\n",
       "      <td>Great structure and concentration, with raspbe...</td>\n",
       "      <td>Red wine</td>\n",
       "      <td>4.5</td>\n",
       "      <td>3.747970</td>\n",
       "      <td>0.957576</td>\n",
       "      <td>en</td>\n",
       "      <td>Great structure and concentration with raspber...</td>\n",
       "      <td>1</td>\n",
       "      <td>[great, structure, concentration, raspberry, b...</td>\n",
       "      <td>great structure concentration raspberry bluebe...</td>\n",
       "    </tr>\n",
       "  </tbody>\n",
       "</table>\n",
       "</div>"
      ],
      "text/plain": [
       "   review_id  ...                                       token_string\n",
       "0   65581154  ...            easy taste lot berry decent grape juice\n",
       "1  157698730  ...  favorite far pulenta estate cherry plum oak sp...\n",
       "2  129034690  ...  great structure concentration raspberry bluebe...\n",
       "\n",
       "[3 rows x 11 columns]"
      ]
     },
     "execution_count": 14,
     "metadata": {
      "tags": []
     },
     "output_type": "execute_result"
    }
   ],
   "source": [
    "df.head(3)"
   ]
  },
  {
   "cell_type": "code",
   "execution_count": null,
   "metadata": {
    "id": "5yb1RAA5dlDb"
   },
   "outputs": [],
   "source": [
    "#df.to_csv('/content/drive/MyDrive/CBS/DSBA/project_vivino/NLP/tokenized_full.csv')"
   ]
  },
  {
   "cell_type": "code",
   "execution_count": null,
   "metadata": {
    "colab": {
     "base_uri": "https://localhost:8080/"
    },
    "executionInfo": {
     "elapsed": 734306,
     "status": "ok",
     "timestamp": 1606137624518,
     "user": {
      "displayName": "Christian Stolborg",
      "photoUrl": "",
      "userId": "15409349448965301108"
     },
     "user_tz": -60
    },
    "id": "DLmr5nAkqxez",
    "outputId": "0406c54b-3e92-473e-de0a-d1df26fd6e32"
   },
   "outputs": [
    {
     "name": "stdout",
     "output_type": "stream",
     "text": [
      "easy taste lot berry decent grape juice\n",
      "favorite far pulenta estate cherry plum oak spice end balanced tannin acidity cheer\n",
      "great structure concentration raspberry blueberry lavander dark chocolate good balance expresso aftertaste\n",
      "wine spectacular good gem argentina highly\n",
      "smokey peppery medium acidity mild dark fruit beautiful malbec\n"
     ]
    },
    {
     "data": {
      "text/plain": [
       "[None, None, None, None, None]"
      ]
     },
     "execution_count": 16,
     "metadata": {
      "tags": []
     },
     "output_type": "execute_result"
    }
   ],
   "source": [
    "[print(t) for t in df['token_string'][:5]]"
   ]
  },
  {
   "cell_type": "markdown",
   "metadata": {
    "id": "fmJ7igMFT4wN"
   },
   "source": [
    "# Dictionary and BoW"
   ]
  },
  {
   "cell_type": "code",
   "execution_count": null,
   "metadata": {
    "id": "8QTRKSLZl3QG"
   },
   "outputs": [],
   "source": [
    "#df = pd.read_csv('/content/drive/MyDrive/CBS/DSBA/project_vivino/NLP/tokenized_full.csv').drop(columns='Unnamed: 0')"
   ]
  },
  {
   "cell_type": "code",
   "execution_count": null,
   "metadata": {
    "id": "9sv1WrGTJhYH"
   },
   "outputs": [],
   "source": [
    "%%capture\n",
    "!pip install gensim\n",
    "from gensim.corpora.dictionary import Dictionary\n",
    "from gensim.models.tfidfmodel import TfidfModel\n",
    "\n",
    "\n",
    "!pip install -qq pyLDAvis\n",
    "import pyLDAvis.gensim\n",
    "%matplotlib inline\n",
    "pyLDAvis.enable_notebook()\n",
    "\n",
    "from gensim.models import LdaMulticore\n",
    "from gensim.matutils import corpus2dense"
   ]
  },
  {
   "cell_type": "markdown",
   "metadata": {
    "id": "xTxjCXPWsG5J"
   },
   "source": [
    "## SkLearn shit example"
   ]
  },
  {
   "cell_type": "code",
   "execution_count": null,
   "metadata": {
    "colab": {
     "base_uri": "https://localhost:8080/"
    },
    "executionInfo": {
     "elapsed": 734453,
     "status": "ok",
     "timestamp": 1606137630872,
     "user": {
      "displayName": "Christian Stolborg",
      "photoUrl": "",
      "userId": "15409349448965301108"
     },
     "user_tz": -60
    },
    "id": "ZuQlwaDlsGLB",
    "outputId": "a55c17ef-e24d-4569-fcb8-aef81aa2d4b8"
   },
   "outputs": [
    {
     "data": {
      "application/vnd.google.colaboratory.intrinsic+json": {
       "type": "string"
      },
      "text/plain": [
       "\"\\nfrom sklearn.feature_extraction.text import TfidfVectorizer\\n\\nvectorizer = TfidfVectorizer()\\nX = vectorizer.fit_transform(df['token_string'])\\n\\npd.DataFrame(X.A, columns=vectorizer.get_feature_names()).head(2)\\n\""
      ]
     },
     "execution_count": 19,
     "metadata": {
      "tags": []
     },
     "output_type": "execute_result"
    }
   ],
   "source": [
    "'''\n",
    "from sklearn.feature_extraction.text import TfidfVectorizer\n",
    "\n",
    "vectorizer = TfidfVectorizer()\n",
    "X = vectorizer.fit_transform(df['token_string'])\n",
    "\n",
    "pd.DataFrame(X.A, columns=vectorizer.get_feature_names()).head(2)\n",
    "'''"
   ]
  },
  {
   "cell_type": "markdown",
   "metadata": {
    "id": "9VXFrLPtWab6"
   },
   "source": [
    "## CountVector"
   ]
  },
  {
   "cell_type": "code",
   "execution_count": null,
   "metadata": {
    "id": "g6SKXgnNUBSB"
   },
   "outputs": [],
   "source": [
    "dictionary = Dictionary(df['tokens'])\n",
    "dictionary.filter_extremes(no_below=10, no_above=0.5, keep_n=1000) # No tokens that appear in less than 10 reviews\n",
    "corpus = [dictionary.doc2bow(doc) for doc in df['tokens']]\n",
    "\n",
    "#df['bow'] = df[\"tokens\"].map(dictionary.doc2bow) # Alternative way of generating corpus"
   ]
  },
  {
   "cell_type": "code",
   "execution_count": null,
   "metadata": {
    "colab": {
     "base_uri": "https://localhost:8080/",
     "height": 473
    },
    "executionInfo": {
     "elapsed": 740850,
     "status": "ok",
     "timestamp": 1606137640135,
     "user": {
      "displayName": "Christian Stolborg",
      "photoUrl": "",
      "userId": "15409349448965301108"
     },
     "user_tz": -60
    },
    "id": "FaINBalBXsxd",
    "outputId": "70351f9a-8368-4769-9e4a-cb62ecefa61a"
   },
   "outputs": [
    {
     "name": "stderr",
     "output_type": "stream",
     "text": [
      "/usr/local/lib/python3.6/dist-packages/gensim/matutils.py:502: FutureWarning: arrays to stack must be passed as a \"sequence\" type such as list or tuple. Support for non-sequence iterables such as generators is deprecated as of NumPy 1.16 and will raise an error in the future.\n",
      "  result = np.column_stack(sparse2full(doc, num_terms) for doc in corpus)\n"
     ]
    },
    {
     "data": {
      "text/html": [
       "<div>\n",
       "<style scoped>\n",
       "    .dataframe tbody tr th:only-of-type {\n",
       "        vertical-align: middle;\n",
       "    }\n",
       "\n",
       "    .dataframe tbody tr th {\n",
       "        vertical-align: top;\n",
       "    }\n",
       "\n",
       "    .dataframe thead th {\n",
       "        text-align: right;\n",
       "    }\n",
       "</style>\n",
       "<table border=\"1\" class=\"dataframe\">\n",
       "  <thead>\n",
       "    <tr style=\"text-align: right;\">\n",
       "      <th></th>\n",
       "      <th>berry</th>\n",
       "      <th>decent</th>\n",
       "      <th>easy</th>\n",
       "      <th>grape</th>\n",
       "      <th>juice</th>\n",
       "      <th>lot</th>\n",
       "      <th>taste</th>\n",
       "      <th>acidity</th>\n",
       "      <th>balanced</th>\n",
       "      <th>cheer</th>\n",
       "      <th>cherry</th>\n",
       "      <th>end</th>\n",
       "      <th>estate</th>\n",
       "      <th>far</th>\n",
       "      <th>favorite</th>\n",
       "      <th>oak</th>\n",
       "      <th>plum</th>\n",
       "      <th>spice</th>\n",
       "      <th>tannin</th>\n",
       "      <th>aftertaste</th>\n",
       "      <th>balance</th>\n",
       "      <th>blueberry</th>\n",
       "      <th>chocolate</th>\n",
       "      <th>concentration</th>\n",
       "      <th>dark</th>\n",
       "      <th>good</th>\n",
       "      <th>great</th>\n",
       "      <th>raspberry</th>\n",
       "      <th>structure</th>\n",
       "      <th>argentina</th>\n",
       "      <th>gem</th>\n",
       "      <th>highly</th>\n",
       "      <th>spectacular</th>\n",
       "      <th>wine</th>\n",
       "      <th>beautiful</th>\n",
       "      <th>fruit</th>\n",
       "      <th>malbec</th>\n",
       "      <th>medium</th>\n",
       "      <th>mild</th>\n",
       "      <th>peppery</th>\n",
       "      <th>...</th>\n",
       "      <th>offdry</th>\n",
       "      <th>sea</th>\n",
       "      <th>weak</th>\n",
       "      <th>zinfandel</th>\n",
       "      <th>iron</th>\n",
       "      <th>winter</th>\n",
       "      <th>away</th>\n",
       "      <th>hints</th>\n",
       "      <th>tannine</th>\n",
       "      <th>work</th>\n",
       "      <th>river</th>\n",
       "      <th>offering</th>\n",
       "      <th>compote</th>\n",
       "      <th>zin</th>\n",
       "      <th>barrique</th>\n",
       "      <th>goodness</th>\n",
       "      <th>overtone</th>\n",
       "      <th>brick</th>\n",
       "      <th>tartness</th>\n",
       "      <th>pomegranate</th>\n",
       "      <th>hazelnut</th>\n",
       "      <th>option</th>\n",
       "      <th>cacao</th>\n",
       "      <th>sangiovese</th>\n",
       "      <th>normally</th>\n",
       "      <th>unusual</th>\n",
       "      <th>finesse</th>\n",
       "      <th>barolo</th>\n",
       "      <th>fennel</th>\n",
       "      <th>guava</th>\n",
       "      <th>oregon</th>\n",
       "      <th>nebbiolo</th>\n",
       "      <th>sense</th>\n",
       "      <th>australia</th>\n",
       "      <th>barbera</th>\n",
       "      <th>tuscan</th>\n",
       "      <th>brunello</th>\n",
       "      <th>cava</th>\n",
       "      <th>beaujolais</th>\n",
       "      <th>marlborough</th>\n",
       "    </tr>\n",
       "  </thead>\n",
       "  <tbody>\n",
       "    <tr>\n",
       "      <th>0</th>\n",
       "      <td>1.0</td>\n",
       "      <td>1.0</td>\n",
       "      <td>1.0</td>\n",
       "      <td>1.0</td>\n",
       "      <td>1.0</td>\n",
       "      <td>1.0</td>\n",
       "      <td>1.0</td>\n",
       "      <td>0.0</td>\n",
       "      <td>0.0</td>\n",
       "      <td>0.0</td>\n",
       "      <td>0.0</td>\n",
       "      <td>0.0</td>\n",
       "      <td>0.0</td>\n",
       "      <td>0.0</td>\n",
       "      <td>0.0</td>\n",
       "      <td>0.0</td>\n",
       "      <td>0.0</td>\n",
       "      <td>0.0</td>\n",
       "      <td>0.0</td>\n",
       "      <td>0.0</td>\n",
       "      <td>0.0</td>\n",
       "      <td>0.0</td>\n",
       "      <td>0.0</td>\n",
       "      <td>0.0</td>\n",
       "      <td>0.0</td>\n",
       "      <td>0.0</td>\n",
       "      <td>0.0</td>\n",
       "      <td>0.0</td>\n",
       "      <td>0.0</td>\n",
       "      <td>0.0</td>\n",
       "      <td>0.0</td>\n",
       "      <td>0.0</td>\n",
       "      <td>0.0</td>\n",
       "      <td>0.0</td>\n",
       "      <td>0.0</td>\n",
       "      <td>0.0</td>\n",
       "      <td>0.0</td>\n",
       "      <td>0.0</td>\n",
       "      <td>0.0</td>\n",
       "      <td>0.0</td>\n",
       "      <td>...</td>\n",
       "      <td>0.0</td>\n",
       "      <td>0.0</td>\n",
       "      <td>0.0</td>\n",
       "      <td>0.0</td>\n",
       "      <td>0.0</td>\n",
       "      <td>0.0</td>\n",
       "      <td>0.0</td>\n",
       "      <td>0.0</td>\n",
       "      <td>0.0</td>\n",
       "      <td>0.0</td>\n",
       "      <td>0.0</td>\n",
       "      <td>0.0</td>\n",
       "      <td>0.0</td>\n",
       "      <td>0.0</td>\n",
       "      <td>0.0</td>\n",
       "      <td>0.0</td>\n",
       "      <td>0.0</td>\n",
       "      <td>0.0</td>\n",
       "      <td>0.0</td>\n",
       "      <td>0.0</td>\n",
       "      <td>0.0</td>\n",
       "      <td>0.0</td>\n",
       "      <td>0.0</td>\n",
       "      <td>0.0</td>\n",
       "      <td>0.0</td>\n",
       "      <td>0.0</td>\n",
       "      <td>0.0</td>\n",
       "      <td>0.0</td>\n",
       "      <td>0.0</td>\n",
       "      <td>0.0</td>\n",
       "      <td>0.0</td>\n",
       "      <td>0.0</td>\n",
       "      <td>0.0</td>\n",
       "      <td>0.0</td>\n",
       "      <td>0.0</td>\n",
       "      <td>0.0</td>\n",
       "      <td>0.0</td>\n",
       "      <td>0.0</td>\n",
       "      <td>0.0</td>\n",
       "      <td>0.0</td>\n",
       "    </tr>\n",
       "    <tr>\n",
       "      <th>1</th>\n",
       "      <td>0.0</td>\n",
       "      <td>0.0</td>\n",
       "      <td>0.0</td>\n",
       "      <td>0.0</td>\n",
       "      <td>0.0</td>\n",
       "      <td>0.0</td>\n",
       "      <td>0.0</td>\n",
       "      <td>1.0</td>\n",
       "      <td>1.0</td>\n",
       "      <td>1.0</td>\n",
       "      <td>1.0</td>\n",
       "      <td>1.0</td>\n",
       "      <td>1.0</td>\n",
       "      <td>1.0</td>\n",
       "      <td>1.0</td>\n",
       "      <td>1.0</td>\n",
       "      <td>1.0</td>\n",
       "      <td>1.0</td>\n",
       "      <td>1.0</td>\n",
       "      <td>0.0</td>\n",
       "      <td>0.0</td>\n",
       "      <td>0.0</td>\n",
       "      <td>0.0</td>\n",
       "      <td>0.0</td>\n",
       "      <td>0.0</td>\n",
       "      <td>0.0</td>\n",
       "      <td>0.0</td>\n",
       "      <td>0.0</td>\n",
       "      <td>0.0</td>\n",
       "      <td>0.0</td>\n",
       "      <td>0.0</td>\n",
       "      <td>0.0</td>\n",
       "      <td>0.0</td>\n",
       "      <td>0.0</td>\n",
       "      <td>0.0</td>\n",
       "      <td>0.0</td>\n",
       "      <td>0.0</td>\n",
       "      <td>0.0</td>\n",
       "      <td>0.0</td>\n",
       "      <td>0.0</td>\n",
       "      <td>...</td>\n",
       "      <td>0.0</td>\n",
       "      <td>0.0</td>\n",
       "      <td>0.0</td>\n",
       "      <td>0.0</td>\n",
       "      <td>0.0</td>\n",
       "      <td>0.0</td>\n",
       "      <td>0.0</td>\n",
       "      <td>0.0</td>\n",
       "      <td>0.0</td>\n",
       "      <td>0.0</td>\n",
       "      <td>0.0</td>\n",
       "      <td>0.0</td>\n",
       "      <td>0.0</td>\n",
       "      <td>0.0</td>\n",
       "      <td>0.0</td>\n",
       "      <td>0.0</td>\n",
       "      <td>0.0</td>\n",
       "      <td>0.0</td>\n",
       "      <td>0.0</td>\n",
       "      <td>0.0</td>\n",
       "      <td>0.0</td>\n",
       "      <td>0.0</td>\n",
       "      <td>0.0</td>\n",
       "      <td>0.0</td>\n",
       "      <td>0.0</td>\n",
       "      <td>0.0</td>\n",
       "      <td>0.0</td>\n",
       "      <td>0.0</td>\n",
       "      <td>0.0</td>\n",
       "      <td>0.0</td>\n",
       "      <td>0.0</td>\n",
       "      <td>0.0</td>\n",
       "      <td>0.0</td>\n",
       "      <td>0.0</td>\n",
       "      <td>0.0</td>\n",
       "      <td>0.0</td>\n",
       "      <td>0.0</td>\n",
       "      <td>0.0</td>\n",
       "      <td>0.0</td>\n",
       "      <td>0.0</td>\n",
       "    </tr>\n",
       "    <tr>\n",
       "      <th>2</th>\n",
       "      <td>0.0</td>\n",
       "      <td>0.0</td>\n",
       "      <td>0.0</td>\n",
       "      <td>0.0</td>\n",
       "      <td>0.0</td>\n",
       "      <td>0.0</td>\n",
       "      <td>0.0</td>\n",
       "      <td>0.0</td>\n",
       "      <td>0.0</td>\n",
       "      <td>0.0</td>\n",
       "      <td>0.0</td>\n",
       "      <td>0.0</td>\n",
       "      <td>0.0</td>\n",
       "      <td>0.0</td>\n",
       "      <td>0.0</td>\n",
       "      <td>0.0</td>\n",
       "      <td>0.0</td>\n",
       "      <td>0.0</td>\n",
       "      <td>0.0</td>\n",
       "      <td>1.0</td>\n",
       "      <td>1.0</td>\n",
       "      <td>1.0</td>\n",
       "      <td>1.0</td>\n",
       "      <td>1.0</td>\n",
       "      <td>1.0</td>\n",
       "      <td>1.0</td>\n",
       "      <td>1.0</td>\n",
       "      <td>1.0</td>\n",
       "      <td>1.0</td>\n",
       "      <td>0.0</td>\n",
       "      <td>0.0</td>\n",
       "      <td>0.0</td>\n",
       "      <td>0.0</td>\n",
       "      <td>0.0</td>\n",
       "      <td>0.0</td>\n",
       "      <td>0.0</td>\n",
       "      <td>0.0</td>\n",
       "      <td>0.0</td>\n",
       "      <td>0.0</td>\n",
       "      <td>0.0</td>\n",
       "      <td>...</td>\n",
       "      <td>0.0</td>\n",
       "      <td>0.0</td>\n",
       "      <td>0.0</td>\n",
       "      <td>0.0</td>\n",
       "      <td>0.0</td>\n",
       "      <td>0.0</td>\n",
       "      <td>0.0</td>\n",
       "      <td>0.0</td>\n",
       "      <td>0.0</td>\n",
       "      <td>0.0</td>\n",
       "      <td>0.0</td>\n",
       "      <td>0.0</td>\n",
       "      <td>0.0</td>\n",
       "      <td>0.0</td>\n",
       "      <td>0.0</td>\n",
       "      <td>0.0</td>\n",
       "      <td>0.0</td>\n",
       "      <td>0.0</td>\n",
       "      <td>0.0</td>\n",
       "      <td>0.0</td>\n",
       "      <td>0.0</td>\n",
       "      <td>0.0</td>\n",
       "      <td>0.0</td>\n",
       "      <td>0.0</td>\n",
       "      <td>0.0</td>\n",
       "      <td>0.0</td>\n",
       "      <td>0.0</td>\n",
       "      <td>0.0</td>\n",
       "      <td>0.0</td>\n",
       "      <td>0.0</td>\n",
       "      <td>0.0</td>\n",
       "      <td>0.0</td>\n",
       "      <td>0.0</td>\n",
       "      <td>0.0</td>\n",
       "      <td>0.0</td>\n",
       "      <td>0.0</td>\n",
       "      <td>0.0</td>\n",
       "      <td>0.0</td>\n",
       "      <td>0.0</td>\n",
       "      <td>0.0</td>\n",
       "    </tr>\n",
       "    <tr>\n",
       "      <th>3</th>\n",
       "      <td>0.0</td>\n",
       "      <td>0.0</td>\n",
       "      <td>0.0</td>\n",
       "      <td>0.0</td>\n",
       "      <td>0.0</td>\n",
       "      <td>0.0</td>\n",
       "      <td>0.0</td>\n",
       "      <td>0.0</td>\n",
       "      <td>0.0</td>\n",
       "      <td>0.0</td>\n",
       "      <td>0.0</td>\n",
       "      <td>0.0</td>\n",
       "      <td>0.0</td>\n",
       "      <td>0.0</td>\n",
       "      <td>0.0</td>\n",
       "      <td>0.0</td>\n",
       "      <td>0.0</td>\n",
       "      <td>0.0</td>\n",
       "      <td>0.0</td>\n",
       "      <td>0.0</td>\n",
       "      <td>0.0</td>\n",
       "      <td>0.0</td>\n",
       "      <td>0.0</td>\n",
       "      <td>0.0</td>\n",
       "      <td>0.0</td>\n",
       "      <td>1.0</td>\n",
       "      <td>0.0</td>\n",
       "      <td>0.0</td>\n",
       "      <td>0.0</td>\n",
       "      <td>1.0</td>\n",
       "      <td>1.0</td>\n",
       "      <td>1.0</td>\n",
       "      <td>1.0</td>\n",
       "      <td>1.0</td>\n",
       "      <td>0.0</td>\n",
       "      <td>0.0</td>\n",
       "      <td>0.0</td>\n",
       "      <td>0.0</td>\n",
       "      <td>0.0</td>\n",
       "      <td>0.0</td>\n",
       "      <td>...</td>\n",
       "      <td>0.0</td>\n",
       "      <td>0.0</td>\n",
       "      <td>0.0</td>\n",
       "      <td>0.0</td>\n",
       "      <td>0.0</td>\n",
       "      <td>0.0</td>\n",
       "      <td>0.0</td>\n",
       "      <td>0.0</td>\n",
       "      <td>0.0</td>\n",
       "      <td>0.0</td>\n",
       "      <td>0.0</td>\n",
       "      <td>0.0</td>\n",
       "      <td>0.0</td>\n",
       "      <td>0.0</td>\n",
       "      <td>0.0</td>\n",
       "      <td>0.0</td>\n",
       "      <td>0.0</td>\n",
       "      <td>0.0</td>\n",
       "      <td>0.0</td>\n",
       "      <td>0.0</td>\n",
       "      <td>0.0</td>\n",
       "      <td>0.0</td>\n",
       "      <td>0.0</td>\n",
       "      <td>0.0</td>\n",
       "      <td>0.0</td>\n",
       "      <td>0.0</td>\n",
       "      <td>0.0</td>\n",
       "      <td>0.0</td>\n",
       "      <td>0.0</td>\n",
       "      <td>0.0</td>\n",
       "      <td>0.0</td>\n",
       "      <td>0.0</td>\n",
       "      <td>0.0</td>\n",
       "      <td>0.0</td>\n",
       "      <td>0.0</td>\n",
       "      <td>0.0</td>\n",
       "      <td>0.0</td>\n",
       "      <td>0.0</td>\n",
       "      <td>0.0</td>\n",
       "      <td>0.0</td>\n",
       "    </tr>\n",
       "    <tr>\n",
       "      <th>4</th>\n",
       "      <td>0.0</td>\n",
       "      <td>0.0</td>\n",
       "      <td>0.0</td>\n",
       "      <td>0.0</td>\n",
       "      <td>0.0</td>\n",
       "      <td>0.0</td>\n",
       "      <td>0.0</td>\n",
       "      <td>1.0</td>\n",
       "      <td>0.0</td>\n",
       "      <td>0.0</td>\n",
       "      <td>0.0</td>\n",
       "      <td>0.0</td>\n",
       "      <td>0.0</td>\n",
       "      <td>0.0</td>\n",
       "      <td>0.0</td>\n",
       "      <td>0.0</td>\n",
       "      <td>0.0</td>\n",
       "      <td>0.0</td>\n",
       "      <td>0.0</td>\n",
       "      <td>0.0</td>\n",
       "      <td>0.0</td>\n",
       "      <td>0.0</td>\n",
       "      <td>0.0</td>\n",
       "      <td>0.0</td>\n",
       "      <td>1.0</td>\n",
       "      <td>0.0</td>\n",
       "      <td>0.0</td>\n",
       "      <td>0.0</td>\n",
       "      <td>0.0</td>\n",
       "      <td>0.0</td>\n",
       "      <td>0.0</td>\n",
       "      <td>0.0</td>\n",
       "      <td>0.0</td>\n",
       "      <td>0.0</td>\n",
       "      <td>1.0</td>\n",
       "      <td>1.0</td>\n",
       "      <td>1.0</td>\n",
       "      <td>1.0</td>\n",
       "      <td>1.0</td>\n",
       "      <td>1.0</td>\n",
       "      <td>...</td>\n",
       "      <td>0.0</td>\n",
       "      <td>0.0</td>\n",
       "      <td>0.0</td>\n",
       "      <td>0.0</td>\n",
       "      <td>0.0</td>\n",
       "      <td>0.0</td>\n",
       "      <td>0.0</td>\n",
       "      <td>0.0</td>\n",
       "      <td>0.0</td>\n",
       "      <td>0.0</td>\n",
       "      <td>0.0</td>\n",
       "      <td>0.0</td>\n",
       "      <td>0.0</td>\n",
       "      <td>0.0</td>\n",
       "      <td>0.0</td>\n",
       "      <td>0.0</td>\n",
       "      <td>0.0</td>\n",
       "      <td>0.0</td>\n",
       "      <td>0.0</td>\n",
       "      <td>0.0</td>\n",
       "      <td>0.0</td>\n",
       "      <td>0.0</td>\n",
       "      <td>0.0</td>\n",
       "      <td>0.0</td>\n",
       "      <td>0.0</td>\n",
       "      <td>0.0</td>\n",
       "      <td>0.0</td>\n",
       "      <td>0.0</td>\n",
       "      <td>0.0</td>\n",
       "      <td>0.0</td>\n",
       "      <td>0.0</td>\n",
       "      <td>0.0</td>\n",
       "      <td>0.0</td>\n",
       "      <td>0.0</td>\n",
       "      <td>0.0</td>\n",
       "      <td>0.0</td>\n",
       "      <td>0.0</td>\n",
       "      <td>0.0</td>\n",
       "      <td>0.0</td>\n",
       "      <td>0.0</td>\n",
       "    </tr>\n",
       "    <tr>\n",
       "      <th>...</th>\n",
       "      <td>...</td>\n",
       "      <td>...</td>\n",
       "      <td>...</td>\n",
       "      <td>...</td>\n",
       "      <td>...</td>\n",
       "      <td>...</td>\n",
       "      <td>...</td>\n",
       "      <td>...</td>\n",
       "      <td>...</td>\n",
       "      <td>...</td>\n",
       "      <td>...</td>\n",
       "      <td>...</td>\n",
       "      <td>...</td>\n",
       "      <td>...</td>\n",
       "      <td>...</td>\n",
       "      <td>...</td>\n",
       "      <td>...</td>\n",
       "      <td>...</td>\n",
       "      <td>...</td>\n",
       "      <td>...</td>\n",
       "      <td>...</td>\n",
       "      <td>...</td>\n",
       "      <td>...</td>\n",
       "      <td>...</td>\n",
       "      <td>...</td>\n",
       "      <td>...</td>\n",
       "      <td>...</td>\n",
       "      <td>...</td>\n",
       "      <td>...</td>\n",
       "      <td>...</td>\n",
       "      <td>...</td>\n",
       "      <td>...</td>\n",
       "      <td>...</td>\n",
       "      <td>...</td>\n",
       "      <td>...</td>\n",
       "      <td>...</td>\n",
       "      <td>...</td>\n",
       "      <td>...</td>\n",
       "      <td>...</td>\n",
       "      <td>...</td>\n",
       "      <td>...</td>\n",
       "      <td>...</td>\n",
       "      <td>...</td>\n",
       "      <td>...</td>\n",
       "      <td>...</td>\n",
       "      <td>...</td>\n",
       "      <td>...</td>\n",
       "      <td>...</td>\n",
       "      <td>...</td>\n",
       "      <td>...</td>\n",
       "      <td>...</td>\n",
       "      <td>...</td>\n",
       "      <td>...</td>\n",
       "      <td>...</td>\n",
       "      <td>...</td>\n",
       "      <td>...</td>\n",
       "      <td>...</td>\n",
       "      <td>...</td>\n",
       "      <td>...</td>\n",
       "      <td>...</td>\n",
       "      <td>...</td>\n",
       "      <td>...</td>\n",
       "      <td>...</td>\n",
       "      <td>...</td>\n",
       "      <td>...</td>\n",
       "      <td>...</td>\n",
       "      <td>...</td>\n",
       "      <td>...</td>\n",
       "      <td>...</td>\n",
       "      <td>...</td>\n",
       "      <td>...</td>\n",
       "      <td>...</td>\n",
       "      <td>...</td>\n",
       "      <td>...</td>\n",
       "      <td>...</td>\n",
       "      <td>...</td>\n",
       "      <td>...</td>\n",
       "      <td>...</td>\n",
       "      <td>...</td>\n",
       "      <td>...</td>\n",
       "      <td>...</td>\n",
       "    </tr>\n",
       "    <tr>\n",
       "      <th>118278</th>\n",
       "      <td>1.0</td>\n",
       "      <td>0.0</td>\n",
       "      <td>0.0</td>\n",
       "      <td>0.0</td>\n",
       "      <td>0.0</td>\n",
       "      <td>0.0</td>\n",
       "      <td>0.0</td>\n",
       "      <td>1.0</td>\n",
       "      <td>1.0</td>\n",
       "      <td>0.0</td>\n",
       "      <td>1.0</td>\n",
       "      <td>0.0</td>\n",
       "      <td>0.0</td>\n",
       "      <td>0.0</td>\n",
       "      <td>0.0</td>\n",
       "      <td>0.0</td>\n",
       "      <td>0.0</td>\n",
       "      <td>0.0</td>\n",
       "      <td>1.0</td>\n",
       "      <td>0.0</td>\n",
       "      <td>0.0</td>\n",
       "      <td>0.0</td>\n",
       "      <td>0.0</td>\n",
       "      <td>0.0</td>\n",
       "      <td>0.0</td>\n",
       "      <td>0.0</td>\n",
       "      <td>0.0</td>\n",
       "      <td>0.0</td>\n",
       "      <td>0.0</td>\n",
       "      <td>0.0</td>\n",
       "      <td>0.0</td>\n",
       "      <td>0.0</td>\n",
       "      <td>0.0</td>\n",
       "      <td>0.0</td>\n",
       "      <td>0.0</td>\n",
       "      <td>1.0</td>\n",
       "      <td>0.0</td>\n",
       "      <td>0.0</td>\n",
       "      <td>0.0</td>\n",
       "      <td>0.0</td>\n",
       "      <td>...</td>\n",
       "      <td>0.0</td>\n",
       "      <td>0.0</td>\n",
       "      <td>0.0</td>\n",
       "      <td>0.0</td>\n",
       "      <td>0.0</td>\n",
       "      <td>0.0</td>\n",
       "      <td>0.0</td>\n",
       "      <td>0.0</td>\n",
       "      <td>0.0</td>\n",
       "      <td>0.0</td>\n",
       "      <td>0.0</td>\n",
       "      <td>0.0</td>\n",
       "      <td>0.0</td>\n",
       "      <td>0.0</td>\n",
       "      <td>0.0</td>\n",
       "      <td>0.0</td>\n",
       "      <td>0.0</td>\n",
       "      <td>0.0</td>\n",
       "      <td>0.0</td>\n",
       "      <td>0.0</td>\n",
       "      <td>0.0</td>\n",
       "      <td>0.0</td>\n",
       "      <td>0.0</td>\n",
       "      <td>0.0</td>\n",
       "      <td>0.0</td>\n",
       "      <td>0.0</td>\n",
       "      <td>0.0</td>\n",
       "      <td>0.0</td>\n",
       "      <td>0.0</td>\n",
       "      <td>0.0</td>\n",
       "      <td>0.0</td>\n",
       "      <td>0.0</td>\n",
       "      <td>0.0</td>\n",
       "      <td>0.0</td>\n",
       "      <td>0.0</td>\n",
       "      <td>0.0</td>\n",
       "      <td>0.0</td>\n",
       "      <td>0.0</td>\n",
       "      <td>0.0</td>\n",
       "      <td>0.0</td>\n",
       "    </tr>\n",
       "    <tr>\n",
       "      <th>118279</th>\n",
       "      <td>0.0</td>\n",
       "      <td>0.0</td>\n",
       "      <td>0.0</td>\n",
       "      <td>0.0</td>\n",
       "      <td>0.0</td>\n",
       "      <td>0.0</td>\n",
       "      <td>0.0</td>\n",
       "      <td>0.0</td>\n",
       "      <td>0.0</td>\n",
       "      <td>0.0</td>\n",
       "      <td>0.0</td>\n",
       "      <td>0.0</td>\n",
       "      <td>0.0</td>\n",
       "      <td>0.0</td>\n",
       "      <td>0.0</td>\n",
       "      <td>0.0</td>\n",
       "      <td>0.0</td>\n",
       "      <td>0.0</td>\n",
       "      <td>0.0</td>\n",
       "      <td>0.0</td>\n",
       "      <td>0.0</td>\n",
       "      <td>0.0</td>\n",
       "      <td>0.0</td>\n",
       "      <td>0.0</td>\n",
       "      <td>0.0</td>\n",
       "      <td>0.0</td>\n",
       "      <td>0.0</td>\n",
       "      <td>0.0</td>\n",
       "      <td>0.0</td>\n",
       "      <td>0.0</td>\n",
       "      <td>0.0</td>\n",
       "      <td>0.0</td>\n",
       "      <td>0.0</td>\n",
       "      <td>0.0</td>\n",
       "      <td>0.0</td>\n",
       "      <td>1.0</td>\n",
       "      <td>0.0</td>\n",
       "      <td>0.0</td>\n",
       "      <td>0.0</td>\n",
       "      <td>0.0</td>\n",
       "      <td>...</td>\n",
       "      <td>0.0</td>\n",
       "      <td>0.0</td>\n",
       "      <td>0.0</td>\n",
       "      <td>0.0</td>\n",
       "      <td>0.0</td>\n",
       "      <td>0.0</td>\n",
       "      <td>0.0</td>\n",
       "      <td>0.0</td>\n",
       "      <td>0.0</td>\n",
       "      <td>0.0</td>\n",
       "      <td>0.0</td>\n",
       "      <td>0.0</td>\n",
       "      <td>0.0</td>\n",
       "      <td>0.0</td>\n",
       "      <td>0.0</td>\n",
       "      <td>0.0</td>\n",
       "      <td>0.0</td>\n",
       "      <td>0.0</td>\n",
       "      <td>0.0</td>\n",
       "      <td>0.0</td>\n",
       "      <td>0.0</td>\n",
       "      <td>0.0</td>\n",
       "      <td>0.0</td>\n",
       "      <td>0.0</td>\n",
       "      <td>0.0</td>\n",
       "      <td>0.0</td>\n",
       "      <td>0.0</td>\n",
       "      <td>0.0</td>\n",
       "      <td>0.0</td>\n",
       "      <td>0.0</td>\n",
       "      <td>0.0</td>\n",
       "      <td>0.0</td>\n",
       "      <td>0.0</td>\n",
       "      <td>0.0</td>\n",
       "      <td>0.0</td>\n",
       "      <td>0.0</td>\n",
       "      <td>0.0</td>\n",
       "      <td>0.0</td>\n",
       "      <td>0.0</td>\n",
       "      <td>0.0</td>\n",
       "    </tr>\n",
       "    <tr>\n",
       "      <th>118280</th>\n",
       "      <td>0.0</td>\n",
       "      <td>0.0</td>\n",
       "      <td>1.0</td>\n",
       "      <td>0.0</td>\n",
       "      <td>0.0</td>\n",
       "      <td>0.0</td>\n",
       "      <td>0.0</td>\n",
       "      <td>0.0</td>\n",
       "      <td>0.0</td>\n",
       "      <td>0.0</td>\n",
       "      <td>1.0</td>\n",
       "      <td>0.0</td>\n",
       "      <td>0.0</td>\n",
       "      <td>0.0</td>\n",
       "      <td>0.0</td>\n",
       "      <td>0.0</td>\n",
       "      <td>0.0</td>\n",
       "      <td>0.0</td>\n",
       "      <td>0.0</td>\n",
       "      <td>0.0</td>\n",
       "      <td>0.0</td>\n",
       "      <td>0.0</td>\n",
       "      <td>0.0</td>\n",
       "      <td>0.0</td>\n",
       "      <td>1.0</td>\n",
       "      <td>1.0</td>\n",
       "      <td>1.0</td>\n",
       "      <td>0.0</td>\n",
       "      <td>0.0</td>\n",
       "      <td>0.0</td>\n",
       "      <td>0.0</td>\n",
       "      <td>0.0</td>\n",
       "      <td>0.0</td>\n",
       "      <td>0.0</td>\n",
       "      <td>0.0</td>\n",
       "      <td>0.0</td>\n",
       "      <td>0.0</td>\n",
       "      <td>0.0</td>\n",
       "      <td>0.0</td>\n",
       "      <td>0.0</td>\n",
       "      <td>...</td>\n",
       "      <td>0.0</td>\n",
       "      <td>0.0</td>\n",
       "      <td>0.0</td>\n",
       "      <td>0.0</td>\n",
       "      <td>0.0</td>\n",
       "      <td>0.0</td>\n",
       "      <td>0.0</td>\n",
       "      <td>0.0</td>\n",
       "      <td>0.0</td>\n",
       "      <td>0.0</td>\n",
       "      <td>0.0</td>\n",
       "      <td>0.0</td>\n",
       "      <td>0.0</td>\n",
       "      <td>0.0</td>\n",
       "      <td>0.0</td>\n",
       "      <td>0.0</td>\n",
       "      <td>0.0</td>\n",
       "      <td>0.0</td>\n",
       "      <td>0.0</td>\n",
       "      <td>0.0</td>\n",
       "      <td>0.0</td>\n",
       "      <td>0.0</td>\n",
       "      <td>0.0</td>\n",
       "      <td>0.0</td>\n",
       "      <td>0.0</td>\n",
       "      <td>0.0</td>\n",
       "      <td>0.0</td>\n",
       "      <td>0.0</td>\n",
       "      <td>0.0</td>\n",
       "      <td>0.0</td>\n",
       "      <td>0.0</td>\n",
       "      <td>0.0</td>\n",
       "      <td>0.0</td>\n",
       "      <td>0.0</td>\n",
       "      <td>0.0</td>\n",
       "      <td>0.0</td>\n",
       "      <td>0.0</td>\n",
       "      <td>0.0</td>\n",
       "      <td>0.0</td>\n",
       "      <td>0.0</td>\n",
       "    </tr>\n",
       "    <tr>\n",
       "      <th>118281</th>\n",
       "      <td>0.0</td>\n",
       "      <td>0.0</td>\n",
       "      <td>1.0</td>\n",
       "      <td>0.0</td>\n",
       "      <td>0.0</td>\n",
       "      <td>0.0</td>\n",
       "      <td>0.0</td>\n",
       "      <td>0.0</td>\n",
       "      <td>0.0</td>\n",
       "      <td>0.0</td>\n",
       "      <td>0.0</td>\n",
       "      <td>0.0</td>\n",
       "      <td>0.0</td>\n",
       "      <td>0.0</td>\n",
       "      <td>0.0</td>\n",
       "      <td>0.0</td>\n",
       "      <td>0.0</td>\n",
       "      <td>0.0</td>\n",
       "      <td>0.0</td>\n",
       "      <td>0.0</td>\n",
       "      <td>0.0</td>\n",
       "      <td>0.0</td>\n",
       "      <td>0.0</td>\n",
       "      <td>0.0</td>\n",
       "      <td>0.0</td>\n",
       "      <td>2.0</td>\n",
       "      <td>0.0</td>\n",
       "      <td>0.0</td>\n",
       "      <td>0.0</td>\n",
       "      <td>0.0</td>\n",
       "      <td>0.0</td>\n",
       "      <td>0.0</td>\n",
       "      <td>0.0</td>\n",
       "      <td>2.0</td>\n",
       "      <td>0.0</td>\n",
       "      <td>0.0</td>\n",
       "      <td>0.0</td>\n",
       "      <td>0.0</td>\n",
       "      <td>0.0</td>\n",
       "      <td>0.0</td>\n",
       "      <td>...</td>\n",
       "      <td>0.0</td>\n",
       "      <td>0.0</td>\n",
       "      <td>0.0</td>\n",
       "      <td>0.0</td>\n",
       "      <td>0.0</td>\n",
       "      <td>0.0</td>\n",
       "      <td>0.0</td>\n",
       "      <td>0.0</td>\n",
       "      <td>0.0</td>\n",
       "      <td>0.0</td>\n",
       "      <td>0.0</td>\n",
       "      <td>0.0</td>\n",
       "      <td>0.0</td>\n",
       "      <td>0.0</td>\n",
       "      <td>0.0</td>\n",
       "      <td>0.0</td>\n",
       "      <td>0.0</td>\n",
       "      <td>0.0</td>\n",
       "      <td>0.0</td>\n",
       "      <td>0.0</td>\n",
       "      <td>0.0</td>\n",
       "      <td>0.0</td>\n",
       "      <td>0.0</td>\n",
       "      <td>0.0</td>\n",
       "      <td>0.0</td>\n",
       "      <td>0.0</td>\n",
       "      <td>0.0</td>\n",
       "      <td>0.0</td>\n",
       "      <td>0.0</td>\n",
       "      <td>0.0</td>\n",
       "      <td>0.0</td>\n",
       "      <td>0.0</td>\n",
       "      <td>0.0</td>\n",
       "      <td>0.0</td>\n",
       "      <td>0.0</td>\n",
       "      <td>0.0</td>\n",
       "      <td>0.0</td>\n",
       "      <td>0.0</td>\n",
       "      <td>0.0</td>\n",
       "      <td>0.0</td>\n",
       "    </tr>\n",
       "    <tr>\n",
       "      <th>118282</th>\n",
       "      <td>0.0</td>\n",
       "      <td>0.0</td>\n",
       "      <td>1.0</td>\n",
       "      <td>0.0</td>\n",
       "      <td>0.0</td>\n",
       "      <td>0.0</td>\n",
       "      <td>0.0</td>\n",
       "      <td>1.0</td>\n",
       "      <td>0.0</td>\n",
       "      <td>0.0</td>\n",
       "      <td>1.0</td>\n",
       "      <td>0.0</td>\n",
       "      <td>0.0</td>\n",
       "      <td>0.0</td>\n",
       "      <td>0.0</td>\n",
       "      <td>0.0</td>\n",
       "      <td>1.0</td>\n",
       "      <td>0.0</td>\n",
       "      <td>0.0</td>\n",
       "      <td>0.0</td>\n",
       "      <td>0.0</td>\n",
       "      <td>0.0</td>\n",
       "      <td>0.0</td>\n",
       "      <td>0.0</td>\n",
       "      <td>0.0</td>\n",
       "      <td>0.0</td>\n",
       "      <td>0.0</td>\n",
       "      <td>0.0</td>\n",
       "      <td>0.0</td>\n",
       "      <td>0.0</td>\n",
       "      <td>0.0</td>\n",
       "      <td>0.0</td>\n",
       "      <td>0.0</td>\n",
       "      <td>0.0</td>\n",
       "      <td>0.0</td>\n",
       "      <td>0.0</td>\n",
       "      <td>0.0</td>\n",
       "      <td>0.0</td>\n",
       "      <td>0.0</td>\n",
       "      <td>0.0</td>\n",
       "      <td>...</td>\n",
       "      <td>0.0</td>\n",
       "      <td>0.0</td>\n",
       "      <td>0.0</td>\n",
       "      <td>0.0</td>\n",
       "      <td>0.0</td>\n",
       "      <td>0.0</td>\n",
       "      <td>0.0</td>\n",
       "      <td>0.0</td>\n",
       "      <td>0.0</td>\n",
       "      <td>0.0</td>\n",
       "      <td>0.0</td>\n",
       "      <td>0.0</td>\n",
       "      <td>0.0</td>\n",
       "      <td>0.0</td>\n",
       "      <td>0.0</td>\n",
       "      <td>0.0</td>\n",
       "      <td>0.0</td>\n",
       "      <td>0.0</td>\n",
       "      <td>0.0</td>\n",
       "      <td>0.0</td>\n",
       "      <td>0.0</td>\n",
       "      <td>0.0</td>\n",
       "      <td>0.0</td>\n",
       "      <td>0.0</td>\n",
       "      <td>0.0</td>\n",
       "      <td>0.0</td>\n",
       "      <td>0.0</td>\n",
       "      <td>0.0</td>\n",
       "      <td>0.0</td>\n",
       "      <td>0.0</td>\n",
       "      <td>0.0</td>\n",
       "      <td>0.0</td>\n",
       "      <td>0.0</td>\n",
       "      <td>0.0</td>\n",
       "      <td>0.0</td>\n",
       "      <td>0.0</td>\n",
       "      <td>0.0</td>\n",
       "      <td>0.0</td>\n",
       "      <td>0.0</td>\n",
       "      <td>0.0</td>\n",
       "    </tr>\n",
       "  </tbody>\n",
       "</table>\n",
       "<p>118283 rows × 1000 columns</p>\n",
       "</div>"
      ],
      "text/plain": [
       "        berry  decent  easy  grape  ...  brunello  cava  beaujolais  marlborough\n",
       "0         1.0     1.0   1.0    1.0  ...       0.0   0.0         0.0          0.0\n",
       "1         0.0     0.0   0.0    0.0  ...       0.0   0.0         0.0          0.0\n",
       "2         0.0     0.0   0.0    0.0  ...       0.0   0.0         0.0          0.0\n",
       "3         0.0     0.0   0.0    0.0  ...       0.0   0.0         0.0          0.0\n",
       "4         0.0     0.0   0.0    0.0  ...       0.0   0.0         0.0          0.0\n",
       "...       ...     ...   ...    ...  ...       ...   ...         ...          ...\n",
       "118278    1.0     0.0   0.0    0.0  ...       0.0   0.0         0.0          0.0\n",
       "118279    0.0     0.0   0.0    0.0  ...       0.0   0.0         0.0          0.0\n",
       "118280    0.0     0.0   1.0    0.0  ...       0.0   0.0         0.0          0.0\n",
       "118281    0.0     0.0   1.0    0.0  ...       0.0   0.0         0.0          0.0\n",
       "118282    0.0     0.0   1.0    0.0  ...       0.0   0.0         0.0          0.0\n",
       "\n",
       "[118283 rows x 1000 columns]"
      ]
     },
     "execution_count": 21,
     "metadata": {
      "tags": []
     },
     "output_type": "execute_result"
    }
   ],
   "source": [
    "col_names = list()\n",
    "for k, v in dictionary.token2id.items():\n",
    "    col_names.append(k)\n",
    "\n",
    "count_df = pd.DataFrame(corpus2dense(corpus, num_terms=len(dictionary)).T,\n",
    "                         columns=col_names)\n",
    "\n",
    "count_df"
   ]
  },
  {
   "cell_type": "markdown",
   "metadata": {
    "id": "SW3hpL6qX6Oa"
   },
   "source": [
    "## TFIDF-Vector"
   ]
  },
  {
   "cell_type": "code",
   "execution_count": null,
   "metadata": {
    "colab": {
     "base_uri": "https://localhost:8080/"
    },
    "executionInfo": {
     "elapsed": 751839,
     "status": "ok",
     "timestamp": 1606137652127,
     "user": {
      "displayName": "Christian Stolborg",
      "photoUrl": "",
      "userId": "15409349448965301108"
     },
     "user_tz": -60
    },
    "id": "ThqG-dFUX9fS",
    "outputId": "5dc79ed0-b2aa-41e0-929a-241dc65ece27"
   },
   "outputs": [
    {
     "name": "stderr",
     "output_type": "stream",
     "text": [
      "/usr/local/lib/python3.6/dist-packages/gensim/matutils.py:502: FutureWarning: arrays to stack must be passed as a \"sequence\" type such as list or tuple. Support for non-sequence iterables such as generators is deprecated as of NumPy 1.16 and will raise an error in the future.\n",
      "  result = np.column_stack(sparse2full(doc, num_terms) for doc in corpus)\n"
     ]
    }
   ],
   "source": [
    "# Apply tfidf to corpus\n",
    "corpus_tfidf = TfidfModel(corpus)[corpus]\n",
    "tfidf_df = pd.DataFrame(corpus2dense(corpus_tfidf, num_terms=len(dictionary)).T,\n",
    "                         columns=col_names)"
   ]
  },
  {
   "cell_type": "code",
   "execution_count": null,
   "metadata": {
    "id": "ReliGy6f1lXW"
   },
   "outputs": [],
   "source": [
    "#tfidf_df.to_csv('/content/drive/MyDrive/CBS/DSBA/project_vivino/NLP/tfidf_full.csv')\n",
    "#count_df.to_csv('/content/drive/MyDrive/CBS/DSBA/project_vivino/NLP/count_full.csv')"
   ]
  },
  {
   "cell_type": "markdown",
   "metadata": {
    "id": "lLqGSqsHcwtO"
   },
   "source": [
    "# Apply ML models\n",
    "\n",
    "### Model selection"
   ]
  },
  {
   "cell_type": "markdown",
   "metadata": {
    "id": "MYHETX3n_Vnr"
   },
   "source": [
    "## Rule-based models"
   ]
  },
  {
   "cell_type": "code",
   "execution_count": null,
   "metadata": {
    "colab": {
     "base_uri": "https://localhost:8080/",
     "height": 347
    },
    "executionInfo": {
     "elapsed": 243579,
     "status": "ok",
     "timestamp": 1606130940232,
     "user": {
      "displayName": "Christian Stolborg",
      "photoUrl": "",
      "userId": "15409349448965301108"
     },
     "user_tz": -60
    },
    "id": "8pyJDb8W_Xas",
    "outputId": "9f396965-e9ca-4119-cd0f-70edd41b7838"
   },
   "outputs": [
    {
     "name": "stdout",
     "output_type": "stream",
     "text": [
      "[nltk_data] Downloading package vader_lexicon to /root/nltk_data...\n"
     ]
    },
    {
     "name": "stderr",
     "output_type": "stream",
     "text": [
      "/usr/local/lib/python3.6/dist-packages/nltk/twitter/__init__.py:20: UserWarning: The twython library has not been installed. Some functionality from the twitter package will not be available.\n",
      "  warnings.warn(\"The twython library has not been installed. \"\n"
     ]
    },
    {
     "data": {
      "text/plain": [
       "<matplotlib.axes._subplots.AxesSubplot at 0x7f27b2b5c320>"
      ]
     },
     "execution_count": 24,
     "metadata": {
      "tags": []
     },
     "output_type": "execute_result"
    },
    {
     "data": {
      "image/png": "[encoded data removed]",
      "text/plain": [
       "<Figure size 432x288 with 1 Axes>"
      ]
     },
     "metadata": {
      "needs_background": "light",
      "tags": []
     },
     "output_type": "display_data"
    }
   ],
   "source": [
    "import nltk\n",
    "nltk.download('vader_lexicon')\n",
    "from nltk.sentiment.vader import SentimentIntensityAnalyzer\n",
    "import seaborn as sns\n",
    "\n",
    "vader = SentimentIntensityAnalyzer()\n",
    "\n",
    "df['vader_score'] = df.apply(lambda row: vader.polarity_scores(row['note'])['compound'], axis=1)\n",
    "\n",
    "#sns.scatterplot(y=df['vader_score'], x=df['rating'].astype(float), hue=df['ratings_cut'].astype(int) )"
   ]
  },
  {
   "cell_type": "code",
   "execution_count": null,
   "metadata": {
    "colab": {
     "base_uri": "https://localhost:8080/",
     "height": 442
    },
    "executionInfo": {
     "elapsed": 899,
     "status": "ok",
     "timestamp": 1606132392297,
     "user": {
      "displayName": "Christian Stolborg",
      "photoUrl": "",
      "userId": "15409349448965301108"
     },
     "user_tz": -60
    },
    "id": "ctkVCO5iG1qP",
    "outputId": "08ffe623-d572-485b-dddc-4f5d9e9ba0ca"
   },
   "outputs": [
    {
     "data": {
      "image/png": "[encoded data removed]",
      "text/plain": [
       "<Figure size 864x504 with 1 Axes>"
      ]
     },
     "metadata": {
      "needs_background": "light",
      "tags": []
     },
     "output_type": "display_data"
    }
   ],
   "source": [
    "fig, ax = plt.subplots(figsize=(12,7))\n",
    "sns.boxplot(y=df['vader_score'], x=df['rating'].astype(float), hue=df['ratings_cut'].astype(int))\n",
    "ax.legend(bbox_to_anchor=(1.05, 1), loc='upper left', borderaxespad=0.)\n",
    "ax.set_ylabel('Vader Sentiment Score')\n",
    "ax.set_xlabel('Rating');"
   ]
  },
  {
   "cell_type": "markdown",
   "metadata": {
    "id": "gQlcr6-r_ST8"
   },
   "source": [
    "## Feature-based models\n",
    "\n",
    "Currently not using the same train/test split as Vader"
   ]
  },
  {
   "cell_type": "code",
   "execution_count": null,
   "metadata": {
    "id": "Pn2OT9XKczeX"
   },
   "outputs": [],
   "source": [
    "from sklearn.model_selection import train_test_split\n",
    "from sklearn.model_selection import GridSearchCV\n",
    "\n",
    "from sklearn.linear_model import LogisticRegression\n",
    "from sklearn.metrics import classification_report\n",
    "\n",
    "from sklearn.linear_model import ElasticNetCV\n",
    "from sklearn.tree import DecisionTreeClassifier\n",
    "from sklearn.ensemble import RandomForestClassifier\n",
    "from xgboost import XGBClassifier\n",
    "\n",
    "X = tfidf_df.to_numpy()\n",
    "y = df['ratings_cut'].to_numpy()\n",
    "\n",
    "X_train, X_test, y_train, y_test = train_test_split(X,y, test_size=0.20, random_state=42)"
   ]
  },
  {
   "cell_type": "code",
   "execution_count": null,
   "metadata": {
    "colab": {
     "base_uri": "https://localhost:8080/",
     "height": 578
    },
    "executionInfo": {
     "elapsed": 3537864,
     "status": "error",
     "timestamp": 1606136524449,
     "user": {
      "displayName": "Christian Stolborg",
      "photoUrl": "",
      "userId": "15409349448965301108"
     },
     "user_tz": -60
    },
    "id": "8M_LiMm35iYT",
    "outputId": "4bc40b9d-b848-4e34-f1e6-5fd8a5306ed1"
   },
   "outputs": [
    {
     "name": "stdout",
     "output_type": "stream",
     "text": [
      "Dominant score: 0.8108\n"
     ]
    },
    {
     "name": "stderr",
     "output_type": "stream",
     "text": [
      "/usr/local/lib/python3.6/dist-packages/sklearn/linear_model/_logistic.py:940: ConvergenceWarning: lbfgs failed to converge (status=1):\n",
      "STOP: TOTAL NO. of ITERATIONS REACHED LIMIT.\n",
      "\n",
      "Increase the number of iterations (max_iter) or scale the data as shown in:\n",
      "    https://scikit-learn.org/stable/modules/preprocessing.html\n",
      "Please also refer to the documentation for alternative solver options:\n",
      "    https://scikit-learn.org/stable/modules/linear_model.html#logistic-regression\n",
      "  extra_warning_msg=_LOGISTIC_SOLVER_CONVERGENCE_MSG)\n"
     ]
    },
    {
     "name": "stdout",
     "output_type": "stream",
     "text": [
      "Logistic score:  0.8289723971763114\n",
      "EL score:  0.1739027791189951\n",
      "Decision tree score:  0.7520818362429725\n"
     ]
    },
    {
     "ename": "KeyboardInterrupt",
     "evalue": "ignored",
     "output_type": "error",
     "traceback": [
      "\u001b[0;31m---------------------------------------------------------------------------\u001b[0m",
      "\u001b[0;31mKeyboardInterrupt\u001b[0m                         Traceback (most recent call last)",
      "\u001b[0;32m<ipython-input-37-1bef904d8fc0>\u001b[0m in \u001b[0;36m<module>\u001b[0;34m()\u001b[0m\n\u001b[1;32m     36\u001b[0m \u001b[0;31m#grid_rnf = GridSearchCV(rnf_clf, parameters_rnf,cv = 5)\u001b[0m\u001b[0;34m\u001b[0m\u001b[0;34m\u001b[0m\u001b[0;34m\u001b[0m\u001b[0m\n\u001b[1;32m     37\u001b[0m \u001b[0;31m#rnf_clf = grid_rnf.fit(X_train, y_train).best_estimator_\u001b[0m\u001b[0;34m\u001b[0m\u001b[0;34m\u001b[0m\u001b[0;34m\u001b[0m\u001b[0m\n\u001b[0;32m---> 38\u001b[0;31m \u001b[0mrnf_clf\u001b[0m\u001b[0;34m.\u001b[0m\u001b[0mfit\u001b[0m\u001b[0;34m(\u001b[0m\u001b[0mX_train\u001b[0m\u001b[0;34m,\u001b[0m \u001b[0my_train\u001b[0m\u001b[0;34m)\u001b[0m\u001b[0;34m\u001b[0m\u001b[0;34m\u001b[0m\u001b[0m\n\u001b[0m\u001b[1;32m     39\u001b[0m \u001b[0;34m\u001b[0m\u001b[0m\n\u001b[1;32m     40\u001b[0m \u001b[0mprint\u001b[0m\u001b[0;34m(\u001b[0m\u001b[0;34m\"RandomForest score: \"\u001b[0m\u001b[0;34m,\u001b[0m \u001b[0mrnf_clf\u001b[0m\u001b[0;34m.\u001b[0m\u001b[0mscore\u001b[0m\u001b[0;34m(\u001b[0m\u001b[0mX_test\u001b[0m\u001b[0;34m,\u001b[0m\u001b[0my_test\u001b[0m\u001b[0;34m)\u001b[0m\u001b[0;34m)\u001b[0m\u001b[0;34m\u001b[0m\u001b[0;34m\u001b[0m\u001b[0m\n",
      "\u001b[0;32m/usr/local/lib/python3.6/dist-packages/sklearn/ensemble/_forest.py\u001b[0m in \u001b[0;36mfit\u001b[0;34m(self, X, y, sample_weight)\u001b[0m\n\u001b[1;32m    381\u001b[0m                     \u001b[0mverbose\u001b[0m\u001b[0;34m=\u001b[0m\u001b[0mself\u001b[0m\u001b[0;34m.\u001b[0m\u001b[0mverbose\u001b[0m\u001b[0;34m,\u001b[0m \u001b[0mclass_weight\u001b[0m\u001b[0;34m=\u001b[0m\u001b[0mself\u001b[0m\u001b[0;34m.\u001b[0m\u001b[0mclass_weight\u001b[0m\u001b[0;34m,\u001b[0m\u001b[0;34m\u001b[0m\u001b[0;34m\u001b[0m\u001b[0m\n\u001b[1;32m    382\u001b[0m                     n_samples_bootstrap=n_samples_bootstrap)\n\u001b[0;32m--> 383\u001b[0;31m                 for i, t in enumerate(trees))\n\u001b[0m\u001b[1;32m    384\u001b[0m \u001b[0;34m\u001b[0m\u001b[0m\n\u001b[1;32m    385\u001b[0m             \u001b[0;31m# Collect newly grown trees\u001b[0m\u001b[0;34m\u001b[0m\u001b[0;34m\u001b[0m\u001b[0;34m\u001b[0m\u001b[0m\n",
      "\u001b[0;32m/usr/local/lib/python3.6/dist-packages/joblib/parallel.py\u001b[0m in \u001b[0;36m__call__\u001b[0;34m(self, iterable)\u001b[0m\n\u001b[1;32m   1049\u001b[0m                 \u001b[0mself\u001b[0m\u001b[0;34m.\u001b[0m\u001b[0m_iterating\u001b[0m \u001b[0;34m=\u001b[0m \u001b[0mself\u001b[0m\u001b[0;34m.\u001b[0m\u001b[0m_original_iterator\u001b[0m \u001b[0;32mis\u001b[0m \u001b[0;32mnot\u001b[0m \u001b[0;32mNone\u001b[0m\u001b[0;34m\u001b[0m\u001b[0;34m\u001b[0m\u001b[0m\n\u001b[1;32m   1050\u001b[0m \u001b[0;34m\u001b[0m\u001b[0m\n\u001b[0;32m-> 1051\u001b[0;31m             \u001b[0;32mwhile\u001b[0m \u001b[0mself\u001b[0m\u001b[0;34m.\u001b[0m\u001b[0mdispatch_one_batch\u001b[0m\u001b[0;34m(\u001b[0m\u001b[0miterator\u001b[0m\u001b[0;34m)\u001b[0m\u001b[0;34m:\u001b[0m\u001b[0;34m\u001b[0m\u001b[0;34m\u001b[0m\u001b[0m\n\u001b[0m\u001b[1;32m   1052\u001b[0m                 \u001b[0;32mpass\u001b[0m\u001b[0;34m\u001b[0m\u001b[0;34m\u001b[0m\u001b[0m\n\u001b[1;32m   1053\u001b[0m \u001b[0;34m\u001b[0m\u001b[0m\n",
      "\u001b[0;32m/usr/local/lib/python3.6/dist-packages/joblib/parallel.py\u001b[0m in \u001b[0;36mdispatch_one_batch\u001b[0;34m(self, iterator)\u001b[0m\n\u001b[1;32m    864\u001b[0m                 \u001b[0;32mreturn\u001b[0m \u001b[0;32mFalse\u001b[0m\u001b[0;34m\u001b[0m\u001b[0;34m\u001b[0m\u001b[0m\n\u001b[1;32m    865\u001b[0m             \u001b[0;32melse\u001b[0m\u001b[0;34m:\u001b[0m\u001b[0;34m\u001b[0m\u001b[0;34m\u001b[0m\u001b[0m\n\u001b[0;32m--> 866\u001b[0;31m                 \u001b[0mself\u001b[0m\u001b[0;34m.\u001b[0m\u001b[0m_dispatch\u001b[0m\u001b[0;34m(\u001b[0m\u001b[0mtasks\u001b[0m\u001b[0;34m)\u001b[0m\u001b[0;34m\u001b[0m\u001b[0;34m\u001b[0m\u001b[0m\n\u001b[0m\u001b[1;32m    867\u001b[0m                 \u001b[0;32mreturn\u001b[0m \u001b[0;32mTrue\u001b[0m\u001b[0;34m\u001b[0m\u001b[0;34m\u001b[0m\u001b[0m\n\u001b[1;32m    868\u001b[0m \u001b[0;34m\u001b[0m\u001b[0m\n",
      "\u001b[0;32m/usr/local/lib/python3.6/dist-packages/joblib/parallel.py\u001b[0m in \u001b[0;36m_dispatch\u001b[0;34m(self, batch)\u001b[0m\n\u001b[1;32m    782\u001b[0m         \u001b[0;32mwith\u001b[0m \u001b[0mself\u001b[0m\u001b[0;34m.\u001b[0m\u001b[0m_lock\u001b[0m\u001b[0;34m:\u001b[0m\u001b[0;34m\u001b[0m\u001b[0;34m\u001b[0m\u001b[0m\n\u001b[1;32m    783\u001b[0m             \u001b[0mjob_idx\u001b[0m \u001b[0;34m=\u001b[0m \u001b[0mlen\u001b[0m\u001b[0;34m(\u001b[0m\u001b[0mself\u001b[0m\u001b[0;34m.\u001b[0m\u001b[0m_jobs\u001b[0m\u001b[0;34m)\u001b[0m\u001b[0;34m\u001b[0m\u001b[0;34m\u001b[0m\u001b[0m\n\u001b[0;32m--> 784\u001b[0;31m             \u001b[0mjob\u001b[0m \u001b[0;34m=\u001b[0m \u001b[0mself\u001b[0m\u001b[0;34m.\u001b[0m\u001b[0m_backend\u001b[0m\u001b[0;34m.\u001b[0m\u001b[0mapply_async\u001b[0m\u001b[0;34m(\u001b[0m\u001b[0mbatch\u001b[0m\u001b[0;34m,\u001b[0m \u001b[0mcallback\u001b[0m\u001b[0;34m=\u001b[0m\u001b[0mcb\u001b[0m\u001b[0;34m)\u001b[0m\u001b[0;34m\u001b[0m\u001b[0;34m\u001b[0m\u001b[0m\n\u001b[0m\u001b[1;32m    785\u001b[0m             \u001b[0;31m# A job can complete so quickly than its callback is\u001b[0m\u001b[0;34m\u001b[0m\u001b[0;34m\u001b[0m\u001b[0;34m\u001b[0m\u001b[0m\n\u001b[1;32m    786\u001b[0m             \u001b[0;31m# called before we get here, causing self._jobs to\u001b[0m\u001b[0;34m\u001b[0m\u001b[0;34m\u001b[0m\u001b[0;34m\u001b[0m\u001b[0m\n",
      "\u001b[0;32m/usr/local/lib/python3.6/dist-packages/joblib/_parallel_backends.py\u001b[0m in \u001b[0;36mapply_async\u001b[0;34m(self, func, callback)\u001b[0m\n\u001b[1;32m    206\u001b[0m     \u001b[0;32mdef\u001b[0m \u001b[0mapply_async\u001b[0m\u001b[0;34m(\u001b[0m\u001b[0mself\u001b[0m\u001b[0;34m,\u001b[0m \u001b[0mfunc\u001b[0m\u001b[0;34m,\u001b[0m \u001b[0mcallback\u001b[0m\u001b[0;34m=\u001b[0m\u001b[0;32mNone\u001b[0m\u001b[0;34m)\u001b[0m\u001b[0;34m:\u001b[0m\u001b[0;34m\u001b[0m\u001b[0;34m\u001b[0m\u001b[0m\n\u001b[1;32m    207\u001b[0m         \u001b[0;34m\"\"\"Schedule a func to be run\"\"\"\u001b[0m\u001b[0;34m\u001b[0m\u001b[0;34m\u001b[0m\u001b[0m\n\u001b[0;32m--> 208\u001b[0;31m         \u001b[0mresult\u001b[0m \u001b[0;34m=\u001b[0m \u001b[0mImmediateResult\u001b[0m\u001b[0;34m(\u001b[0m\u001b[0mfunc\u001b[0m\u001b[0;34m)\u001b[0m\u001b[0;34m\u001b[0m\u001b[0;34m\u001b[0m\u001b[0m\n\u001b[0m\u001b[1;32m    209\u001b[0m         \u001b[0;32mif\u001b[0m \u001b[0mcallback\u001b[0m\u001b[0;34m:\u001b[0m\u001b[0;34m\u001b[0m\u001b[0;34m\u001b[0m\u001b[0m\n\u001b[1;32m    210\u001b[0m             \u001b[0mcallback\u001b[0m\u001b[0;34m(\u001b[0m\u001b[0mresult\u001b[0m\u001b[0;34m)\u001b[0m\u001b[0;34m\u001b[0m\u001b[0;34m\u001b[0m\u001b[0m\n",
      "\u001b[0;32m/usr/local/lib/python3.6/dist-packages/joblib/_parallel_backends.py\u001b[0m in \u001b[0;36m__init__\u001b[0;34m(self, batch)\u001b[0m\n\u001b[1;32m    570\u001b[0m         \u001b[0;31m# Don't delay the application, to avoid keeping the input\u001b[0m\u001b[0;34m\u001b[0m\u001b[0;34m\u001b[0m\u001b[0;34m\u001b[0m\u001b[0m\n\u001b[1;32m    571\u001b[0m         \u001b[0;31m# arguments in memory\u001b[0m\u001b[0;34m\u001b[0m\u001b[0;34m\u001b[0m\u001b[0;34m\u001b[0m\u001b[0m\n\u001b[0;32m--> 572\u001b[0;31m         \u001b[0mself\u001b[0m\u001b[0;34m.\u001b[0m\u001b[0mresults\u001b[0m \u001b[0;34m=\u001b[0m \u001b[0mbatch\u001b[0m\u001b[0;34m(\u001b[0m\u001b[0;34m)\u001b[0m\u001b[0;34m\u001b[0m\u001b[0;34m\u001b[0m\u001b[0m\n\u001b[0m\u001b[1;32m    573\u001b[0m \u001b[0;34m\u001b[0m\u001b[0m\n\u001b[1;32m    574\u001b[0m     \u001b[0;32mdef\u001b[0m \u001b[0mget\u001b[0m\u001b[0;34m(\u001b[0m\u001b[0mself\u001b[0m\u001b[0;34m)\u001b[0m\u001b[0;34m:\u001b[0m\u001b[0;34m\u001b[0m\u001b[0;34m\u001b[0m\u001b[0m\n",
      "\u001b[0;32m/usr/local/lib/python3.6/dist-packages/joblib/parallel.py\u001b[0m in \u001b[0;36m__call__\u001b[0;34m(self)\u001b[0m\n\u001b[1;32m    261\u001b[0m         \u001b[0;32mwith\u001b[0m \u001b[0mparallel_backend\u001b[0m\u001b[0;34m(\u001b[0m\u001b[0mself\u001b[0m\u001b[0;34m.\u001b[0m\u001b[0m_backend\u001b[0m\u001b[0;34m,\u001b[0m \u001b[0mn_jobs\u001b[0m\u001b[0;34m=\u001b[0m\u001b[0mself\u001b[0m\u001b[0;34m.\u001b[0m\u001b[0m_n_jobs\u001b[0m\u001b[0;34m)\u001b[0m\u001b[0;34m:\u001b[0m\u001b[0;34m\u001b[0m\u001b[0;34m\u001b[0m\u001b[0m\n\u001b[1;32m    262\u001b[0m             return [func(*args, **kwargs)\n\u001b[0;32m--> 263\u001b[0;31m                     for func, args, kwargs in self.items]\n\u001b[0m\u001b[1;32m    264\u001b[0m \u001b[0;34m\u001b[0m\u001b[0m\n\u001b[1;32m    265\u001b[0m     \u001b[0;32mdef\u001b[0m \u001b[0m__reduce__\u001b[0m\u001b[0;34m(\u001b[0m\u001b[0mself\u001b[0m\u001b[0;34m)\u001b[0m\u001b[0;34m:\u001b[0m\u001b[0;34m\u001b[0m\u001b[0;34m\u001b[0m\u001b[0m\n",
      "\u001b[0;32m/usr/local/lib/python3.6/dist-packages/joblib/parallel.py\u001b[0m in \u001b[0;36m<listcomp>\u001b[0;34m(.0)\u001b[0m\n\u001b[1;32m    261\u001b[0m         \u001b[0;32mwith\u001b[0m \u001b[0mparallel_backend\u001b[0m\u001b[0;34m(\u001b[0m\u001b[0mself\u001b[0m\u001b[0;34m.\u001b[0m\u001b[0m_backend\u001b[0m\u001b[0;34m,\u001b[0m \u001b[0mn_jobs\u001b[0m\u001b[0;34m=\u001b[0m\u001b[0mself\u001b[0m\u001b[0;34m.\u001b[0m\u001b[0m_n_jobs\u001b[0m\u001b[0;34m)\u001b[0m\u001b[0;34m:\u001b[0m\u001b[0;34m\u001b[0m\u001b[0;34m\u001b[0m\u001b[0m\n\u001b[1;32m    262\u001b[0m             return [func(*args, **kwargs)\n\u001b[0;32m--> 263\u001b[0;31m                     for func, args, kwargs in self.items]\n\u001b[0m\u001b[1;32m    264\u001b[0m \u001b[0;34m\u001b[0m\u001b[0m\n\u001b[1;32m    265\u001b[0m     \u001b[0;32mdef\u001b[0m \u001b[0m__reduce__\u001b[0m\u001b[0;34m(\u001b[0m\u001b[0mself\u001b[0m\u001b[0;34m)\u001b[0m\u001b[0;34m:\u001b[0m\u001b[0;34m\u001b[0m\u001b[0;34m\u001b[0m\u001b[0m\n",
      "\u001b[0;32m/usr/local/lib/python3.6/dist-packages/sklearn/ensemble/_forest.py\u001b[0m in \u001b[0;36m_parallel_build_trees\u001b[0;34m(tree, forest, X, y, sample_weight, tree_idx, n_trees, verbose, class_weight, n_samples_bootstrap)\u001b[0m\n\u001b[1;32m    163\u001b[0m             \u001b[0mcurr_sample_weight\u001b[0m \u001b[0;34m*=\u001b[0m \u001b[0mcompute_sample_weight\u001b[0m\u001b[0;34m(\u001b[0m\u001b[0;34m'balanced'\u001b[0m\u001b[0;34m,\u001b[0m \u001b[0my\u001b[0m\u001b[0;34m,\u001b[0m \u001b[0mindices\u001b[0m\u001b[0;34m)\u001b[0m\u001b[0;34m\u001b[0m\u001b[0;34m\u001b[0m\u001b[0m\n\u001b[1;32m    164\u001b[0m \u001b[0;34m\u001b[0m\u001b[0m\n\u001b[0;32m--> 165\u001b[0;31m         \u001b[0mtree\u001b[0m\u001b[0;34m.\u001b[0m\u001b[0mfit\u001b[0m\u001b[0;34m(\u001b[0m\u001b[0mX\u001b[0m\u001b[0;34m,\u001b[0m \u001b[0my\u001b[0m\u001b[0;34m,\u001b[0m \u001b[0msample_weight\u001b[0m\u001b[0;34m=\u001b[0m\u001b[0mcurr_sample_weight\u001b[0m\u001b[0;34m,\u001b[0m \u001b[0mcheck_input\u001b[0m\u001b[0;34m=\u001b[0m\u001b[0;32mFalse\u001b[0m\u001b[0;34m)\u001b[0m\u001b[0;34m\u001b[0m\u001b[0;34m\u001b[0m\u001b[0m\n\u001b[0m\u001b[1;32m    166\u001b[0m     \u001b[0;32melse\u001b[0m\u001b[0;34m:\u001b[0m\u001b[0;34m\u001b[0m\u001b[0;34m\u001b[0m\u001b[0m\n\u001b[1;32m    167\u001b[0m         \u001b[0mtree\u001b[0m\u001b[0;34m.\u001b[0m\u001b[0mfit\u001b[0m\u001b[0;34m(\u001b[0m\u001b[0mX\u001b[0m\u001b[0;34m,\u001b[0m \u001b[0my\u001b[0m\u001b[0;34m,\u001b[0m \u001b[0msample_weight\u001b[0m\u001b[0;34m=\u001b[0m\u001b[0msample_weight\u001b[0m\u001b[0;34m,\u001b[0m \u001b[0mcheck_input\u001b[0m\u001b[0;34m=\u001b[0m\u001b[0;32mFalse\u001b[0m\u001b[0;34m)\u001b[0m\u001b[0;34m\u001b[0m\u001b[0;34m\u001b[0m\u001b[0m\n",
      "\u001b[0;32m/usr/local/lib/python3.6/dist-packages/sklearn/tree/_classes.py\u001b[0m in \u001b[0;36mfit\u001b[0;34m(self, X, y, sample_weight, check_input, X_idx_sorted)\u001b[0m\n\u001b[1;32m    875\u001b[0m             \u001b[0msample_weight\u001b[0m\u001b[0;34m=\u001b[0m\u001b[0msample_weight\u001b[0m\u001b[0;34m,\u001b[0m\u001b[0;34m\u001b[0m\u001b[0;34m\u001b[0m\u001b[0m\n\u001b[1;32m    876\u001b[0m             \u001b[0mcheck_input\u001b[0m\u001b[0;34m=\u001b[0m\u001b[0mcheck_input\u001b[0m\u001b[0;34m,\u001b[0m\u001b[0;34m\u001b[0m\u001b[0;34m\u001b[0m\u001b[0m\n\u001b[0;32m--> 877\u001b[0;31m             X_idx_sorted=X_idx_sorted)\n\u001b[0m\u001b[1;32m    878\u001b[0m         \u001b[0;32mreturn\u001b[0m \u001b[0mself\u001b[0m\u001b[0;34m\u001b[0m\u001b[0;34m\u001b[0m\u001b[0m\n\u001b[1;32m    879\u001b[0m \u001b[0;34m\u001b[0m\u001b[0m\n",
      "\u001b[0;32m/usr/local/lib/python3.6/dist-packages/sklearn/tree/_classes.py\u001b[0m in \u001b[0;36mfit\u001b[0;34m(self, X, y, sample_weight, check_input, X_idx_sorted)\u001b[0m\n\u001b[1;32m    365\u001b[0m                                            min_impurity_split)\n\u001b[1;32m    366\u001b[0m \u001b[0;34m\u001b[0m\u001b[0m\n\u001b[0;32m--> 367\u001b[0;31m         \u001b[0mbuilder\u001b[0m\u001b[0;34m.\u001b[0m\u001b[0mbuild\u001b[0m\u001b[0;34m(\u001b[0m\u001b[0mself\u001b[0m\u001b[0;34m.\u001b[0m\u001b[0mtree_\u001b[0m\u001b[0;34m,\u001b[0m \u001b[0mX\u001b[0m\u001b[0;34m,\u001b[0m \u001b[0my\u001b[0m\u001b[0;34m,\u001b[0m \u001b[0msample_weight\u001b[0m\u001b[0;34m,\u001b[0m \u001b[0mX_idx_sorted\u001b[0m\u001b[0;34m)\u001b[0m\u001b[0;34m\u001b[0m\u001b[0;34m\u001b[0m\u001b[0m\n\u001b[0m\u001b[1;32m    368\u001b[0m \u001b[0;34m\u001b[0m\u001b[0m\n\u001b[1;32m    369\u001b[0m         \u001b[0;32mif\u001b[0m \u001b[0mself\u001b[0m\u001b[0;34m.\u001b[0m\u001b[0mn_outputs_\u001b[0m \u001b[0;34m==\u001b[0m \u001b[0;36m1\u001b[0m \u001b[0;32mand\u001b[0m \u001b[0mis_classifier\u001b[0m\u001b[0;34m(\u001b[0m\u001b[0mself\u001b[0m\u001b[0;34m)\u001b[0m\u001b[0;34m:\u001b[0m\u001b[0;34m\u001b[0m\u001b[0;34m\u001b[0m\u001b[0m\n",
      "\u001b[0;31mKeyboardInterrupt\u001b[0m: "
     ]
    }
   ],
   "source": [
    "class_imbalance = ratings_dist[0] / ratings_dist[1]\n",
    "\n",
    "#Instantiate models\n",
    "log_clf = LogisticRegression()\n",
    "el_clf = ElasticNetCV()\n",
    "tree_clf = DecisionTreeClassifier()\n",
    "rnf_clf = RandomForestClassifier(n_estimators=500)\n",
    "xgb_clf = XGBClassifier(scale_pos_weight=class_imbalance)\n",
    "\n",
    "# Dominant model\n",
    "print('Dominant score:', round(np.bincount(y)[0] / len(y), 4))\n",
    "\n",
    "# Logistic regression\n",
    "log_clf.fit(X_train, y_train)\n",
    "print(\"Logistic score: \", log_clf.score(X_test,y_test))\n",
    "\n",
    "# Elastic net\n",
    "el_clf.fit(X_train, y_train)\n",
    "print(\"EL score: \", el_clf.score(X_test,y_test))\n",
    "\n",
    "# Tree model with CV\n",
    "parameters_tree = {\"max_depth\": [3,10,20, None],\n",
    "                   \"max_leaf_nodes\":[3,5,10,None]}\n",
    "\n",
    "grid_tree = GridSearchCV(tree_clf, parameters_tree, cv = 5, scoring='recall')\n",
    "tree_clf = grid_tree.fit(X_train, y_train).best_estimator_\n",
    "print(\"Decision tree score: \", tree_clf.score(X_test,y_test))\n",
    "\n",
    "\n",
    "# RF with CV\n",
    "parameters_rnf = {'bootstrap': [True, False],\n",
    " 'max_depth': [3,10, 20, None],\n",
    " 'min_samples_split': [2, 5, 10],\n",
    " 'n_estimators': [500]}\n",
    "\n",
    "#grid_rnf = GridSearchCV(rnf_clf, parameters_rnf,cv = 5)\n",
    "#rnf_clf = grid_rnf.fit(X_train, y_train).best_estimator_\n",
    "rnf_clf.fit(X_train, y_train)\n",
    "\n",
    "print(\"RandomForest score: \", rnf_clf.score(X_test,y_test))\n",
    "\n",
    "# XGBoost\n",
    "xgb_clf.fit(X_train, y_train)\n",
    "print('XGB score:', xgb_clf.score(X_test, y_test))"
   ]
  },
  {
   "cell_type": "code",
   "execution_count": null,
   "metadata": {
    "colab": {
     "base_uri": "https://localhost:8080/"
    },
    "executionInfo": {
     "elapsed": 38332,
     "status": "ok",
     "timestamp": 1606063412313,
     "user": {
      "displayName": "Christian Stolborg",
      "photoUrl": "",
      "userId": "15409349448965301108"
     },
     "user_tz": -60
    },
    "id": "ZQ1TW8nlTWHf",
    "outputId": "d43ea78c-2375-4955-e858-933aa84e98a6"
   },
   "outputs": [
    {
     "name": "stdout",
     "output_type": "stream",
     "text": [
      "RandomForest score:  0.8052631578947368\n"
     ]
    }
   ],
   "source": [
    "_ = RandomForestClassifier(n_estimators=500, class_weight='balanced')\n",
    "_.fit(X_train, y_train)\n",
    "print(\"RandomForest score: \", _.score(X_test,y_test))"
   ]
  },
  {
   "cell_type": "code",
   "execution_count": null,
   "metadata": {
    "colab": {
     "base_uri": "https://localhost:8080/",
     "height": 1000
    },
    "executionInfo": {
     "elapsed": 39100,
     "status": "ok",
     "timestamp": 1606063413088,
     "user": {
      "displayName": "Christian Stolborg",
      "photoUrl": "",
      "userId": "15409349448965301108"
     },
     "user_tz": -60
    },
    "id": "T2Pp26gKAAQ-",
    "outputId": "575e01db-b66d-4d5d-efb6-3c2f7864763e"
   },
   "outputs": [
    {
     "data": {
      "image/png": "[encoded data removed]",
      "text/plain": [
       "<Figure size 864x504 with 1 Axes>"
      ]
     },
     "metadata": {
      "needs_background": "light",
      "tags": []
     },
     "output_type": "display_data"
    },
    {
     "data": {
      "image/png": "[encoded data removed]",
      "text/plain": [
       "<Figure size 864x504 with 1 Axes>"
      ]
     },
     "metadata": {
      "needs_background": "light",
      "tags": []
     },
     "output_type": "display_data"
    },
    {
     "data": {
      "image/png": "[encoded data removed]",
      "text/plain": [
       "<Figure size 864x504 with 1 Axes>"
      ]
     },
     "metadata": {
      "needs_background": "light",
      "tags": []
     },
     "output_type": "display_data"
    },
    {
     "data": {
      "image/png": "[encoded data removed]",
      "text/plain": [
       "<Figure size 864x504 with 1 Axes>"
      ]
     },
     "metadata": {
      "needs_background": "light",
      "tags": []
     },
     "output_type": "display_data"
    }
   ],
   "source": [
    "from sklearn.metrics import confusion_matrix\n",
    "from mlxtend.plotting import plot_confusion_matrix\n",
    "\n",
    "# Loop through models to compute confusion matrix and plot it\n",
    "for model in [log_clf, tree_clf, rnf_clf, xgb_clf]:\n",
    "    conf_mat = confusion_matrix(y_test , model.predict(X_test))\n",
    "    plot_confusion_matrix(conf_mat,\n",
    "                          show_absolute=True,\n",
    "                          show_normed=True, figsize=(12,7))\n",
    "    plt.title(str(model))"
   ]
  },
  {
   "cell_type": "markdown",
   "metadata": {
    "id": "pHMYSjwKtmwy"
   },
   "source": [
    "## Feature based models sliced based on Vader\n",
    "\n",
    "From the Vader analysis is seems very few observations from class=1 is present with a sentiment score below 0.25.\n",
    "\n",
    "In the following we filter the dataset based on this."
   ]
  },
  {
   "cell_type": "code",
   "execution_count": null,
   "metadata": {
    "colab": {
     "base_uri": "https://localhost:8080/",
     "height": 173
    },
    "executionInfo": {
     "elapsed": 39472,
     "status": "ok",
     "timestamp": 1606063413471,
     "user": {
      "displayName": "Christian Stolborg",
      "photoUrl": "",
      "userId": "15409349448965301108"
     },
     "user_tz": -60
    },
    "id": "feJowiRgv2QB",
    "outputId": "204c0534-3a7b-422b-cb52-3383e85d6af4"
   },
   "outputs": [
    {
     "data": {
      "text/html": [
       "<div>\n",
       "<style scoped>\n",
       "    .dataframe tbody tr th:only-of-type {\n",
       "        vertical-align: middle;\n",
       "    }\n",
       "\n",
       "    .dataframe tbody tr th {\n",
       "        vertical-align: top;\n",
       "    }\n",
       "\n",
       "    .dataframe thead th {\n",
       "        text-align: right;\n",
       "    }\n",
       "</style>\n",
       "<table border=\"1\" class=\"dataframe\">\n",
       "  <thead>\n",
       "    <tr style=\"text-align: right;\">\n",
       "      <th></th>\n",
       "      <th>note</th>\n",
       "      <th>types</th>\n",
       "      <th>rating</th>\n",
       "      <th>average_ratings</th>\n",
       "      <th>net_follower_score</th>\n",
       "      <th>lang</th>\n",
       "      <th>note_clean</th>\n",
       "      <th>tokens</th>\n",
       "      <th>token_string</th>\n",
       "      <th>vader_score</th>\n",
       "    </tr>\n",
       "    <tr>\n",
       "      <th>ratings_cut</th>\n",
       "      <th></th>\n",
       "      <th></th>\n",
       "      <th></th>\n",
       "      <th></th>\n",
       "      <th></th>\n",
       "      <th></th>\n",
       "      <th></th>\n",
       "      <th></th>\n",
       "      <th></th>\n",
       "      <th></th>\n",
       "    </tr>\n",
       "  </thead>\n",
       "  <tbody>\n",
       "    <tr>\n",
       "      <th>2</th>\n",
       "      <td>0</td>\n",
       "      <td>0</td>\n",
       "      <td>0</td>\n",
       "      <td>0</td>\n",
       "      <td>0</td>\n",
       "      <td>0</td>\n",
       "      <td>0</td>\n",
       "      <td>0</td>\n",
       "      <td>0</td>\n",
       "      <td>0</td>\n",
       "    </tr>\n",
       "    <tr>\n",
       "      <th>0</th>\n",
       "      <td>43</td>\n",
       "      <td>43</td>\n",
       "      <td>43</td>\n",
       "      <td>43</td>\n",
       "      <td>43</td>\n",
       "      <td>43</td>\n",
       "      <td>43</td>\n",
       "      <td>43</td>\n",
       "      <td>43</td>\n",
       "      <td>43</td>\n",
       "    </tr>\n",
       "    <tr>\n",
       "      <th>1</th>\n",
       "      <td>1</td>\n",
       "      <td>1</td>\n",
       "      <td>1</td>\n",
       "      <td>1</td>\n",
       "      <td>1</td>\n",
       "      <td>1</td>\n",
       "      <td>1</td>\n",
       "      <td>1</td>\n",
       "      <td>1</td>\n",
       "      <td>1</td>\n",
       "    </tr>\n",
       "  </tbody>\n",
       "</table>\n",
       "</div>"
      ],
      "text/plain": [
       "             note  types  rating  ...  tokens  token_string  vader_score\n",
       "ratings_cut                       ...                                   \n",
       "2               0      0       0  ...       0             0            0\n",
       "0              43     43      43  ...      43            43           43\n",
       "1               1      1       1  ...       1             1            1\n",
       "\n",
       "[3 rows x 10 columns]"
      ]
     },
     "execution_count": 24,
     "metadata": {
      "tags": []
     },
     "output_type": "execute_result"
    }
   ],
   "source": [
    "df[df['vader_score'] < 0.0].groupby('ratings_cut').count()"
   ]
  },
  {
   "cell_type": "code",
   "execution_count": null,
   "metadata": {
    "id": "R6W68-aGt_mh"
   },
   "outputs": [],
   "source": [
    "tfidf_df.index = df.index\n",
    "tfidf_df['vader_score'] = df['vader_score']\n"
   ]
  },
  {
   "cell_type": "code",
   "execution_count": null,
   "metadata": {
    "id": "f90S-1PTtmMj"
   },
   "outputs": [],
   "source": [
    "X = tfidf_df[tfidf_df['vader_score'] > 0.25].drop('vader_score', axis=1).to_numpy()\n",
    "y = df[df['vader_score'] > 0.25]['ratings_cut'].to_numpy()\n",
    "\n",
    "X_train, X_test, y_train, y_test = train_test_split(X,y, test_size=0.20, random_state=42)"
   ]
  },
  {
   "cell_type": "code",
   "execution_count": null,
   "metadata": {
    "colab": {
     "base_uri": "https://localhost:8080/"
    },
    "executionInfo": {
     "elapsed": 41875,
     "status": "ok",
     "timestamp": 1606063415909,
     "user": {
      "displayName": "Christian Stolborg",
      "photoUrl": "",
      "userId": "15409349448965301108"
     },
     "user_tz": -60
    },
    "id": "O1ooWz-CupaJ",
    "outputId": "7b0b6471-1acb-4f48-906c-d16047b86ee7"
   },
   "outputs": [
    {
     "name": "stdout",
     "output_type": "stream",
     "text": [
      "Dominant score: 0.7952\n",
      "Logistic score:  0.8227848101265823\n",
      "EL score:  0.03225788359677706\n",
      "Decision tree score:  0.7784810126582279\n",
      "RandomForest score:  0.7974683544303798\n"
     ]
    }
   ],
   "source": [
    "#Instantiate models\n",
    "log_clf = LogisticRegression()\n",
    "el_clf = ElasticNetCV()\n",
    "tree_clf = DecisionTreeClassifier()\n",
    "rnf_clf = RandomForestClassifier(n_estimators=500)\n",
    "xgb_clf = XGBClassifier(scale_pos_weight=class_imbalance)\n",
    "\n",
    "# Dominant model\n",
    "print('Dominant score:', round(np.bincount(y)[0] / len(y), 4))\n",
    "\n",
    "# Logistic regression\n",
    "log_clf.fit(X_train, y_train)\n",
    "print(\"Logistic score: \", log_clf.score(X_test,y_test))\n",
    "\n",
    "# Elastic net\n",
    "el_clf.fit(X_train, y_train)\n",
    "print(\"EL score: \", el_clf.score(X_test,y_test))\n",
    "\n",
    "# Tree model with CV\n",
    "parameters_tree = {\"max_depth\": [3,10,20, None],\n",
    "                   \"max_leaf_nodes\":[3,5,10,None]}\n",
    "\n",
    "grid_tree = GridSearchCV(tree_clf, parameters_tree, cv = 5)\n",
    "tree_clf = grid_tree.fit(X_train, y_train).best_estimator_\n",
    "print(\"Decision tree score: \", tree_clf.score(X_test,y_test))\n",
    "\n",
    "\n",
    "# RF with CV\n",
    "parameters_rnf = {'bootstrap': [True, False],\n",
    " 'max_depth': [3,10, 20, None],\n",
    " 'min_samples_split': [2, 5, 10],\n",
    " 'n_estimators': [500]}\n",
    "\n",
    "#grid_rnf = GridSearchCV(rnf_clf, parameters_rnf,cv = 5)\n",
    "#rnf_clf = grid_rnf.fit(X_train, y_train).best_estimator_\n",
    "rnf_clf.fit(X_train, y_train)\n",
    "\n",
    "print(\"RandomForest score: \", rnf_clf.score(X_test,y_test))"
   ]
  },
  {
   "cell_type": "markdown",
   "metadata": {
    "id": "gLp8Ogo8hJxl"
   },
   "source": [
    "# Topic modelling"
   ]
  },
  {
   "cell_type": "markdown",
   "metadata": {
    "id": "DyHM97nvE1v-"
   },
   "source": [
    "## TFIDF PYLDAVIS"
   ]
  },
  {
   "cell_type": "code",
   "execution_count": null,
   "metadata": {
    "id": "9wo3YeCSUAsC"
   },
   "outputs": [],
   "source": [
    "%%capture\n",
    "\n",
    "df_subset = df[df['ratings_cut'] == 0]\n",
    "dictionary = Dictionary(df_subset['tokens'])\n",
    "dictionary.filter_extremes(no_below=10, no_above=0.5) # No tokens that appear in less than 10 reviews\n",
    "corpus = [dictionary.doc2bow(doc) for doc in df['tokens']]\n",
    "\n",
    "# Training the model\n",
    "lda_model = LdaMulticore(corpus, id2word=dictionary, num_topics=3, workers = 4, passes=10)\n",
    "\n",
    "# Let's Visualize\n",
    "lda_display = pyLDAvis.gensim.prepare(lda_model, corpus, dictionary)"
   ]
  },
  {
   "cell_type": "code",
   "execution_count": null,
   "metadata": {
    "colab": {
     "base_uri": "https://localhost:8080/",
     "height": 861
    },
    "executionInfo": {
     "elapsed": 57936,
     "status": "ok",
     "timestamp": 1606063432074,
     "user": {
      "displayName": "Christian Stolborg",
      "photoUrl": "",
      "userId": "15409349448965301108"
     },
     "user_tz": -60
    },
    "id": "-Pgue3XFgWfo",
    "outputId": "ffed176a-4446-4da6-9901-491e53de6fc2"
   },
   "outputs": [
    {
     "data": {
      "text/html": [
       "\n",
       "<link rel=\"stylesheet\" type=\"text/css\" href=\"https://cdn.rawgit.com/bmabey/pyLDAvis/files/ldavis.v1.0.0.css\">\n",
       "\n",
       "\n",
       "<div id=\"ldavis_el2061396807436947688445286878\"></div>\n",
       "<script type=\"text/javascript\">\n",
       "\n",
       "var ldavis_el2061396807436947688445286878_data = {\"mdsDat\": {\"x\": [0.07573200422636946, -0.13266504053998435, 0.05693303631361486], \"y\": [0.08307280825191392, 0.00823680853026803, -0.09130961678218201], \"topics\": [1, 2, 3], \"cluster\": [1, 1, 1], \"Freq\": [45.17423755713561, 30.24598197396634, 24.57978046889805]}, \"tinfo\": {\"Term\": [\"wine\", \"good\", \"medium\", \"great\", \"nice\", \"price\", \"white\", \"apple\", \"palate\", \"vanilla\", \"lovely\", \"easy\", \"taste\", \"dark\", \"amazing\", \"red\", \"green\", \"fruity\", \"complex\", \"perfect\", \"black\", \"day\", \"little\", \"acid\", \"value\", \"pepper\", \"pear\", \"citrus\", \"big\", \"fresh\", \"medium\", \"bodied\", \"colour\", \"ruby\", \"vanilla\", \"currant\", \"med\", \"tobacco\", \"licorice\", \"purple\", \"cassis\", \"black\", \"blackcurrant\", \"clean\", \"alcohol\", \"ripe\", \"smoke\", \"sour\", \"cranberry\", \"blueberry\", \"present\", \"cheese\", \"spice\", \"blackberry\", \"tasty\", \"aroma\", \"warm\", \"elegant\", \"bouquet\", \"aromas\", \"cherry\", \"red\", \"raspberry\", \"plum\", \"body\", \"palate\", \"finish\", \"leather\", \"fruit\", \"acidity\", \"oak\", \"tannin\", \"chocolate\", \"nose\", \"dark\", \"deep\", \"note\", \"long\", \"sweet\", \"hint\", \"berry\", \"nice\", \"fresh\", \"dry\", \"light\", \"bad\", \"day\", \"grape\", \"tannic\", \"pretty\", \"big\", \"especially\", \"price\", \"great\", \"easy\", \"chardonnay\", \"noir\", \"depth\", \"drinking\", \"super\", \"buttery\", \"sweetness\", \"good\", \"food\", \"bold\", \"point\", \"character\", \"balance\", \"little\", \"heavy\", \"nice\", \"meat\", \"time\", \"structure\", \"bottle\", \"pinot\", \"wine\", \"fruity\", \"taste\", \"mouth\", \"fruit\", \"bit\", \"red\", \"year\", \"light\", \"value\", \"note\", \"oak\", \"dry\", \"nose\", \"smooth\", \"plum\", \"sweet\", \"amazing\", \"wonderful\", \"honey\", \"tart\", \"bitter\", \"perfect\", \"white\", \"lime\", \"fairly\", \"apple\", \"dense\", \"lovely\", \"definitely\", \"green\", \"acid\", \"pear\", \"minerality\", \"dinner\", \"complex\", \"lemon\", \"texture\", \"peach\", \"intense\", \"interesting\", \"citrus\", \"fine\", \"pleasant\", \"grapefruit\", \"melon\", \"pepper\", \"length\", \"bordeaux\", \"color\", \"flavor\", \"dark\", \"wine\", \"nose\", \"value\", \"tannin\", \"light\", \"smooth\", \"palate\", \"acidity\", \"finish\", \"long\", \"dry\", \"cherry\", \"fresh\", \"good\", \"fruit\", \"taste\", \"chocolate\"], \"Freq\": [321.0, 229.0, 168.0, 132.0, 175.0, 69.0, 40.0, 39.0, 115.0, 99.0, 37.0, 48.0, 86.0, 161.0, 24.0, 192.0, 29.0, 84.0, 40.0, 24.0, 129.0, 27.0, 57.0, 27.0, 50.0, 62.0, 25.0, 35.0, 29.0, 60.0, 163.21727071292983, 33.53049055278051, 27.54335514674749, 41.03772742850187, 90.5887243337495, 34.21016938558599, 17.786044094036427, 41.22614413616146, 26.283191033786714, 17.380893883680994, 18.173262739025596, 106.34056742793585, 17.000997925815845, 14.507076463978722, 20.646558030924222, 45.0972051287218, 10.625719520815558, 13.624044265036405, 9.834623117630068, 25.67062661245215, 8.212868862805434, 11.180025292693717, 60.00835684701509, 64.69462770717091, 10.147300956016998, 52.564080651620166, 10.047240765149299, 21.40481326452899, 12.722420376716155, 13.361357293402303, 147.197583202816, 129.02965736802685, 25.64290681481445, 63.719923942438186, 56.71723463850201, 76.940656785179, 103.66646637964489, 38.07284355668655, 161.90335699430824, 89.15871536271435, 77.13875170444143, 82.52478648208577, 46.976993021983496, 93.65706731364561, 78.25805509284582, 32.99543659429196, 48.33314746288208, 44.63583616032308, 40.36018407883797, 39.287691779501756, 39.16783057371015, 45.30768729309944, 36.0299978180716, 37.159527717804366, 37.32128335130946, 15.65731556751504, 25.598813546784307, 12.394183783407541, 16.375328604176048, 11.078205935621673, 25.381581699249868, 11.462108836060453, 58.71189657868067, 108.52069765670062, 39.92027425298052, 15.819667053140682, 10.810327554212853, 13.106784379324033, 23.78803935064158, 12.299309083029843, 9.172209855541663, 18.717921595874515, 170.5532002954358, 22.117568370799777, 25.013968047629195, 18.54344223376579, 9.20776930141033, 19.57388545379622, 40.940165507989626, 10.277595816844789, 121.83270314379003, 10.59701556001547, 25.305952440225436, 12.396858606310063, 25.580788983965782, 24.98228558547545, 186.54251150034582, 52.56868214124663, 52.40998483806028, 23.406026336361915, 76.63649951432703, 31.660795484441007, 58.19131203931553, 22.721266842936455, 38.97391345690349, 24.082586259806284, 27.7360900307132, 30.58036990778062, 25.98997288551711, 30.635501449447307, 25.664067149655935, 23.894174874299644, 22.471601409164577, 23.877221573562743, 12.555997830785879, 12.530020055166958, 15.189724842130978, 13.967388604153856, 22.597575443983725, 36.07461304728664, 17.153438002953486, 9.156943625960368, 33.60433473394624, 12.08494836334406, 30.76949414498274, 14.93848890751962, 24.223928851278295, 22.648475043932763, 20.298530034617173, 14.570247485630974, 9.521575578666647, 29.202860867547784, 18.987743155692094, 9.702470044386112, 16.481246498239578, 18.08791956432067, 7.953752883980734, 22.733061060182468, 12.110239181804834, 16.76496961822696, 11.026004885431615, 6.459368362918893, 34.36100037902981, 10.204929155833039, 12.238860133258976, 32.10331371605304, 35.401603082187165, 63.703252704904074, 107.75891831363612, 63.49217236028837, 23.642180163270957, 45.57084186955249, 39.58831255086752, 34.21605634413079, 37.57924942256642, 38.610270054735025, 36.98840738451998, 27.041036131887974, 28.602362174592578, 39.73587094843697, 23.485589260439276, 36.34115242464672, 37.47038830308262, 24.82137745445134, 23.67723656841844], \"Total\": [321.0, 229.0, 168.0, 132.0, 175.0, 69.0, 40.0, 39.0, 115.0, 99.0, 37.0, 48.0, 86.0, 161.0, 24.0, 192.0, 29.0, 84.0, 40.0, 24.0, 129.0, 27.0, 57.0, 27.0, 50.0, 62.0, 25.0, 35.0, 29.0, 60.0, 168.74966570285451, 34.74251621438559, 29.74402561572571, 44.601720799791195, 99.10136032164924, 37.65485915514428, 19.807248865026477, 46.54149287693815, 30.66383896527428, 20.752670930423744, 21.758770951225564, 129.43257301187484, 20.77040299813028, 17.801021642007008, 25.704257267625547, 56.32061551663301, 13.803209193563424, 17.748045640157173, 12.826887033734963, 33.5196291070799, 10.861104310901537, 14.811634674572893, 79.88741342025624, 87.80945362818088, 13.817583869741274, 71.9951656208635, 13.78381894366872, 29.55988652262203, 17.7585381187992, 18.697801638358385, 208.72185627971896, 192.16060943690076, 36.48729206317797, 94.55982008984726, 83.71937732658331, 115.89330293305814, 163.0914114452041, 56.1130771474842, 276.0102448117179, 147.20836290330095, 128.6775858731171, 144.06615420888616, 76.52566088802747, 187.78474112338128, 161.22822743550577, 50.13754983998588, 88.31410359515118, 79.3430034890694, 73.59128926940146, 71.56760325068768, 75.40627801330486, 175.55343404449934, 60.747690133206916, 91.75186277791406, 115.88350935908048, 16.493492034809005, 27.154136288372943, 13.59285596194246, 18.454471991088454, 12.630501880261521, 29.07722277570711, 13.583600007340063, 69.74572164266195, 132.10146435850064, 48.67119388559894, 19.464180986354933, 13.562803464794092, 16.552517591995905, 30.088825132611436, 15.581136101338231, 11.684246185106627, 24.279877431510243, 229.99741977466317, 30.07513235819273, 34.12828519104087, 25.35050898677969, 12.634653616885792, 27.17519739381343, 57.49197846597639, 14.636745266374142, 175.55343404449934, 15.489081567826151, 37.77487239467489, 18.562088344268027, 38.694402124350034, 37.79376572862539, 321.471591245562, 84.99780853155873, 86.26232410551543, 37.997884459097925, 276.0102448117179, 71.22448413015333, 192.16060943690076, 43.68907675521207, 115.88350935908048, 50.23823549157696, 88.31410359515118, 128.6775858731171, 91.75186277791406, 187.78474112338128, 93.54820120532803, 94.55982008984726, 73.59128926940146, 24.97231756730988, 13.45783023180589, 13.458586196265287, 16.343148120005193, 15.393293540131253, 24.986715387421935, 40.401631982053615, 19.257265017813967, 10.58091909058312, 39.541955940665474, 14.451207628046346, 37.650248729177996, 18.286935996290225, 29.937612346808663, 27.99086850877392, 25.10837194239303, 18.347264186612698, 12.53194264727735, 40.57225758178008, 27.13650199025586, 14.55143737343106, 25.241496082223435, 28.144428570915558, 12.549939490004217, 35.94147963494374, 19.393048737849682, 29.059876510195117, 19.467604465204317, 11.666273201526115, 62.16799738704429, 18.50035256859665, 22.390143728000112, 62.20579793481706, 76.79937568039196, 161.22822743550577, 321.471591245562, 187.78474112338128, 50.23823549157696, 144.06615420888616, 115.88350935908048, 93.54820120532803, 115.89330293305814, 147.20836290330095, 163.0914114452041, 79.3430034890694, 91.75186277791406, 208.72185627971896, 60.747690133206916, 229.99741977466317, 276.0102448117179, 86.26232410551543, 76.52566088802747], \"Category\": [\"Default\", \"Default\", \"Default\", \"Default\", \"Default\", \"Default\", \"Default\", \"Default\", \"Default\", \"Default\", \"Default\", \"Default\", \"Default\", \"Default\", \"Default\", \"Default\", \"Default\", \"Default\", \"Default\", \"Default\", \"Default\", \"Default\", \"Default\", \"Default\", \"Default\", \"Default\", \"Default\", \"Default\", \"Default\", \"Default\", \"Topic1\", \"Topic1\", \"Topic1\", \"Topic1\", \"Topic1\", \"Topic1\", \"Topic1\", \"Topic1\", \"Topic1\", \"Topic1\", \"Topic1\", \"Topic1\", \"Topic1\", \"Topic1\", \"Topic1\", \"Topic1\", \"Topic1\", \"Topic1\", \"Topic1\", \"Topic1\", \"Topic1\", \"Topic1\", \"Topic1\", \"Topic1\", \"Topic1\", \"Topic1\", \"Topic1\", \"Topic1\", \"Topic1\", \"Topic1\", \"Topic1\", \"Topic1\", \"Topic1\", \"Topic1\", \"Topic1\", \"Topic1\", \"Topic1\", \"Topic1\", \"Topic1\", \"Topic1\", \"Topic1\", \"Topic1\", \"Topic1\", \"Topic1\", \"Topic1\", \"Topic1\", \"Topic1\", \"Topic1\", \"Topic1\", \"Topic1\", \"Topic1\", \"Topic1\", \"Topic1\", \"Topic1\", \"Topic1\", \"Topic2\", \"Topic2\", \"Topic2\", \"Topic2\", \"Topic2\", \"Topic2\", \"Topic2\", \"Topic2\", \"Topic2\", \"Topic2\", \"Topic2\", \"Topic2\", \"Topic2\", \"Topic2\", \"Topic2\", \"Topic2\", \"Topic2\", \"Topic2\", \"Topic2\", \"Topic2\", \"Topic2\", \"Topic2\", \"Topic2\", \"Topic2\", \"Topic2\", \"Topic2\", \"Topic2\", \"Topic2\", \"Topic2\", \"Topic2\", \"Topic2\", \"Topic2\", \"Topic2\", \"Topic2\", \"Topic2\", \"Topic2\", \"Topic2\", \"Topic2\", \"Topic2\", \"Topic2\", \"Topic2\", \"Topic2\", \"Topic2\", \"Topic2\", \"Topic2\", \"Topic2\", \"Topic2\", \"Topic2\", \"Topic3\", \"Topic3\", \"Topic3\", \"Topic3\", \"Topic3\", \"Topic3\", \"Topic3\", \"Topic3\", \"Topic3\", \"Topic3\", \"Topic3\", \"Topic3\", \"Topic3\", \"Topic3\", \"Topic3\", \"Topic3\", \"Topic3\", \"Topic3\", \"Topic3\", \"Topic3\", \"Topic3\", \"Topic3\", \"Topic3\", \"Topic3\", \"Topic3\", \"Topic3\", \"Topic3\", \"Topic3\", \"Topic3\", \"Topic3\", \"Topic3\", \"Topic3\", \"Topic3\", \"Topic3\", \"Topic3\", \"Topic3\", \"Topic3\", \"Topic3\", \"Topic3\", \"Topic3\", \"Topic3\", \"Topic3\", \"Topic3\", \"Topic3\", \"Topic3\", \"Topic3\", \"Topic3\", \"Topic3\", \"Topic3\", \"Topic3\", \"Topic3\", \"Topic3\"], \"logprob\": [30.0, 29.0, 28.0, 27.0, 26.0, 25.0, 24.0, 23.0, 22.0, 21.0, 20.0, 19.0, 18.0, 17.0, 16.0, 15.0, 14.0, 13.0, 12.0, 11.0, 10.0, 9.0, 8.0, 7.0, 6.0, 5.0, 4.0, 3.0, 2.0, 1.0, -3.166800022125244, -4.7494001388549805, -4.946100234985352, -4.547399997711182, -3.755500078201294, -4.729300022125244, -5.383399963378906, -4.542799949645996, -4.9928998947143555, -5.406499862670898, -5.3618998527526855, -3.5952000617980957, -5.428599834442139, -5.587200164794922, -5.234300136566162, -4.453000068664551, -5.898600101470947, -5.650000095367432, -5.975900173187256, -5.016499996185303, -6.156099796295166, -5.847700119018555, -4.167399883270264, -4.092199802398682, -5.9446001052856445, -4.299799919128418, -5.954500198364258, -5.198200225830078, -5.718500137329102, -5.66949987411499, -3.2701001167297363, -3.4017999172210693, -5.017600059509277, -4.1072998046875, -4.223800182342529, -3.918800115585327, -3.620699882507324, -4.622300148010254, -3.174799919128418, -3.771399974822998, -3.9161999225616455, -3.8487000465393066, -4.412199974060059, -3.7221999168395996, -3.9017999172210693, -4.765500068664551, -4.383699893951416, -4.4633002281188965, -4.564000129699707, -4.59089994430542, -4.593999862670898, -4.448400020599365, -4.677499771118164, -4.646599769592285, -4.642300128936768, -5.1097002029418945, -4.618100166320801, -5.343500137329102, -5.064899921417236, -5.455699920654297, -4.626699924468994, -5.421599864959717, -3.7880001068115234, -3.1737000942230225, -4.173799991607666, -5.099400043487549, -5.480199813842773, -5.287600040435791, -4.691500186920166, -5.351099967956543, -5.644499778747559, -4.93120002746582, -2.72160005569458, -4.7642998695373535, -4.641200065612793, -4.9405999183654785, -5.640600204467773, -4.886499881744385, -4.148600101470947, -5.530700206756592, -3.058000087738037, -5.500100135803223, -4.6296000480651855, -5.343200206756592, -4.618800163269043, -4.642499923706055, -2.631999969482422, -3.8986001014709473, -3.901599884033203, -4.707699775695801, -3.5216000080108643, -4.405600070953369, -3.7969000339508057, -4.737400054931641, -4.197800159454346, -4.679200172424316, -4.537899971008301, -4.440299987792969, -4.603000164031982, -4.438499927520752, -4.615600109100342, -4.686999797821045, -4.7484002113342285, -4.480299949645996, -5.123000144958496, -5.125100135803223, -4.932600021362305, -5.016499996185303, -4.535399913787842, -4.067699909210205, -4.810999870300293, -5.438700199127197, -4.138599872589111, -5.161300182342529, -4.2266998291015625, -4.9492998123168945, -4.46589994430542, -4.533199787139893, -4.6427001953125, -4.974299907684326, -5.399700164794922, -4.2789998054504395, -4.709400177001953, -5.380899906158447, -4.85099983215332, -4.757999897003174, -5.579599857330322, -4.529399871826172, -5.159200191497803, -4.834000110626221, -5.252999782562256, -5.787700176239014, -4.116300106048584, -5.330399990081787, -5.148600101470947, -4.184299945831299, -4.08650016784668, -3.499000072479248, -2.973299980163574, -3.5023000240325928, -4.490200042724609, -3.8340001106262207, -3.9746999740600586, -4.120500087738037, -4.026800155639648, -3.9997000694274902, -4.042600154876709, -4.355899810791016, -4.299799919128418, -3.9709999561309814, -4.4969000816345215, -4.060299873352051, -4.029699802398682, -4.441500186920166, -4.488699913024902], \"loglift\": [30.0, 29.0, 28.0, 27.0, 26.0, 25.0, 24.0, 23.0, 22.0, 21.0, 20.0, 19.0, 18.0, 17.0, 16.0, 15.0, 14.0, 13.0, 12.0, 11.0, 10.0, 9.0, 8.0, 7.0, 6.0, 5.0, 4.0, 3.0, 2.0, 1.0, 0.7613, 0.7591, 0.7178, 0.7114, 0.7048, 0.6987, 0.687, 0.6734, 0.6405, 0.6173, 0.6146, 0.5981, 0.5944, 0.59, 0.5755, 0.5724, 0.533, 0.5302, 0.529, 0.5279, 0.5152, 0.5134, 0.5085, 0.4892, 0.4859, 0.4801, 0.4784, 0.4718, 0.4611, 0.4586, 0.4454, 0.3964, 0.4419, 0.3999, 0.4053, 0.385, 0.3415, 0.4068, 0.2612, 0.2932, 0.2829, 0.2375, 0.3067, 0.099, 0.0718, 0.3762, 0.1919, 0.2194, 0.194, 0.1949, 0.1396, -0.5598, 0.2723, -0.1092, -0.3384, 1.1438, 1.1368, 1.1035, 1.0763, 1.0647, 1.0599, 1.026, 1.0236, 0.9992, 0.9976, 0.9885, 0.969, 0.9624, 0.9608, 0.9593, 0.9537, 0.9356, 0.8968, 0.8885, 0.8851, 0.8831, 0.8794, 0.8677, 0.8563, 0.8422, 0.8305, 0.8162, 0.7952, 0.7921, 0.782, 0.7818, 0.6516, 0.7153, 0.6975, 0.7113, -0.0856, 0.385, 0.0012, 0.542, 0.1061, 0.4605, 0.0376, -0.2411, -0.0656, -0.6173, -0.0976, -0.1798, 0.0095, 1.3584, 1.3339, 1.3318, 1.3301, 1.306, 1.3027, 1.29, 1.2876, 1.2587, 1.2405, 1.2244, 1.2014, 1.201, 1.1915, 1.1915, 1.1906, 1.1727, 1.1285, 1.0744, 1.0462, 0.9979, 0.977, 0.9611, 0.9472, 0.9452, 0.9324, 0.8532, 0.8348, 0.8121, 0.8103, 0.8083, 0.7992, 0.7418, 0.6288, 0.4747, 0.3102, 0.3189, 0.6495, 0.2522, 0.3292, 0.3975, 0.277, 0.0649, -0.0805, 0.3268, 0.2376, -0.2555, 0.4529, -0.4419, -0.5936, 0.1576, 0.2301]}, \"token.table\": {\"Topic\": [1, 2, 3, 1, 2, 3, 1, 2, 3, 2, 3, 1, 3, 1, 2, 3, 1, 2, 3, 1, 2, 1, 2, 3, 1, 2, 3, 1, 2, 3, 1, 2, 3, 1, 3, 1, 2, 3, 1, 2, 3, 1, 2, 1, 2, 3, 1, 3, 1, 2, 3, 1, 2, 3, 1, 2, 3, 1, 2, 3, 1, 2, 1, 2, 1, 2, 3, 1, 2, 3, 1, 2, 3, 1, 2, 1, 2, 3, 1, 2, 3, 1, 2, 3, 1, 2, 1, 2, 3, 1, 2, 3, 1, 2, 3, 1, 2, 3, 1, 2, 3, 1, 2, 3, 1, 2, 3, 1, 2, 3, 1, 2, 3, 1, 2, 3, 1, 2, 1, 2, 3, 1, 2, 3, 1, 2, 3, 1, 2, 3, 1, 2, 3, 1, 2, 3, 2, 3, 1, 2, 3, 1, 2, 3, 1, 2, 3, 1, 2, 3, 1, 2, 3, 1, 2, 3, 1, 2, 3, 1, 2, 3, 1, 2, 1, 2, 3, 1, 2, 3, 1, 3, 1, 2, 1, 2, 3, 1, 3, 1, 2, 3, 1, 2, 3, 1, 2, 3, 1, 2, 3, 1, 2, 3, 1, 2, 3, 1, 2, 3, 1, 3, 1, 2, 3, 1, 2, 3, 1, 2, 3, 1, 2, 3, 1, 3, 1, 2, 3, 1, 2, 3, 1, 2, 3, 1, 2, 3, 1, 2, 3, 2, 3, 1, 2, 3, 1, 2, 3, 1, 2, 3, 1, 2, 3, 1, 3, 1, 3, 1, 2, 3, 2, 3, 1, 2, 3, 1, 2, 3, 1, 2, 3, 1, 2, 3, 1, 2, 1, 2, 1, 2, 3, 1, 3, 1, 2, 3, 1, 2, 3, 1, 2, 3, 1, 2, 3, 1, 3, 1, 2, 3, 1, 2, 3, 1, 2, 3, 1, 2, 1, 2, 1, 2, 3, 1, 2, 3, 1, 2, 3, 1, 2, 3, 1, 3, 1, 2, 3, 1, 2, 1, 3, 1, 2, 3, 1, 2, 3, 1, 2, 3, 1, 2, 3, 1, 3, 1, 2, 3, 1, 2, 3, 1, 3, 1, 2, 3], \"Freq\": [0.14290374729695057, 0.03572593682423764, 0.8216965469574657, 0.6045852167954807, 0.1290687541473498, 0.26493060061824436, 0.8169852869644848, 0.15561624513609235, 0.038904061284023086, 0.04004434099096411, 0.9610641837831385, 0.1517375622238636, 0.859846185935227, 0.7361605399882727, 0.180567679619765, 0.08333892905527615, 0.6952689012023, 0.0534822231694077, 0.26741111584703847, 0.060629974409878204, 0.9700795905580513, 0.11039478229081659, 0.7359652152721106, 0.18399130381802764, 0.5171983159428549, 0.21218392448937637, 0.2652299056117205, 0.034391179918168154, 0.8597794979542038, 0.10317353975450445, 0.35100289325108774, 0.4492837033613923, 0.21060173595065262, 0.06496335546339964, 0.9094869764875949, 0.8189592274448179, 0.05408221313314835, 0.12361648716148195, 0.7402392033463173, 0.2049893178497494, 0.06832977261658313, 0.8184723234079914, 0.14443629236611613, 0.7756649071784738, 0.029833265660710533, 0.20883285962497372, 0.9786280242397026, 0.028783177183520664, 0.6808459620721624, 0.23889332002532015, 0.08361266200886205, 0.2344096679694914, 0.7325302124046607, 0.029301208496186424, 0.40196258270307583, 0.04466250918923065, 0.5359501102707678, 0.02584353149549529, 0.6719318188828776, 0.3101223779459435, 0.7320422386704337, 0.28155470718093606, 0.17117064877914917, 0.7702679195061712, 0.8272526072519804, 0.09191695636133115, 0.04595847818066558, 0.1582948025838292, 0.7123266116272313, 0.1582948025838292, 0.15412926966221205, 0.8220227715317976, 0.05137642322073735, 0.7426594188745204, 0.20254347787486918, 0.7042865688344477, 0.10540343207046157, 0.1916426037644756, 0.6141730689365821, 0.07840507263020197, 0.31362029052080787, 0.33387607082077725, 0.02782300590173144, 0.6399291357398231, 0.84264826489525, 0.16852965297905, 0.32151343868231047, 0.16075671934115524, 0.5144215018916968, 0.9413655152716234, 0.03362019697398655, 0.03362019697398655, 0.14788430217140394, 0.12323691847616995, 0.7147741271617858, 0.7796123855850453, 0.07796123855850454, 0.15592247711700907, 0.9029379145972728, 0.02655699748815508, 0.05311399497631016, 0.4837862528210293, 0.11784536927691738, 0.39695282282751115, 0.036826801978900994, 0.9574968514514258, 0.036826801978900994, 0.6581893232780538, 0.11967078605055523, 0.2193964410926846, 0.05468384644660345, 0.16405153933981037, 0.8202576966990518, 0.06919836914246796, 0.06919836914246796, 0.8303804297096157, 0.18124131168123167, 0.7853790172853372, 0.07979608813620423, 0.15959217627240846, 0.7979608813620422, 0.09970479029267526, 0.7976383223414021, 0.13293972039023366, 0.4032615674469599, 0.283372993341107, 0.31606987718815777, 0.16436827127774808, 0.8218413563887405, 0.02054603390971851, 0.7104222130192823, 0.10148888757418319, 0.16914814595697197, 0.07361818659704628, 0.8098000525675091, 0.07361818659704628, 0.09450974829681734, 0.8505877346713561, 0.2578243404422241, 0.10312973617688963, 0.6187784170613377, 0.6376791952342764, 0.13489367591494308, 0.22686663676604063, 0.299481601200988, 0.23437690528772973, 0.45573287139280777, 0.09975018444707771, 0.7315013526119032, 0.1662503074117962, 0.5926151253003953, 0.016461531258344313, 0.3786152189419192, 0.5869347353773383, 0.2789751520003398, 0.1340529951170464, 0.3294202578129284, 0.623545488003043, 0.04706003683041834, 0.10000112184968829, 0.7434866015781173, 0.15652349506907734, 0.07356805683807871, 0.8828166820569445, 0.41093910728969796, 0.051367388411212245, 0.5650412725233347, 0.1059791431380837, 0.8251233287179374, 0.07569938795577406, 0.16701398702335052, 0.8016671377120824, 0.2732847998106134, 0.6832119995265334, 0.544939305336109, 0.22356484321481393, 0.22356484321481393, 0.0743020095437288, 0.9659261240684743, 0.31977909863483944, 0.03553101095942661, 0.6395581972696789, 0.07968165908660202, 0.23904497725980606, 0.6374532726928162, 0.6772039947145139, 0.17821157755645103, 0.14256926204516082, 0.2948058671258598, 0.03685073339073248, 0.7001639344239171, 0.43242419139511795, 0.054053023924389744, 0.5405302392438974, 0.8479042702201798, 0.032611702700776145, 0.09783510810232843, 0.31928615386811054, 0.33654486488800844, 0.34517422039795737, 0.10385690793318243, 0.8827837174320506, 0.2261185011695739, 0.7131429652271177, 0.05218119257759398, 0.5671577583548293, 0.10082804592974742, 0.3402946550128976, 0.15936149700254573, 0.026560249500424286, 0.8233677345131529, 0.06456160719543214, 0.7101776791497534, 0.25824642878172854, 0.9087582088082145, 0.10097313431202383, 0.9659278394484117, 0.005925937665327679, 0.029629688326638395, 0.3428687063043186, 0.08571717657607965, 0.5143030594564779, 0.1635121165469992, 0.054504038848999736, 0.817560582734996, 0.26317254611277907, 0.6052968560593919, 0.13158627305638954, 0.2563322115851826, 0.6949451069642728, 0.0455701709484769, 0.8110417605440838, 0.1474621382807425, 0.5005731532693524, 0.16508263565265877, 0.33549051761669363, 0.5435145468954905, 0.3170501523557028, 0.13587863672387263, 0.5983948134986466, 0.2409121976423123, 0.16319858549963093, 0.6644042239824371, 0.008628626285486198, 0.32788779884847546, 0.3169384244872108, 0.6338768489744216, 0.15930941317809583, 0.7965470658904792, 0.3056234847281661, 0.1447690190817629, 0.5469051831977709, 0.08004253336181914, 0.9204891336609202, 0.07937817103331857, 0.6614847586109881, 0.26459390344439526, 0.20647025110017284, 0.20647025110017284, 0.584999044783823, 0.676820238650936, 0.253807589494101, 0.07402721360244613, 0.23668163835010195, 0.7494918547753229, 0.03944693972501699, 0.736573351198756, 0.184143337799689, 0.07917341761080475, 0.8709075937188522, 0.014337797021062316, 0.8459300242426767, 0.14337797021062315, 0.8191716650350646, 0.14455970559442316, 0.7125768597730092, 0.27406802298961896, 0.027406802298961894, 0.6713134412823528, 0.3018308495688098, 0.026019900824897396, 0.7989969496464447, 0.12428841438944696, 0.07102195107968398, 0.9192470439434691, 0.022420659608377295, 0.0672619788251319, 0.7969161262244299, 0.21734076169757177, 0.3634489980771916, 0.27793158676491125, 0.3634489980771916, 0.7888192471357662, 0.05634423193826902, 0.16903269581480707, 0.7510569867165885, 0.11265854800748827, 0.1376937808980412, 0.3232394916304124, 0.6464789832608248, 0.19254051697439034, 0.7701620678975614, 0.543542590395024, 0.2989484247172632, 0.1494742123586316, 0.12355910809115628, 0.7825410179106564, 0.12355910809115628, 0.10837481565258476, 0.8669985252206781, 0.05418740782629238, 0.5761242149884533, 0.11106008963632835, 0.319297757704444, 0.061187721769218245, 0.9178158265382738, 0.10433291814618009, 0.6028124159557072, 0.2898136615171669, 0.7237155275676459, 0.21711465827029378, 0.27488693366494876, 0.6872173341623719, 0.07941787251206993, 0.6618156042672494, 0.2647262417068998, 0.8809343548220383, 0.04297240755229455, 0.06445861132844183, 0.059715473098233836, 0.4777237847858707, 0.4777237847858707, 0.9182517747954722, 0.030272036531718862, 0.060544073063437724, 0.7254883454917456, 0.21764650364752366, 0.0495029507938788, 0.0495029507938788, 0.8910531142898184, 0.08398875899231653, 0.5816999233912292, 0.3359550359692661, 0.0743061832981535, 0.9659803828759954, 0.1831121322344173, 0.5264473801739498, 0.2975572148809281], \"Term\": [\"acid\", \"acid\", \"acid\", \"acidity\", \"acidity\", \"acidity\", \"alcohol\", \"alcohol\", \"alcohol\", \"amazing\", \"amazing\", \"apple\", \"apple\", \"aroma\", \"aroma\", \"aroma\", \"aromas\", \"aromas\", \"aromas\", \"bad\", \"bad\", \"balance\", \"balance\", \"balance\", \"berry\", \"berry\", \"berry\", \"big\", \"big\", \"big\", \"bit\", \"bit\", \"bit\", \"bitter\", \"bitter\", \"black\", \"black\", \"black\", \"blackberry\", \"blackberry\", \"blackberry\", \"blackcurrant\", \"blackcurrant\", \"blueberry\", \"blueberry\", \"blueberry\", \"bodied\", \"bodied\", \"body\", \"body\", \"body\", \"bold\", \"bold\", \"bold\", \"bordeaux\", \"bordeaux\", \"bordeaux\", \"bottle\", \"bottle\", \"bottle\", \"bouquet\", \"bouquet\", \"buttery\", \"buttery\", \"cassis\", \"cassis\", \"cassis\", \"character\", \"character\", \"character\", \"chardonnay\", \"chardonnay\", \"chardonnay\", \"cheese\", \"cheese\", \"cherry\", \"cherry\", \"cherry\", \"chocolate\", \"chocolate\", \"chocolate\", \"citrus\", \"citrus\", \"citrus\", \"clean\", \"clean\", \"color\", \"color\", \"color\", \"colour\", \"colour\", \"colour\", \"complex\", \"complex\", \"complex\", \"cranberry\", \"cranberry\", \"cranberry\", \"currant\", \"currant\", \"currant\", \"dark\", \"dark\", \"dark\", \"day\", \"day\", \"day\", \"deep\", \"deep\", \"deep\", \"definitely\", \"definitely\", \"definitely\", \"dense\", \"dense\", \"dense\", \"depth\", \"depth\", \"dinner\", \"dinner\", \"dinner\", \"drinking\", \"drinking\", \"drinking\", \"dry\", \"dry\", \"dry\", \"easy\", \"easy\", \"easy\", \"elegant\", \"elegant\", \"elegant\", \"especially\", \"especially\", \"especially\", \"fairly\", \"fairly\", \"fine\", \"fine\", \"fine\", \"finish\", \"finish\", \"finish\", \"flavor\", \"flavor\", \"flavor\", \"food\", \"food\", \"food\", \"fresh\", \"fresh\", \"fresh\", \"fruit\", \"fruit\", \"fruit\", \"fruity\", \"fruity\", \"fruity\", \"good\", \"good\", \"good\", \"grape\", \"grape\", \"grapefruit\", \"grapefruit\", \"grapefruit\", \"great\", \"great\", \"great\", \"green\", \"green\", \"heavy\", \"heavy\", \"hint\", \"hint\", \"hint\", \"honey\", \"honey\", \"intense\", \"intense\", \"intense\", \"interesting\", \"interesting\", \"interesting\", \"leather\", \"leather\", \"leather\", \"lemon\", \"lemon\", \"lemon\", \"length\", \"length\", \"length\", \"licorice\", \"licorice\", \"licorice\", \"light\", \"light\", \"light\", \"lime\", \"lime\", \"little\", \"little\", \"little\", \"long\", \"long\", \"long\", \"lovely\", \"lovely\", \"lovely\", \"meat\", \"meat\", \"meat\", \"med\", \"med\", \"medium\", \"medium\", \"medium\", \"melon\", \"melon\", \"melon\", \"minerality\", \"minerality\", \"minerality\", \"mouth\", \"mouth\", \"mouth\", \"nice\", \"nice\", \"nice\", \"noir\", \"noir\", \"nose\", \"nose\", \"nose\", \"note\", \"note\", \"note\", \"oak\", \"oak\", \"oak\", \"palate\", \"palate\", \"palate\", \"peach\", \"peach\", \"pear\", \"pear\", \"pepper\", \"pepper\", \"pepper\", \"perfect\", \"perfect\", \"pinot\", \"pinot\", \"pinot\", \"pleasant\", \"pleasant\", \"pleasant\", \"plum\", \"plum\", \"plum\", \"point\", \"point\", \"point\", \"present\", \"present\", \"pretty\", \"pretty\", \"price\", \"price\", \"price\", \"purple\", \"purple\", \"raspberry\", \"raspberry\", \"raspberry\", \"red\", \"red\", \"red\", \"ripe\", \"ripe\", \"ripe\", \"ruby\", \"ruby\", \"ruby\", \"smoke\", \"smoke\", \"smooth\", \"smooth\", \"smooth\", \"sour\", \"sour\", \"sour\", \"spice\", \"spice\", \"spice\", \"structure\", \"structure\", \"super\", \"super\", \"sweet\", \"sweet\", \"sweet\", \"sweetness\", \"sweetness\", \"sweetness\", \"tannic\", \"tannic\", \"tannic\", \"tannin\", \"tannin\", \"tannin\", \"tart\", \"tart\", \"taste\", \"taste\", \"taste\", \"tasty\", \"tasty\", \"texture\", \"texture\", \"time\", \"time\", \"time\", \"tobacco\", \"tobacco\", \"tobacco\", \"value\", \"value\", \"value\", \"vanilla\", \"vanilla\", \"vanilla\", \"warm\", \"warm\", \"white\", \"white\", \"white\", \"wine\", \"wine\", \"wine\", \"wonderful\", \"wonderful\", \"year\", \"year\", \"year\"]}, \"R\": 30, \"lambda.step\": 0.01, \"plot.opts\": {\"xlab\": \"PC1\", \"ylab\": \"PC2\"}, \"topic.order\": [3, 1, 2]};\n",
       "\n",
       "function LDAvis_load_lib(url, callback){\n",
       "  var s = document.createElement('script');\n",
       "  s.src = url;\n",
       "  s.async = true;\n",
       "  s.onreadystatechange = s.onload = callback;\n",
       "  s.onerror = function(){console.warn(\"failed to load library \" + url);};\n",
       "  document.getElementsByTagName(\"head\")[0].appendChild(s);\n",
       "}\n",
       "\n",
       "if(typeof(LDAvis) !== \"undefined\"){\n",
       "   // already loaded: just create the visualization\n",
       "   !function(LDAvis){\n",
       "       new LDAvis(\"#\" + \"ldavis_el2061396807436947688445286878\", ldavis_el2061396807436947688445286878_data);\n",
       "   }(LDAvis);\n",
       "}else if(typeof define === \"function\" && define.amd){\n",
       "   // require.js is available: use it to load d3/LDAvis\n",
       "   require.config({paths: {d3: \"https://cdnjs.cloudflare.com/ajax/libs/d3/3.5.5/d3.min\"}});\n",
       "   require([\"d3\"], function(d3){\n",
       "      window.d3 = d3;\n",
       "      LDAvis_load_lib(\"https://cdn.rawgit.com/bmabey/pyLDAvis/files/ldavis.v1.0.0.js\", function(){\n",
       "        new LDAvis(\"#\" + \"ldavis_el2061396807436947688445286878\", ldavis_el2061396807436947688445286878_data);\n",
       "      });\n",
       "    });\n",
       "}else{\n",
       "    // require.js not available: dynamically load d3 & LDAvis\n",
       "    LDAvis_load_lib(\"https://cdnjs.cloudflare.com/ajax/libs/d3/3.5.5/d3.min.js\", function(){\n",
       "         LDAvis_load_lib(\"https://cdn.rawgit.com/bmabey/pyLDAvis/files/ldavis.v1.0.0.js\", function(){\n",
       "                 new LDAvis(\"#\" + \"ldavis_el2061396807436947688445286878\", ldavis_el2061396807436947688445286878_data);\n",
       "            })\n",
       "         });\n",
       "}\n",
       "</script>"
      ],
      "text/plain": [
       "<IPython.core.display.HTML object>"
      ]
     },
     "execution_count": 29,
     "metadata": {
      "tags": []
     },
     "output_type": "execute_result"
    }
   ],
   "source": [
    "pyLDAvis.display(lda_display)"
   ]
  },
  {
   "cell_type": "code",
   "execution_count": null,
   "metadata": {
    "id": "ANuLfMrzw5VZ"
   },
   "outputs": [],
   "source": [
    "%%capture\n",
    "\n",
    "df_subset = df[df['ratings_cut'] == 1]\n",
    "dictionary = Dictionary(df_subset['tokens'])\n",
    "dictionary.filter_extremes(no_below=10, no_above=0.5) # No tokens that appear in less than 10 reviews\n",
    "corpus = [dictionary.doc2bow(doc) for doc in df['tokens']]\n",
    "\n",
    "# Training the model\n",
    "lda_model = LdaMulticore(corpus, id2word=dictionary, num_topics=3, workers = 4, passes=10)\n",
    "\n",
    "# Let's Visualize\n",
    "lda_display = pyLDAvis.gensim.prepare(lda_model, corpus, dictionary)"
   ]
  },
  {
   "cell_type": "code",
   "execution_count": null,
   "metadata": {
    "colab": {
     "base_uri": "https://localhost:8080/",
     "height": 861
    },
    "executionInfo": {
     "elapsed": 69264,
     "status": "ok",
     "timestamp": 1606063443513,
     "user": {
      "displayName": "Christian Stolborg",
      "photoUrl": "",
      "userId": "15409349448965301108"
     },
     "user_tz": -60
    },
    "id": "dQBwb-fDw68A",
    "outputId": "b28efca2-3acd-4d19-f19f-92ee6075c741"
   },
   "outputs": [
    {
     "data": {
      "text/html": [
       "\n",
       "<link rel=\"stylesheet\" type=\"text/css\" href=\"https://cdn.rawgit.com/bmabey/pyLDAvis/files/ldavis.v1.0.0.css\">\n",
       "\n",
       "\n",
       "<div id=\"ldavis_el2061396807436953688561692645\"></div>\n",
       "<script type=\"text/javascript\">\n",
       "\n",
       "var ldavis_el2061396807436953688561692645_data = {\"mdsDat\": {\"x\": [-0.05552517097877806, -0.09475129150878253, 0.1502764624875606], \"y\": [0.10913567276023718, -0.09166430886780202, -0.017471363892435123], \"topics\": [1, 2, 3], \"cluster\": [1, 1, 1], \"Freq\": [40.93348598990742, 32.766545361274424, 26.29996864881816]}, \"tinfo\": {\"Term\": [\"wine\", \"great\", \"medium\", \"taste\", \"dry\", \"nice\", \"smooth\", \"palate\", \"vanilla\", \"berry\", \"balanced\", \"color\", \"year\", \"bit\", \"blend\", \"cherry\", \"blackberry\", \"oak\", \"elegant\", \"finish\", \"note\", \"delicious\", \"complex\", \"flavor\", \"body\", \"fruit\", \"aroma\", \"long\", \"cab\", \"ruby\", \"medium\", \"blend\", \"vanilla\", \"blueberry\", \"licorice\", \"ruby\", \"earthy\", \"note\", \"blackberry\", \"oak\", \"body\", \"cherry\", \"tobacco\", \"flavor\", \"chocolate\", \"acidity\", \"plum\", \"aroma\", \"pepper\", \"rich\", \"bodied\", \"deep\", \"black\", \"dark\", \"spice\", \"excellent\", \"tannin\", \"finish\", \"good\", \"red\", \"fruit\", \"nose\", \"elegant\", \"year\", \"smooth\", \"delicious\", \"vintage\", \"berry\", \"amazing\", \"palate\", \"beautiful\", \"bit\", \"cab\", \"nice\", \"complex\", \"long\", \"finish\", \"bottle\", \"sweet\", \"tannin\", \"nose\", \"ripe\", \"bodied\", \"fruit\", \"red\", \"rich\", \"dark\", \"good\", \"spice\", \"deep\", \"chocolate\", \"plum\", \"black\", \"cherry\", \"oak\", \"acidity\", \"great\", \"wine\", \"taste\", \"dry\", \"balanced\", \"color\", \"excellent\", \"bottle\", \"aroma\", \"good\", \"sweet\", \"pepper\", \"flavor\", \"complex\", \"ripe\", \"red\", \"acidity\", \"fruit\", \"nose\", \"body\", \"beautiful\", \"black\", \"blackberry\", \"deep\", \"spice\", \"amazing\", \"long\", \"ruby\", \"dark\", \"nice\", \"tannin\", \"cherry\", \"finish\", \"plum\"], \"Freq\": [317.0, 130.0, 175.0, 85.0, 91.0, 175.0, 93.0, 115.0, 102.0, 75.0, 56.0, 62.0, 43.0, 71.0, 46.0, 214.0, 90.0, 132.0, 29.0, 164.0, 91.0, 31.0, 40.0, 79.0, 85.0, 276.0, 73.0, 79.0, 34.0, 45.0, 170.31680555108264, 43.581395814913215, 93.37740171668182, 31.052433917619364, 27.486441136812527, 37.213919573849644, 32.090469182900435, 73.47278972650845, 70.23944063291512, 99.43251551088892, 61.54791239966878, 153.18049657071396, 33.02316817331144, 52.35310468107255, 48.24838240181403, 91.07766816764651, 57.228855321848926, 43.21930137810565, 37.229957287538994, 28.554254492454447, 18.451780424631306, 25.82362741296574, 65.06315149055546, 81.49573337105863, 39.826277442354865, 14.539176425286136, 57.65188275448215, 60.43608460613573, 78.69097451925055, 61.63367964833502, 84.57959288005031, 56.37288500717384, 27.392075943900128, 39.08268729828852, 82.46535716504513, 26.78005503081975, 20.67648087324948, 62.37318071916295, 20.456643548219564, 91.66867873640184, 20.74678289044035, 54.56095898296677, 25.938263450697463, 129.12485790432765, 28.227194477957767, 49.35926716945033, 89.21144148162516, 20.12872415700352, 37.62757259238404, 71.14435188897347, 88.42577526895097, 25.94806180724646, 15.749873552669465, 121.4394526285167, 80.8737800963764, 19.05633135222585, 59.61740008604598, 76.95753737823249, 25.86498540106367, 15.33292727844906, 23.636756542479052, 28.429682200832445, 38.165265745347824, 43.877799721142395, 26.884324154692397, 21.113146141516715, 123.82325897357137, 292.0178087752573, 72.79215585603822, 71.33599509489413, 43.81296644970609, 43.09822660825194, 19.535338147402427, 14.800467759193847, 25.427376025227503, 77.56452531937671, 23.683408364741805, 18.88395885615587, 23.311652687805612, 11.756606940630961, 14.743411652563282, 49.33007603432663, 38.23852033435734, 70.15596539338975, 43.85587133664556, 18.90756546655751, 5.753950041542905, 27.26325140906091, 17.241086632180686, 9.688012059455561, 14.988275425315727, 4.217069841219582, 13.027106554655141, 7.2533024869990665, 23.336503361476797, 22.988596479390207, 16.775970125208993, 17.55014457950372, 14.48241584626639, 10.696471287419126], \"Total\": [317.0, 130.0, 175.0, 85.0, 91.0, 175.0, 93.0, 115.0, 102.0, 75.0, 56.0, 62.0, 43.0, 71.0, 46.0, 214.0, 90.0, 132.0, 29.0, 164.0, 91.0, 31.0, 40.0, 79.0, 85.0, 276.0, 73.0, 79.0, 34.0, 45.0, 175.32769031764855, 46.31451076118513, 102.69833169636915, 34.85252293409917, 31.72142207352421, 45.823630532766096, 39.72454113982769, 91.63436770554016, 90.37691749081947, 132.97094022599288, 85.9253274333473, 214.60844087136007, 47.4980014316201, 79.47935047516361, 78.42663712027833, 150.42933464352055, 96.3550088101005, 73.06226668351708, 64.04829575373877, 50.13584563292091, 35.00478986760714, 50.84456675087036, 130.4916686449642, 164.4496368185814, 80.67953826873426, 36.475913899650116, 145.57220476866462, 164.12994193402727, 233.21303721685976, 191.83753577903803, 276.17501090195674, 188.65453161277037, 29.03450862439348, 43.4816387508126, 93.13451514942736, 31.145576280723382, 24.267831153232205, 75.03944102731975, 25.09227705334522, 115.16568005357759, 27.013320519427023, 71.27870242158625, 34.27023710443902, 175.1014616541591, 40.46725177201754, 79.19030485764094, 164.12994193402727, 38.71952843548104, 72.94007812680131, 145.57220476866462, 188.65453161277037, 55.88700482435636, 35.00478986760714, 276.17501090195674, 191.83753577903803, 50.13584563292091, 164.4496368185814, 233.21303721685976, 80.67953826873426, 50.84456675087036, 78.42663712027833, 96.3550088101005, 130.4916686449642, 214.60844087136007, 132.97094022599288, 150.42933464352055, 130.26810584235267, 317.87826726981666, 85.70030833851204, 91.278600169792, 56.20501234406183, 62.498437300158926, 36.475913899650116, 38.71952843548104, 73.06226668351708, 233.21303721685976, 72.94007812680131, 64.04829575373877, 79.47935047516361, 40.46725177201754, 55.88700482435636, 191.83753577903803, 150.42933464352055, 276.17501090195674, 188.65453161277037, 85.9253274333473, 27.013320519427023, 130.4916686449642, 90.37691749081947, 50.84456675087036, 80.67953826873426, 25.09227705334522, 79.19030485764094, 45.823630532766096, 164.4496368185814, 175.1014616541591, 145.57220476866462, 214.60844087136007, 164.12994193402727, 96.3550088101005], \"Category\": [\"Default\", \"Default\", \"Default\", \"Default\", \"Default\", \"Default\", \"Default\", \"Default\", \"Default\", \"Default\", \"Default\", \"Default\", \"Default\", \"Default\", \"Default\", \"Default\", \"Default\", \"Default\", \"Default\", \"Default\", \"Default\", \"Default\", \"Default\", \"Default\", \"Default\", \"Default\", \"Default\", \"Default\", \"Default\", \"Default\", \"Topic1\", \"Topic1\", \"Topic1\", \"Topic1\", \"Topic1\", \"Topic1\", \"Topic1\", \"Topic1\", \"Topic1\", \"Topic1\", \"Topic1\", \"Topic1\", \"Topic1\", \"Topic1\", \"Topic1\", \"Topic1\", \"Topic1\", \"Topic1\", \"Topic1\", \"Topic1\", \"Topic1\", \"Topic1\", \"Topic1\", \"Topic1\", \"Topic1\", \"Topic1\", \"Topic1\", \"Topic1\", \"Topic1\", \"Topic1\", \"Topic1\", \"Topic1\", \"Topic2\", \"Topic2\", \"Topic2\", \"Topic2\", \"Topic2\", \"Topic2\", \"Topic2\", \"Topic2\", \"Topic2\", \"Topic2\", \"Topic2\", \"Topic2\", \"Topic2\", \"Topic2\", \"Topic2\", \"Topic2\", \"Topic2\", \"Topic2\", \"Topic2\", \"Topic2\", \"Topic2\", \"Topic2\", \"Topic2\", \"Topic2\", \"Topic2\", \"Topic2\", \"Topic2\", \"Topic2\", \"Topic2\", \"Topic2\", \"Topic2\", \"Topic2\", \"Topic2\", \"Topic2\", \"Topic3\", \"Topic3\", \"Topic3\", \"Topic3\", \"Topic3\", \"Topic3\", \"Topic3\", \"Topic3\", \"Topic3\", \"Topic3\", \"Topic3\", \"Topic3\", \"Topic3\", \"Topic3\", \"Topic3\", \"Topic3\", \"Topic3\", \"Topic3\", \"Topic3\", \"Topic3\", \"Topic3\", \"Topic3\", \"Topic3\", \"Topic3\", \"Topic3\", \"Topic3\", \"Topic3\", \"Topic3\", \"Topic3\", \"Topic3\", \"Topic3\", \"Topic3\", \"Topic3\", \"Topic3\"], \"logprob\": [30.0, 29.0, 28.0, 27.0, 26.0, 25.0, 24.0, 23.0, 22.0, 21.0, 20.0, 19.0, 18.0, 17.0, 16.0, 15.0, 14.0, 13.0, 12.0, 11.0, 10.0, 9.0, 8.0, 7.0, 6.0, 5.0, 4.0, 3.0, 2.0, 1.0, -2.5262999534606934, -3.8893001079559326, -3.1273000240325928, -4.228300094604492, -4.350299835205078, -4.047299861907959, -4.195400238037109, -3.367000102996826, -3.412100076675415, -3.064500093460083, -3.544100046157837, -2.6322999000549316, -4.166800022125244, -3.705899953842163, -3.787600040435791, -3.1521999835968018, -3.6168999671936035, -3.897700071334839, -4.046800136566162, -4.31220006942749, -4.748799800872803, -4.412700176239014, -3.488600015640259, -3.263400077819824, -3.9793999195098877, -4.987100124359131, -3.609499931335449, -3.5624001026153564, -3.2983999252319336, -3.542799949645996, -3.226300001144409, -3.631999969482422, -4.131199836730957, -3.775700092315674, -3.0290000438690186, -4.153800010681152, -4.412399768829346, -3.308300018310547, -4.423099994659424, -2.9231998920440674, -4.408999919891357, -3.4421000480651855, -4.185699939727783, -2.5806000232696533, -4.101099967956543, -3.54229998588562, -2.9504001140594482, -4.439300060272217, -3.813699960708618, -3.1767001152038574, -2.9593000411987305, -4.185299873352051, -4.684599876403809, -2.6419999599456787, -3.0485000610351562, -4.49399995803833, -3.3534998893737793, -3.0982000827789307, -4.188499927520752, -4.711400032043457, -4.278600215911865, -4.093999862670898, -3.799499988555908, -3.6600000858306885, -4.149899959564209, -4.391499996185303, -2.4026999473571777, -1.544800043106079, -2.934000015258789, -2.954200029373169, -3.441699981689453, -3.4581000804901123, -4.2494001388549805, -4.526899814605713, -3.98580002784729, -2.870500087738037, -4.05679988861084, -4.283299922943115, -4.0725998878479, -4.757199764251709, -4.530799865722656, -3.322999954223633, -3.577699899673462, -2.970900058746338, -3.440700054168701, -4.2820000648498535, -5.471700191497803, -3.9159998893737793, -4.374300003051758, -4.950699806213379, -4.5142998695373535, -5.782400131225586, -4.6545000076293945, -5.240099906921387, -4.071599960327148, -4.086599826812744, -4.401599884033203, -4.356500148773193, -4.548600196838379, -4.8516998291015625], \"loglift\": [30.0, 29.0, 28.0, 27.0, 26.0, 25.0, 24.0, 23.0, 22.0, 21.0, 20.0, 19.0, 18.0, 17.0, 16.0, 15.0, 14.0, 13.0, 12.0, 11.0, 10.0, 9.0, 8.0, 7.0, 6.0, 5.0, 4.0, 3.0, 2.0, 1.0, 0.8642, 0.8324, 0.7981, 0.7778, 0.7499, 0.6851, 0.6798, 0.6723, 0.6411, 0.6026, 0.5596, 0.556, 0.5297, 0.4757, 0.4074, 0.3914, 0.3722, 0.3682, 0.3507, 0.3303, 0.2529, 0.2157, 0.1973, 0.1912, 0.1873, -0.0266, -0.033, -0.1059, -0.1932, -0.2422, -0.2901, -0.3147, 1.0575, 1.0091, 0.9941, 0.9647, 0.9556, 0.9309, 0.9115, 0.8876, 0.8518, 0.8485, 0.8372, 0.8112, 0.7556, 0.643, 0.5061, 0.4616, 0.4539, 0.3998, 0.358, 0.3485, 0.3171, 0.2941, 0.252, 0.1484, 0.1011, 0.0071, -0.0218, -0.083, -0.0836, -0.1048, -0.1136, -0.4716, -0.4828, -0.8478, 1.2849, 1.2507, 1.1724, 1.0891, 1.0865, 0.9639, 0.7112, 0.3739, 0.2801, 0.2348, 0.2107, 0.1143, 0.1091, 0.0995, 0.0031, -0.0225, -0.034, -0.0347, -0.1234, -0.1783, -0.2108, -0.2302, -0.3211, -0.3223, -0.3476, -0.4478, -0.4692, -0.5077, -0.617, -0.6948, -0.8251, -1.1682, -1.0921, -0.8625]}, \"token.table\": {\"Topic\": [1, 2, 3, 2, 3, 1, 2, 3, 1, 2, 3, 1, 2, 3, 1, 2, 3, 1, 2, 3, 1, 2, 3, 1, 2, 3, 1, 2, 3, 1, 2, 3, 1, 2, 3, 1, 2, 3, 1, 2, 3, 1, 2, 3, 1, 2, 3, 1, 2, 3, 1, 2, 3, 2, 3, 1, 2, 3, 1, 2, 3, 1, 2, 3, 1, 2, 3, 1, 2, 3, 1, 2, 3, 1, 2, 3, 1, 2, 3, 1, 2, 3, 1, 2, 3, 1, 2, 3, 1, 2, 3, 1, 2, 3, 1, 2, 3, 1, 2, 3, 1, 2, 3, 1, 2, 3, 1, 2, 3, 1, 2, 3, 1, 2, 3, 1, 2, 3, 1, 2, 3, 1, 2, 3, 1, 2, 3, 1, 2, 3, 1, 2, 3, 1, 2, 3, 1, 2, 3, 1, 2, 3, 1, 2, 3, 1, 2, 3, 1, 2, 3, 1, 2, 3, 1, 2, 3, 1, 2, 3, 1, 2, 3], \"Freq\": [0.6049352024034871, 0.13960043132388164, 0.25261030430035725, 0.7970579934806541, 0.1594115986961308, 0.5885390907219259, 0.05474782239273729, 0.34217388995460807, 0.17792007479305394, 0.035584014958610785, 0.7828483290894374, 0.03701877372982842, 0.7773942483263968, 0.2221126423789705, 0.1465895780859456, 0.8262321673935117, 0.026652650561081022, 0.1823826691332002, 0.7716189847943086, 0.05611774434867699, 0.49811609181616834, 0.2912063306002215, 0.20690976121594684, 0.7745340507670073, 0.03319431646144317, 0.18810112661484465, 0.9500262288611961, 0.04318301040278164, 0.02159150520139082, 0.8894621505196709, 0.05738465487223684, 0.05738465487223684, 0.5142153421882674, 0.4570803041673488, 0.0285675190104593, 0.7215567499360849, 0.05819006047871653, 0.2211222298191228, 0.1033070432834755, 0.5165352164173775, 0.3874014123130331, 0.20425887275502075, 0.758675813090077, 0.029179838965002963, 0.7129262920823827, 0.20502455458578325, 0.08387368142145678, 0.6120369527815558, 0.3060184763907779, 0.08925538894731022, 0.2880072011009182, 0.032000800122324244, 0.6880172026299713, 0.6919175079579175, 0.29653607483910754, 0.49255201511547325, 0.3648533445299802, 0.13986044873649242, 0.5113624062802135, 0.2950167728539693, 0.19667784856931286, 0.12842915359622611, 0.8668967867745262, 0.03210728839905653, 0.20815393711841687, 0.01095547037465352, 0.7778383966003999, 0.8055473790713445, 0.07552006678793856, 0.10069342238391807, 0.03444177454271932, 0.9299279126534217, 0.03444177454271932, 0.4112302721534794, 0.05483070295379726, 0.5483070295379725, 0.36556401161780255, 0.5422532838997404, 0.08529826937748726, 0.6542579888879364, 0.05032753760676434, 0.289383341238895, 0.30777585460175955, 0.43812798125662245, 0.2534624684955667, 0.3387460707290545, 0.33017022083717973, 0.3344581457831171, 0.030705904366497075, 0.015352952183248537, 0.9518830353614094, 0.8511598230816748, 0.06304887578382776, 0.06304887578382776, 0.21467274346980492, 0.6187626135306142, 0.16416150971220375, 0.969612955557698, 0.01140721124185527, 0.017110816862782905, 0.13135241580922402, 0.7367157234517347, 0.13135241580922402, 0.2968388806845351, 0.4664610982185552, 0.2332305491092776, 0.796644335830196, 0.08730348885810367, 0.10912936107262959, 0.7445235765930734, 0.20305188452538367, 0.05264308117324762, 0.16497970568281092, 0.7988491012009793, 0.03473256961743388, 0.5776890636132211, 0.12490574348393971, 0.29665114077435684, 0.5915623972629944, 0.2905920547958569, 0.11416116438408665, 0.3231901397618698, 0.42223227936631375, 0.2554244652956713, 0.5784284603939662, 0.3789703706029434, 0.059837426937306856, 0.2683987099888879, 0.46522443064740565, 0.2683987099888879, 0.8074436610504535, 0.02182280165001226, 0.1527596115500858, 0.07516010566833385, 0.880446952114768, 0.042948631810476486, 0.4957886579217224, 0.32226262764911956, 0.18592074672064587, 0.1645186063433991, 0.5209755867540972, 0.3290372126867982, 0.3984277087248244, 0.48773047102521605, 0.1167805353158968, 0.0933485556247988, 0.05834284726549925, 0.8518055700762891, 0.69476607447385, 0.18948165667468636, 0.1263211044497909, 0.9055648564473027, 0.08763530868844864, 0.009737256520938738, 0.08241362762793174, 0.8653430900932831, 0.04120681381396587, 0.018875150074060175, 0.06291716691353391, 0.9185906369375951, 0.022998213239635815, 0.8969303163457968, 0.09199285295854326], \"Term\": [\"acidity\", \"acidity\", \"acidity\", \"amazing\", \"amazing\", \"aroma\", \"aroma\", \"aroma\", \"balanced\", \"balanced\", \"balanced\", \"beautiful\", \"beautiful\", \"beautiful\", \"berry\", \"berry\", \"berry\", \"bit\", \"bit\", \"bit\", \"black\", \"black\", \"black\", \"blackberry\", \"blackberry\", \"blackberry\", \"blend\", \"blend\", \"blend\", \"blueberry\", \"blueberry\", \"blueberry\", \"bodied\", \"bodied\", \"bodied\", \"body\", \"body\", \"body\", \"bottle\", \"bottle\", \"bottle\", \"cab\", \"cab\", \"cab\", \"cherry\", \"cherry\", \"cherry\", \"chocolate\", \"chocolate\", \"chocolate\", \"color\", \"color\", \"color\", \"complex\", \"complex\", \"dark\", \"dark\", \"dark\", \"deep\", \"deep\", \"deep\", \"delicious\", \"delicious\", \"delicious\", \"dry\", \"dry\", \"dry\", \"earthy\", \"earthy\", \"earthy\", \"elegant\", \"elegant\", \"elegant\", \"excellent\", \"excellent\", \"excellent\", \"finish\", \"finish\", \"finish\", \"flavor\", \"flavor\", \"flavor\", \"fruit\", \"fruit\", \"fruit\", \"good\", \"good\", \"good\", \"great\", \"great\", \"great\", \"licorice\", \"licorice\", \"licorice\", \"long\", \"long\", \"long\", \"medium\", \"medium\", \"medium\", \"nice\", \"nice\", \"nice\", \"nose\", \"nose\", \"nose\", \"note\", \"note\", \"note\", \"oak\", \"oak\", \"oak\", \"palate\", \"palate\", \"palate\", \"pepper\", \"pepper\", \"pepper\", \"plum\", \"plum\", \"plum\", \"red\", \"red\", \"red\", \"rich\", \"rich\", \"rich\", \"ripe\", \"ripe\", \"ripe\", \"ruby\", \"ruby\", \"ruby\", \"smooth\", \"smooth\", \"smooth\", \"spice\", \"spice\", \"spice\", \"sweet\", \"sweet\", \"sweet\", \"tannin\", \"tannin\", \"tannin\", \"taste\", \"taste\", \"taste\", \"tobacco\", \"tobacco\", \"tobacco\", \"vanilla\", \"vanilla\", \"vanilla\", \"vintage\", \"vintage\", \"vintage\", \"wine\", \"wine\", \"wine\", \"year\", \"year\", \"year\"]}, \"R\": 30, \"lambda.step\": 0.01, \"plot.opts\": {\"xlab\": \"PC1\", \"ylab\": \"PC2\"}, \"topic.order\": [1, 2, 3]};\n",
       "\n",
       "function LDAvis_load_lib(url, callback){\n",
       "  var s = document.createElement('script');\n",
       "  s.src = url;\n",
       "  s.async = true;\n",
       "  s.onreadystatechange = s.onload = callback;\n",
       "  s.onerror = function(){console.warn(\"failed to load library \" + url);};\n",
       "  document.getElementsByTagName(\"head\")[0].appendChild(s);\n",
       "}\n",
       "\n",
       "if(typeof(LDAvis) !== \"undefined\"){\n",
       "   // already loaded: just create the visualization\n",
       "   !function(LDAvis){\n",
       "       new LDAvis(\"#\" + \"ldavis_el2061396807436953688561692645\", ldavis_el2061396807436953688561692645_data);\n",
       "   }(LDAvis);\n",
       "}else if(typeof define === \"function\" && define.amd){\n",
       "   // require.js is available: use it to load d3/LDAvis\n",
       "   require.config({paths: {d3: \"https://cdnjs.cloudflare.com/ajax/libs/d3/3.5.5/d3.min\"}});\n",
       "   require([\"d3\"], function(d3){\n",
       "      window.d3 = d3;\n",
       "      LDAvis_load_lib(\"https://cdn.rawgit.com/bmabey/pyLDAvis/files/ldavis.v1.0.0.js\", function(){\n",
       "        new LDAvis(\"#\" + \"ldavis_el2061396807436953688561692645\", ldavis_el2061396807436953688561692645_data);\n",
       "      });\n",
       "    });\n",
       "}else{\n",
       "    // require.js not available: dynamically load d3 & LDAvis\n",
       "    LDAvis_load_lib(\"https://cdnjs.cloudflare.com/ajax/libs/d3/3.5.5/d3.min.js\", function(){\n",
       "         LDAvis_load_lib(\"https://cdn.rawgit.com/bmabey/pyLDAvis/files/ldavis.v1.0.0.js\", function(){\n",
       "                 new LDAvis(\"#\" + \"ldavis_el2061396807436953688561692645\", ldavis_el2061396807436953688561692645_data);\n",
       "            })\n",
       "         });\n",
       "}\n",
       "</script>"
      ],
      "text/plain": [
       "<IPython.core.display.HTML object>"
      ]
     },
     "execution_count": 31,
     "metadata": {
      "tags": []
     },
     "output_type": "execute_result"
    }
   ],
   "source": [
    "pyLDAvis.display(lda_display)"
   ]
  },
  {
   "cell_type": "markdown",
   "metadata": {
    "id": "FLWaHW8YhNSd"
   },
   "source": [
    "# Counting words\n",
    "\n",
    "Potential step in preprocessing and better understanding of models.\n",
    "\n",
    "**To do:**\n",
    "1. Count all words by each rating class\n",
    "2. Graph the words with most and the least overlap between classes.\n",
    "3. Tune models so they 1) only exclude most common overlapping words and 2) only include least overlapping words. "
   ]
  },
  {
   "cell_type": "markdown",
   "metadata": {
    "id": "nyQmkAsQte31"
   },
   "source": [
    "### By rating"
   ]
  },
  {
   "cell_type": "code",
   "execution_count": null,
   "metadata": {
    "colab": {
     "base_uri": "https://localhost:8080/"
    },
    "executionInfo": {
     "elapsed": 69744,
     "status": "ok",
     "timestamp": 1606063444082,
     "user": {
      "displayName": "Christian Stolborg",
      "photoUrl": "",
      "userId": "15409349448965301108"
     },
     "user_tz": -60
    },
    "id": "Zz9yZSaOtgs9",
    "outputId": "b859ac1e-c721-4198-f4da-e25a85028a02"
   },
   "outputs": [
    {
     "name": "stdout",
     "output_type": "stream",
     "text": [
      "[nltk_data] Downloading package stopwords to /root/nltk_data...\n",
      "[nltk_data]   Unzipping corpora/stopwords.zip.\n"
     ]
    }
   ],
   "source": [
    "# Function for drawing graphs\n",
    "def graph(word_frequency, sent):\n",
    "    n=len(word_frequency)\n",
    "    labels = word_frequency[0][:n].index\n",
    "    title = \"Word Frequency for %s\" %sent\n",
    "    \n",
    "    #Plot the figures\n",
    "    plt.figure(figsize=(10,5))\n",
    "    plt.bar(np.arange(n), word_frequency[0][:n], width = 0.8, color = sns.color_palette(\"mako\"), alpha=0.5, \n",
    "            edgecolor = \"black\", capsize=8, linewidth=1);\n",
    "    plt.xticks(np.arange(n), labels, rotation=90, size=10);\n",
    "    plt.xlabel(f\"{n} most frequent words\", size=10);\n",
    "    plt.ylabel(\"Frequency\", size=10);\n",
    "\n",
    "    plt.title(title, size=15)\n",
    "    plt.grid(False);\n",
    "    plt.gca().spines[\"top\"].set_visible(False);\n",
    "    plt.gca().spines[\"right\"].set_visible(False);\n",
    "    plt.show()\n",
    "\n",
    "\n",
    "\n",
    "from nltk.corpus import stopwords\n",
    "nltk.download('stopwords')\n",
    "\n",
    "# Storing stopwords of english language from nltk library\n",
    "sw = set(stopwords.words(\"english\"))\n",
    "\n",
    "sw_new = []   #Empty list for stroring\n",
    "for i in sw:\n",
    "    sw_new.append(i)\n"
   ]
  },
  {
   "cell_type": "code",
   "execution_count": null,
   "metadata": {
    "colab": {
     "base_uri": "https://localhost:8080/",
     "height": 1000
    },
    "executionInfo": {
     "elapsed": 70951,
     "status": "ok",
     "timestamp": 1606063445299,
     "user": {
      "displayName": "Christian Stolborg",
      "photoUrl": "",
      "userId": "15409349448965301108"
     },
     "user_tz": -60
    },
    "id": "lINt0MRDt5qt",
    "outputId": "32275b96-678a-490b-d86f-46f7d4939c75"
   },
   "outputs": [
    {
     "data": {
      "image/png": "[encoded data removed]",
      "text/plain": [
       "<Figure size 720x360 with 1 Axes>"
      ]
     },
     "metadata": {
      "needs_background": "light",
      "tags": []
     },
     "output_type": "display_data"
    },
    {
     "data": {
      "image/png": "[encoded data removed]",
      "text/plain": [
       "<Figure size 720x360 with 1 Axes>"
      ]
     },
     "metadata": {
      "needs_background": "light",
      "tags": []
     },
     "output_type": "display_data"
    },
    {
     "data": {
      "image/png": "[encoded data removed]",
      "text/plain": [
       "<Figure size 720x360 with 1 Axes>"
      ]
     },
     "metadata": {
      "needs_background": "light",
      "tags": []
     },
     "output_type": "display_data"
    },
    {
     "data": {
      "image/png": "[encoded data removed]",
      "text/plain": [
       "<Figure size 720x360 with 1 Axes>"
      ]
     },
     "metadata": {
      "needs_background": "light",
      "tags": []
     },
     "output_type": "display_data"
    }
   ],
   "source": [
    "def n_largest_df(df, n_largest, label):\n",
    "    df = df[df['ratings_cut'] == label].T.sum(axis=1).drop('ratings_cut').nlargest(n_largest)\n",
    "    return pd.DataFrame(df)\n",
    "\n",
    "def overlap_fun(df, n_words):\n",
    "    ''' Return a list of top n overlapping words between classes '''\n",
    "    words_class_0 = n_largest_df(df, n_words, 0).index\n",
    "    words_class_1 = n_largest_df(df, n_words, 1).index\n",
    "\n",
    "    return list(set(words_class_0) & set(words_class_1))\n",
    "\n",
    "count_df['ratings_cut'] = df['ratings_cut'].astype(int).to_numpy()\n",
    "\n",
    "\n",
    "overlap = overlap_fun(count_df, 100)\n",
    "non_overlap = list(n_largest_df(count_df, 100, 0).drop(overlap).index)\n",
    "\n",
    "\n",
    "# Least overlapping words\n",
    "graph(n_largest_df(count_df, 100, 0).drop(overlap), 'Non-overlapping: Bad')\n",
    "graph(n_largest_df(count_df, 100, 1).drop(overlap), 'Non-overlapping: Good')\n",
    "\n",
    "\n",
    "# Overlapping words\n",
    "graph(n_largest_df(count_df, 100, 0).loc[overlap[:50]].sort_values(0, ascending=False), 'Overlapping: Bad')\n",
    "graph(n_largest_df(count_df, 100, 1).loc[overlap[:50]].sort_values(0, ascending=False), 'Overlapping: Good')"
   ]
  },
  {
   "cell_type": "markdown",
   "metadata": {
    "id": "rzmwvbq3l0nU"
   },
   "source": [
    "## Tune models using word counts"
   ]
  },
  {
   "cell_type": "code",
   "execution_count": null,
   "metadata": {
    "id": "Jd2OeRRNqqxj"
   },
   "outputs": [],
   "source": [
    "overlap = overlap_fun(count_df, 200)\n",
    "non_overlap = list(n_largest_df(count_df, 200, 0).drop(overlap).index)\n",
    "\n",
    "X = tfidf_df.drop(overlap, axis=1).to_numpy()\n",
    "y = df['ratings_cut'].to_numpy()\n",
    "\n",
    "X_train, X_test, y_train, y_test = train_test_split(X,y, test_size=0.20, random_state=42)"
   ]
  },
  {
   "cell_type": "code",
   "execution_count": null,
   "metadata": {
    "colab": {
     "base_uri": "https://localhost:8080/"
    },
    "executionInfo": {
     "elapsed": 72695,
     "status": "ok",
     "timestamp": 1606063447211,
     "user": {
      "displayName": "Christian Stolborg",
      "photoUrl": "",
      "userId": "15409349448965301108"
     },
     "user_tz": -60
    },
    "id": "-INda6VEY7iP",
    "outputId": "4b190790-3480-47c9-a881-c9750159ad16"
   },
   "outputs": [
    {
     "name": "stdout",
     "output_type": "stream",
     "text": [
      "Dominant score: 0.811\n",
      "Logistic score:  0.8105263157894737\n",
      "EL score:  0.0636365239136173\n",
      "Decision tree score:  0.6947368421052632\n",
      "RandomForest score:  0.7210526315789474\n",
      "XGB score: 0.6421052631578947\n"
     ]
    }
   ],
   "source": [
    "#Instantiate models\n",
    "log_clf = LogisticRegression()\n",
    "el_clf = ElasticNetCV()\n",
    "tree_clf = DecisionTreeClassifier()\n",
    "rnf_clf = RandomForestClassifier(n_estimators=500)\n",
    "xgb_clf = XGBClassifier(scale_pos_weight=class_imbalance)\n",
    "\n",
    "# Dominant model\n",
    "print('Dominant score:', round(np.bincount(y)[0] / len(y), 4))\n",
    "\n",
    "# Logistic regression\n",
    "log_clf.fit(X_train, y_train)\n",
    "print(\"Logistic score: \", log_clf.score(X_test,y_test))\n",
    "\n",
    "# Elastic net\n",
    "el_clf.fit(X_train, y_train)\n",
    "print(\"EL score: \", el_clf.score(X_test,y_test))\n",
    "\n",
    "# Tree model with CV\n",
    "parameters_tree = {\"max_depth\": [3,10,20, None],\n",
    "                   \"max_leaf_nodes\":[3,5,10,None]}\n",
    "\n",
    "grid_tree = GridSearchCV(tree_clf, parameters_tree, cv = 5, scoring='recall')\n",
    "tree_clf = grid_tree.fit(X_train, y_train).best_estimator_\n",
    "print(\"Decision tree score: \", tree_clf.score(X_test,y_test))\n",
    "\n",
    "\n",
    "# RF with CV\n",
    "parameters_rnf = {'bootstrap': [True, False],\n",
    " 'max_depth': [3,10, 20, None],\n",
    " 'min_samples_split': [2, 5, 10],\n",
    " 'n_estimators': [500]}\n",
    "\n",
    "#grid_rnf = GridSearchCV(rnf_clf, parameters_rnf,cv = 5)\n",
    "#rnf_clf = grid_rnf.fit(X_train, y_train).best_estimator_\n",
    "rnf_clf.fit(X_train, y_train)\n",
    "\n",
    "print(\"RandomForest score: \", rnf_clf.score(X_test,y_test))\n",
    "\n",
    "# XGBoost\n",
    "xgb_clf.fit(X_train, y_train)\n",
    "print('XGB score:', xgb_clf.score(X_test, y_test))"
   ]
  },
  {
   "cell_type": "code",
   "execution_count": null,
   "metadata": {
    "colab": {
     "base_uri": "https://localhost:8080/"
    },
    "executionInfo": {
     "elapsed": 75447,
     "status": "ok",
     "timestamp": 1606063449970,
     "user": {
      "displayName": "Christian Stolborg",
      "photoUrl": "",
      "userId": "15409349448965301108"
     },
     "user_tz": -60
    },
    "id": "_eYmkJ9arhFx",
    "outputId": "36f15be8-5837-4268-a51a-a1c9f0ee27f5"
   },
   "outputs": [
    {
     "name": "stdout",
     "output_type": "stream",
     "text": [
      "Dominant score: 0.811\n",
      "Logistic score:  0.8105263157894737\n",
      "EL score:  0.031227069761530668\n",
      "Decision tree score:  0.7157894736842105\n",
      "RandomForest score:  0.7842105263157895\n",
      "XGB score: 0.7052631578947368\n"
     ]
    }
   ],
   "source": [
    "X = tfidf_df[overlap].to_numpy()\n",
    "y = df['ratings_cut'].to_numpy()\n",
    "\n",
    "X_train, X_test, y_train, y_test = train_test_split(X,y, test_size=0.20, random_state=42)\n",
    "\n",
    "#Instantiate models\n",
    "log_clf = LogisticRegression()\n",
    "el_clf = ElasticNetCV()\n",
    "tree_clf = DecisionTreeClassifier()\n",
    "rnf_clf = RandomForestClassifier(n_estimators=500)\n",
    "\n",
    "# Dominant model\n",
    "print('Dominant score:', round(np.bincount(y)[0] / len(y), 4))\n",
    "\n",
    "# Logistic regression\n",
    "log_clf.fit(X_train, y_train)\n",
    "print(\"Logistic score: \", log_clf.score(X_test,y_test))\n",
    "\n",
    "# Elastic net\n",
    "el_clf.fit(X_train, y_train)\n",
    "print(\"EL score: \", el_clf.score(X_test,y_test))\n",
    "\n",
    "# Tree model with CV\n",
    "parameters_tree = {\"max_depth\": [3,10,20, None],\n",
    "                   \"max_leaf_nodes\":[3,5,10,None]}\n",
    "\n",
    "grid_tree = GridSearchCV(tree_clf, parameters_tree, cv = 5, scoring='recall')\n",
    "tree_clf = grid_tree.fit(X_train, y_train).best_estimator_\n",
    "print(\"Decision tree score: \", tree_clf.score(X_test,y_test))\n",
    "\n",
    "\n",
    "# RF with CV\n",
    "parameters_rnf = {'bootstrap': [True, False],\n",
    " 'max_depth': [3,10, 20, None],\n",
    " 'min_samples_split': [2, 5, 10],\n",
    " 'n_estimators': [500]}\n",
    "\n",
    "#grid_rnf = GridSearchCV(rnf_clf, parameters_rnf,cv = 5)\n",
    "#rnf_clf = grid_rnf.fit(X_train, y_train).best_estimator_\n",
    "rnf_clf.fit(X_train, y_train)\n",
    "\n",
    "print(\"RandomForest score: \", rnf_clf.score(X_test,y_test))\n",
    "\n",
    "# XGBoost\n",
    "xgb_clf.fit(X_train, y_train)\n",
    "print('XGB score:', xgb_clf.score(X_test, y_test))"
   ]
  },
  {
   "cell_type": "code",
   "execution_count": null,
   "metadata": {
    "id": "rU2C1nKsrr3i"
   },
   "outputs": [],
   "source": []
  }
 ],
 "metadata": {
  "colab": {
   "collapsed_sections": [
    "xTxjCXPWsG5J"
   ],
   "name": "NLP.ipynb",
   "provenance": [],
   "toc_visible": true
  },
  "kernelspec": {
   "display_name": "Python 3",
   "language": "python",
   "name": "python3"
  }
 },
 "nbformat": 4,
 "nbformat_minor": 1
}
